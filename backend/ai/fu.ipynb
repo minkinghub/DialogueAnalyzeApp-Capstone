{
 "cells": [
  {
   "cell_type": "code",
   "execution_count": 1,
   "metadata": {},
   "outputs": [
    {
     "name": "stdout",
     "output_type": "stream",
     "text": [
      "<?xml version=\"1.0\" encoding=\"UTF-8\"?>\n",
      "<response><header><resultCode>13</resultCode><resultMsg>유효한 요청주소가 아닙니다.</resultMsg><requestParameter /></header></response>\n",
      "\n"
     ]
    }
   ],
   "source": [
    "import requests\n",
    "\n",
    "# 발급받은 API 키를 여기에 입력하세요.\n",
    "api_key = '20240304FY8DBNH2PMI8T9Q0GMVOQ'\n",
    "\n",
    "# '농사로 API' 요청 URL 예\n",
    "base_url = 'http://api.nongsaro.go.kr/service/rest/monthFd/monthFdYearList'\n",
    "\n",
    "# 파라미터 설정 예 (오퍼레이션마다 다를 수 있음)\n",
    "params = {\n",
    "    'apiKey': api_key,\n",
    "    #'serviceCode': '서비스 코드',\n",
    "    #'startItem': 1,\n",
    "    #'endItem': 5\n",
    "}\n",
    "\n",
    "# API 요청\n",
    "response = requests.get(base_url, params=params)\n",
    "\n",
    "# 응답 데이터 확인\n",
    "if response.status_code == 200:\n",
    "    print(response.text)\n",
    "else:\n",
    "    print(f'Error: {response.status_code}')\n"
   ]
  }
 ],
 "metadata": {
  "kernelspec": {
   "display_name": "Python 3",
   "language": "python",
   "name": "python3"
  },
  "language_info": {
   "codemirror_mode": {
    "name": "ipython",
    "version": 3
   },
   "file_extension": ".py",
   "mimetype": "text/x-python",
   "name": "python",
   "nbconvert_exporter": "python",
   "pygments_lexer": "ipython3",
   "version": "3.9.13"
  }
 },
 "nbformat": 4,
 "nbformat_minor": 2
}
