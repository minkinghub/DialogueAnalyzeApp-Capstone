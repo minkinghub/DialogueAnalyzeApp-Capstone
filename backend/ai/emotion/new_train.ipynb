{
 "cells": [
  {
   "cell_type": "code",
   "execution_count": 19,
   "metadata": {},
   "outputs": [
    {
     "name": "stdout",
     "output_type": "stream",
     "text": [
      "중복 제거 전 학습 데이터셋: 64770\n",
      "중복 제거 전 테스트 데이터셋: 16193\n",
      "중복 제거 후 학습 데이터셋: 59709\n",
      "중복 제거 후 테스트 데이터셋: 15350\n"
     ]
    },
    {
     "name": "stderr",
     "output_type": "stream",
     "text": [
      "Some weights of ElectraForSequenceClassification were not initialized from the model checkpoint at beomi/KcELECTRA-base and are newly initialized: ['classifier.dense.bias', 'classifier.dense.weight', 'classifier.out_proj.bias', 'classifier.out_proj.weight']\n",
      "You should probably TRAIN this model on a down-stream task to be able to use it for predictions and inference.\n"
     ]
    }
   ],
   "source": [
    "import pandas as pd\n",
    "import matplotlib.pyplot as plt\n",
    "\n",
    "import torch\n",
    "from transformers import AutoTokenizer, AutoModelForSequenceClassification, TrainingArguments, Trainer, TrainerCallback\n",
    "from sklearn.metrics import precision_recall_fscore_support, accuracy_score\n",
    "\n",
    "# gpu 설정\n",
    "device = torch.device(\"cuda\" if torch.cuda.is_available() else \"cpu\")\n",
    "df = pd.read_csv(\"./Data/emotion3.tsv\", sep=\"\\t\")\n",
    "null_idx = df[df[\"document\"].isnull()].index\n",
    "df.loc[null_idx]\n",
    "train_data = df.sample(frac=0.8, random_state=42)\n",
    "test_data = df.drop(train_data.index)\n",
    "print(\"중복 제거 전 학습 데이터셋: {}\".format(len(train_data)))\n",
    "print(\"중복 제거 전 테스트 데이터셋: {}\".format(len(test_data)))\n",
    "\n",
    "# 중복 데이터 제거\n",
    "train_data = train_data.drop_duplicates([\"document\"])\n",
    "test_data = test_data.drop_duplicates([\"document\"])\n",
    "\n",
    "# 데이터셋 갯수 확인\n",
    "print(\"중복 제거 후 학습 데이터셋: {}\".format(len(train_data)))\n",
    "print(\"중복 제거 후 테스트 데이터셋: {}\".format(len(test_data)))\n",
    "MODEL_NAME = \"beomi/KcELECTRA-base\"\n",
    "tokenizer = AutoTokenizer.from_pretrained(MODEL_NAME)\n",
    "\n",
    "tokenizer_train_sentences = tokenizer(\n",
    "    list(train_data['document']),\n",
    "    return_tensors=\"pt\",\n",
    "    max_length=128,\n",
    "    padding=True,\n",
    "    truncation=True,\n",
    "    add_special_tokens=True,\n",
    ")\n",
    "tokenizer_test_sentences = tokenizer(\n",
    "    list(test_data['document']),\n",
    "    return_tensors=\"pt\",\n",
    "    max_length=128,\n",
    "    padding=True,\n",
    "    truncation=True,\n",
    "    add_special_tokens=True,\n",
    ")\n",
    "\n",
    "class CurseDataset(torch.utils.data.Dataset):\n",
    "    def __init__(self, encodings, labels):\n",
    "        self.encodings = encodings\n",
    "        self.labels = labels\n",
    "\n",
    "    def __getitem__(self, idx):\n",
    "        item = {key: torch.tensor(val[idx]) for key, val in self.encodings.items()}\n",
    "        item[\"labels\"] = torch.tensor(self.labels[idx])\n",
    "        return item\n",
    "\n",
    "    def __len__(self):\n",
    "        return len(self.labels)\n",
    "\n",
    "train_label = train_data['label'].values\n",
    "test_label = test_data['label'].values\n",
    "\n",
    "train_dataset = CurseDataset(tokenizer_train_sentences, train_label)\n",
    "test_dataset = CurseDataset(tokenizer_test_sentences, test_label)\n",
    "\n",
    "model = AutoModelForSequenceClassification.from_pretrained(MODEL_NAME, num_labels=7).to(device)\n",
    "\n",
    "traning_args = TrainingArguments(\n",
    "    output_dir=\"./results\",\n",
    "    num_train_epochs=10,\n",
    "    per_device_train_batch_size=32,\n",
    "    per_device_eval_batch_size=32,\n",
    "    warmup_steps=500,\n",
    "    weight_decay=0.01,\n",
    "    logging_dir=\"./logs\",\n",
    ")\n",
    "\n",
    "def compute_metrics(pred):\n",
    "    labels = pred.label_ids\n",
    "    preds = pred.predictions.argmax(-1)\n",
    "    precision, recall, f1, _ = precision_recall_fscore_support(labels, preds, average=\"binary\")\n",
    "    acc = accuracy_score(labels, preds)\n",
    "    return {\n",
    "        \"accuracy\": acc,\n",
    "        \"f1\": f1,\n",
    "        \"precision\": precision,\n",
    "        \"recall\": recall,\n",
    "    }\n",
    "\n",
    "class LogCallback(TrainerCallback):\n",
    "    def on_train_epoch_end(self, args, state, control, **kwargs):\n",
    "        train_loss_values.append(state.log_history[-1][\"train_loss\"])\n",
    "        train_acc_values.append(state.log_history[-1][\"train_accuracy\"])\n",
    "        val_loss_values.append(state.log_history[-1][\"eval_loss\"])\n",
    "        val_acc_values.append(state.log_history[-1][\"eval_accuracy\"])\n",
    "\n",
    "trainer = Trainer(\n",
    "    model=model,\n",
    "    args=traning_args,\n",
    "    train_dataset=train_dataset,\n",
    "    eval_dataset=test_dataset,\n",
    "    compute_metrics=compute_metrics,\n",
    "    callbacks=[LogCallback()],\n",
    ")\n",
    "\n",
    "# 훈련 손실 및 정확도 그래프 그리기\n",
    "train_loss_values = []\n",
    "train_acc_values = []\n",
    "val_loss_values = []\n",
    "val_acc_values = []\n",
    "\n",
    "def log_callback(step, logs):\n",
    "    train_loss_values.append(logs.get(\"train_loss\"))\n",
    "    train_acc_values.append(logs.get(\"train_accuracy\"))\n",
    "    val_loss_values.append(logs.get(\"eval_loss\"))\n",
    "    val_acc_values.append(logs.get(\"eval_accuracy\"))"
   ]
  },
  {
   "cell_type": "code",
   "execution_count": 20,
   "metadata": {},
   "outputs": [
    {
     "data": {
      "application/vnd.jupyter.widget-view+json": {
       "model_id": "e1d117e4646d49a9b918ccd49134f1fa",
       "version_major": 2,
       "version_minor": 0
      },
      "text/plain": [
       "  0%|          | 0/18660 [00:00<?, ?it/s]"
      ]
     },
     "metadata": {},
     "output_type": "display_data"
    },
    {
     "name": "stderr",
     "output_type": "stream",
     "text": [
      "C:\\Users\\jhy97\\AppData\\Local\\Temp\\ipykernel_19884\\1380925816.py:51: UserWarning: To copy construct from a tensor, it is recommended to use sourceTensor.clone().detach() or sourceTensor.clone().detach().requires_grad_(True), rather than torch.tensor(sourceTensor).\n",
      "  item = {key: torch.tensor(val[idx]) for key, val in self.encodings.items()}\n"
     ]
    },
    {
     "name": "stdout",
     "output_type": "stream",
     "text": [
      "{'loss': 1.6031, 'grad_norm': 7.632872581481934, 'learning_rate': 5e-05, 'epoch': 0.27}\n"
     ]
    },
    {
     "name": "stderr",
     "output_type": "stream",
     "text": [
      "C:\\Users\\jhy97\\AppData\\Local\\Temp\\ipykernel_19884\\1380925816.py:51: UserWarning: To copy construct from a tensor, it is recommended to use sourceTensor.clone().detach() or sourceTensor.clone().detach().requires_grad_(True), rather than torch.tensor(sourceTensor).\n",
      "  item = {key: torch.tensor(val[idx]) for key, val in self.encodings.items()}\n"
     ]
    },
    {
     "name": "stdout",
     "output_type": "stream",
     "text": [
      "{'loss': 1.0331, 'grad_norm': 7.643521785736084, 'learning_rate': 4.862334801762114e-05, 'epoch': 0.54}\n"
     ]
    },
    {
     "name": "stderr",
     "output_type": "stream",
     "text": [
      "C:\\Users\\jhy97\\AppData\\Local\\Temp\\ipykernel_19884\\1380925816.py:51: UserWarning: To copy construct from a tensor, it is recommended to use sourceTensor.clone().detach() or sourceTensor.clone().detach().requires_grad_(True), rather than torch.tensor(sourceTensor).\n",
      "  item = {key: torch.tensor(val[idx]) for key, val in self.encodings.items()}\n"
     ]
    },
    {
     "name": "stdout",
     "output_type": "stream",
     "text": [
      "{'loss': 0.8893, 'grad_norm': 8.588146209716797, 'learning_rate': 4.7246696035242295e-05, 'epoch': 0.8}\n"
     ]
    },
    {
     "name": "stderr",
     "output_type": "stream",
     "text": [
      "C:\\Users\\jhy97\\AppData\\Local\\Temp\\ipykernel_19884\\1380925816.py:51: UserWarning: To copy construct from a tensor, it is recommended to use sourceTensor.clone().detach() or sourceTensor.clone().detach().requires_grad_(True), rather than torch.tensor(sourceTensor).\n",
      "  item = {key: torch.tensor(val[idx]) for key, val in self.encodings.items()}\n"
     ]
    },
    {
     "name": "stdout",
     "output_type": "stream",
     "text": [
      "{'loss': 0.8015, 'grad_norm': 11.804886817932129, 'learning_rate': 4.5870044052863435e-05, 'epoch': 1.07}\n"
     ]
    },
    {
     "name": "stderr",
     "output_type": "stream",
     "text": [
      "C:\\Users\\jhy97\\AppData\\Local\\Temp\\ipykernel_19884\\1380925816.py:51: UserWarning: To copy construct from a tensor, it is recommended to use sourceTensor.clone().detach() or sourceTensor.clone().detach().requires_grad_(True), rather than torch.tensor(sourceTensor).\n",
      "  item = {key: torch.tensor(val[idx]) for key, val in self.encodings.items()}\n"
     ]
    },
    {
     "name": "stdout",
     "output_type": "stream",
     "text": [
      "{'loss': 0.6642, 'grad_norm': 5.024416446685791, 'learning_rate': 4.449339207048459e-05, 'epoch': 1.34}\n"
     ]
    },
    {
     "name": "stderr",
     "output_type": "stream",
     "text": [
      "C:\\Users\\jhy97\\AppData\\Local\\Temp\\ipykernel_19884\\1380925816.py:51: UserWarning: To copy construct from a tensor, it is recommended to use sourceTensor.clone().detach() or sourceTensor.clone().detach().requires_grad_(True), rather than torch.tensor(sourceTensor).\n",
      "  item = {key: torch.tensor(val[idx]) for key, val in self.encodings.items()}\n"
     ]
    },
    {
     "name": "stdout",
     "output_type": "stream",
     "text": [
      "{'loss': 0.6644, 'grad_norm': 7.93439245223999, 'learning_rate': 4.311674008810573e-05, 'epoch': 1.61}\n"
     ]
    },
    {
     "name": "stderr",
     "output_type": "stream",
     "text": [
      "C:\\Users\\jhy97\\AppData\\Local\\Temp\\ipykernel_19884\\1380925816.py:51: UserWarning: To copy construct from a tensor, it is recommended to use sourceTensor.clone().detach() or sourceTensor.clone().detach().requires_grad_(True), rather than torch.tensor(sourceTensor).\n",
      "  item = {key: torch.tensor(val[idx]) for key, val in self.encodings.items()}\n"
     ]
    },
    {
     "name": "stdout",
     "output_type": "stream",
     "text": [
      "{'loss': 0.6558, 'grad_norm': 4.738731861114502, 'learning_rate': 4.1740088105726874e-05, 'epoch': 1.88}\n"
     ]
    },
    {
     "name": "stderr",
     "output_type": "stream",
     "text": [
      "C:\\Users\\jhy97\\AppData\\Local\\Temp\\ipykernel_19884\\1380925816.py:51: UserWarning: To copy construct from a tensor, it is recommended to use sourceTensor.clone().detach() or sourceTensor.clone().detach().requires_grad_(True), rather than torch.tensor(sourceTensor).\n",
      "  item = {key: torch.tensor(val[idx]) for key, val in self.encodings.items()}\n"
     ]
    },
    {
     "name": "stdout",
     "output_type": "stream",
     "text": [
      "{'loss': 0.5432, 'grad_norm': 9.378602027893066, 'learning_rate': 4.036343612334802e-05, 'epoch': 2.14}\n"
     ]
    },
    {
     "name": "stderr",
     "output_type": "stream",
     "text": [
      "C:\\Users\\jhy97\\AppData\\Local\\Temp\\ipykernel_19884\\1380925816.py:51: UserWarning: To copy construct from a tensor, it is recommended to use sourceTensor.clone().detach() or sourceTensor.clone().detach().requires_grad_(True), rather than torch.tensor(sourceTensor).\n",
      "  item = {key: torch.tensor(val[idx]) for key, val in self.encodings.items()}\n"
     ]
    },
    {
     "name": "stdout",
     "output_type": "stream",
     "text": [
      "{'loss': 0.4453, 'grad_norm': 9.513084411621094, 'learning_rate': 3.898678414096916e-05, 'epoch': 2.41}\n"
     ]
    },
    {
     "name": "stderr",
     "output_type": "stream",
     "text": [
      "C:\\Users\\jhy97\\AppData\\Local\\Temp\\ipykernel_19884\\1380925816.py:51: UserWarning: To copy construct from a tensor, it is recommended to use sourceTensor.clone().detach() or sourceTensor.clone().detach().requires_grad_(True), rather than torch.tensor(sourceTensor).\n",
      "  item = {key: torch.tensor(val[idx]) for key, val in self.encodings.items()}\n"
     ]
    },
    {
     "name": "stdout",
     "output_type": "stream",
     "text": [
      "{'loss': 0.459, 'grad_norm': 7.3465070724487305, 'learning_rate': 3.761013215859031e-05, 'epoch': 2.68}\n"
     ]
    },
    {
     "name": "stderr",
     "output_type": "stream",
     "text": [
      "C:\\Users\\jhy97\\AppData\\Local\\Temp\\ipykernel_19884\\1380925816.py:51: UserWarning: To copy construct from a tensor, it is recommended to use sourceTensor.clone().detach() or sourceTensor.clone().detach().requires_grad_(True), rather than torch.tensor(sourceTensor).\n",
      "  item = {key: torch.tensor(val[idx]) for key, val in self.encodings.items()}\n"
     ]
    },
    {
     "name": "stdout",
     "output_type": "stream",
     "text": [
      "{'loss': 0.468, 'grad_norm': 5.7838616371154785, 'learning_rate': 3.623348017621145e-05, 'epoch': 2.95}\n"
     ]
    },
    {
     "name": "stderr",
     "output_type": "stream",
     "text": [
      "C:\\Users\\jhy97\\AppData\\Local\\Temp\\ipykernel_19884\\1380925816.py:51: UserWarning: To copy construct from a tensor, it is recommended to use sourceTensor.clone().detach() or sourceTensor.clone().detach().requires_grad_(True), rather than torch.tensor(sourceTensor).\n",
      "  item = {key: torch.tensor(val[idx]) for key, val in self.encodings.items()}\n"
     ]
    },
    {
     "name": "stdout",
     "output_type": "stream",
     "text": [
      "{'loss': 0.319, 'grad_norm': 11.970169067382812, 'learning_rate': 3.4856828193832605e-05, 'epoch': 3.22}\n"
     ]
    },
    {
     "name": "stderr",
     "output_type": "stream",
     "text": [
      "C:\\Users\\jhy97\\AppData\\Local\\Temp\\ipykernel_19884\\1380925816.py:51: UserWarning: To copy construct from a tensor, it is recommended to use sourceTensor.clone().detach() or sourceTensor.clone().detach().requires_grad_(True), rather than torch.tensor(sourceTensor).\n",
      "  item = {key: torch.tensor(val[idx]) for key, val in self.encodings.items()}\n"
     ]
    },
    {
     "name": "stdout",
     "output_type": "stream",
     "text": [
      "{'loss': 0.309, 'grad_norm': 5.846876621246338, 'learning_rate': 3.3480176211453745e-05, 'epoch': 3.48}\n"
     ]
    },
    {
     "name": "stderr",
     "output_type": "stream",
     "text": [
      "C:\\Users\\jhy97\\AppData\\Local\\Temp\\ipykernel_19884\\1380925816.py:51: UserWarning: To copy construct from a tensor, it is recommended to use sourceTensor.clone().detach() or sourceTensor.clone().detach().requires_grad_(True), rather than torch.tensor(sourceTensor).\n",
      "  item = {key: torch.tensor(val[idx]) for key, val in self.encodings.items()}\n"
     ]
    },
    {
     "name": "stdout",
     "output_type": "stream",
     "text": [
      "{'loss': 0.3006, 'grad_norm': 9.576818466186523, 'learning_rate': 3.210352422907489e-05, 'epoch': 3.75}\n"
     ]
    },
    {
     "name": "stderr",
     "output_type": "stream",
     "text": [
      "C:\\Users\\jhy97\\AppData\\Local\\Temp\\ipykernel_19884\\1380925816.py:51: UserWarning: To copy construct from a tensor, it is recommended to use sourceTensor.clone().detach() or sourceTensor.clone().detach().requires_grad_(True), rather than torch.tensor(sourceTensor).\n",
      "  item = {key: torch.tensor(val[idx]) for key, val in self.encodings.items()}\n"
     ]
    },
    {
     "name": "stdout",
     "output_type": "stream",
     "text": [
      "{'loss': 0.2965, 'grad_norm': 5.654765605926514, 'learning_rate': 3.072687224669604e-05, 'epoch': 4.02}\n"
     ]
    },
    {
     "name": "stderr",
     "output_type": "stream",
     "text": [
      "C:\\Users\\jhy97\\AppData\\Local\\Temp\\ipykernel_19884\\1380925816.py:51: UserWarning: To copy construct from a tensor, it is recommended to use sourceTensor.clone().detach() or sourceTensor.clone().detach().requires_grad_(True), rather than torch.tensor(sourceTensor).\n",
      "  item = {key: torch.tensor(val[idx]) for key, val in self.encodings.items()}\n"
     ]
    },
    {
     "name": "stdout",
     "output_type": "stream",
     "text": [
      "{'loss': 0.1867, 'grad_norm': 9.607742309570312, 'learning_rate': 2.935022026431718e-05, 'epoch': 4.29}\n"
     ]
    },
    {
     "name": "stderr",
     "output_type": "stream",
     "text": [
      "C:\\Users\\jhy97\\AppData\\Local\\Temp\\ipykernel_19884\\1380925816.py:51: UserWarning: To copy construct from a tensor, it is recommended to use sourceTensor.clone().detach() or sourceTensor.clone().detach().requires_grad_(True), rather than torch.tensor(sourceTensor).\n",
      "  item = {key: torch.tensor(val[idx]) for key, val in self.encodings.items()}\n"
     ]
    },
    {
     "name": "stdout",
     "output_type": "stream",
     "text": [
      "{'loss': 0.1906, 'grad_norm': 11.23072338104248, 'learning_rate': 2.7973568281938327e-05, 'epoch': 4.56}\n"
     ]
    },
    {
     "name": "stderr",
     "output_type": "stream",
     "text": [
      "C:\\Users\\jhy97\\AppData\\Local\\Temp\\ipykernel_19884\\1380925816.py:51: UserWarning: To copy construct from a tensor, it is recommended to use sourceTensor.clone().detach() or sourceTensor.clone().detach().requires_grad_(True), rather than torch.tensor(sourceTensor).\n",
      "  item = {key: torch.tensor(val[idx]) for key, val in self.encodings.items()}\n"
     ]
    },
    {
     "name": "stdout",
     "output_type": "stream",
     "text": [
      "{'loss': 0.1975, 'grad_norm': 12.595696449279785, 'learning_rate': 2.659691629955947e-05, 'epoch': 4.82}\n"
     ]
    },
    {
     "name": "stderr",
     "output_type": "stream",
     "text": [
      "C:\\Users\\jhy97\\AppData\\Local\\Temp\\ipykernel_19884\\1380925816.py:51: UserWarning: To copy construct from a tensor, it is recommended to use sourceTensor.clone().detach() or sourceTensor.clone().detach().requires_grad_(True), rather than torch.tensor(sourceTensor).\n",
      "  item = {key: torch.tensor(val[idx]) for key, val in self.encodings.items()}\n"
     ]
    },
    {
     "name": "stdout",
     "output_type": "stream",
     "text": [
      "{'loss': 0.18, 'grad_norm': 7.982532024383545, 'learning_rate': 2.522026431718062e-05, 'epoch': 5.09}\n"
     ]
    },
    {
     "name": "stderr",
     "output_type": "stream",
     "text": [
      "C:\\Users\\jhy97\\AppData\\Local\\Temp\\ipykernel_19884\\1380925816.py:51: UserWarning: To copy construct from a tensor, it is recommended to use sourceTensor.clone().detach() or sourceTensor.clone().detach().requires_grad_(True), rather than torch.tensor(sourceTensor).\n",
      "  item = {key: torch.tensor(val[idx]) for key, val in self.encodings.items()}\n"
     ]
    },
    {
     "name": "stdout",
     "output_type": "stream",
     "text": [
      "{'loss': 0.1248, 'grad_norm': 6.26862907409668, 'learning_rate': 2.3843612334801762e-05, 'epoch': 5.36}\n"
     ]
    },
    {
     "name": "stderr",
     "output_type": "stream",
     "text": [
      "C:\\Users\\jhy97\\AppData\\Local\\Temp\\ipykernel_19884\\1380925816.py:51: UserWarning: To copy construct from a tensor, it is recommended to use sourceTensor.clone().detach() or sourceTensor.clone().detach().requires_grad_(True), rather than torch.tensor(sourceTensor).\n",
      "  item = {key: torch.tensor(val[idx]) for key, val in self.encodings.items()}\n"
     ]
    },
    {
     "name": "stdout",
     "output_type": "stream",
     "text": [
      "{'loss': 0.1321, 'grad_norm': 0.18233928084373474, 'learning_rate': 2.246696035242291e-05, 'epoch': 5.63}\n"
     ]
    },
    {
     "name": "stderr",
     "output_type": "stream",
     "text": [
      "C:\\Users\\jhy97\\AppData\\Local\\Temp\\ipykernel_19884\\1380925816.py:51: UserWarning: To copy construct from a tensor, it is recommended to use sourceTensor.clone().detach() or sourceTensor.clone().detach().requires_grad_(True), rather than torch.tensor(sourceTensor).\n",
      "  item = {key: torch.tensor(val[idx]) for key, val in self.encodings.items()}\n"
     ]
    },
    {
     "name": "stdout",
     "output_type": "stream",
     "text": [
      "{'loss': 0.133, 'grad_norm': 4.263833045959473, 'learning_rate': 2.1090308370044055e-05, 'epoch': 5.89}\n"
     ]
    },
    {
     "name": "stderr",
     "output_type": "stream",
     "text": [
      "C:\\Users\\jhy97\\AppData\\Local\\Temp\\ipykernel_19884\\1380925816.py:51: UserWarning: To copy construct from a tensor, it is recommended to use sourceTensor.clone().detach() or sourceTensor.clone().detach().requires_grad_(True), rather than torch.tensor(sourceTensor).\n",
      "  item = {key: torch.tensor(val[idx]) for key, val in self.encodings.items()}\n"
     ]
    },
    {
     "name": "stdout",
     "output_type": "stream",
     "text": [
      "{'loss': 0.1035, 'grad_norm': 6.154706001281738, 'learning_rate': 1.97136563876652e-05, 'epoch': 6.16}\n"
     ]
    },
    {
     "name": "stderr",
     "output_type": "stream",
     "text": [
      "C:\\Users\\jhy97\\AppData\\Local\\Temp\\ipykernel_19884\\1380925816.py:51: UserWarning: To copy construct from a tensor, it is recommended to use sourceTensor.clone().detach() or sourceTensor.clone().detach().requires_grad_(True), rather than torch.tensor(sourceTensor).\n",
      "  item = {key: torch.tensor(val[idx]) for key, val in self.encodings.items()}\n"
     ]
    },
    {
     "name": "stdout",
     "output_type": "stream",
     "text": [
      "{'loss': 0.0866, 'grad_norm': 15.848109245300293, 'learning_rate': 1.8337004405286344e-05, 'epoch': 6.43}\n"
     ]
    },
    {
     "name": "stderr",
     "output_type": "stream",
     "text": [
      "C:\\Users\\jhy97\\AppData\\Local\\Temp\\ipykernel_19884\\1380925816.py:51: UserWarning: To copy construct from a tensor, it is recommended to use sourceTensor.clone().detach() or sourceTensor.clone().detach().requires_grad_(True), rather than torch.tensor(sourceTensor).\n",
      "  item = {key: torch.tensor(val[idx]) for key, val in self.encodings.items()}\n"
     ]
    },
    {
     "name": "stdout",
     "output_type": "stream",
     "text": [
      "{'loss': 0.0925, 'grad_norm': 2.198878526687622, 'learning_rate': 1.696035242290749e-05, 'epoch': 6.7}\n"
     ]
    },
    {
     "name": "stderr",
     "output_type": "stream",
     "text": [
      "C:\\Users\\jhy97\\AppData\\Local\\Temp\\ipykernel_19884\\1380925816.py:51: UserWarning: To copy construct from a tensor, it is recommended to use sourceTensor.clone().detach() or sourceTensor.clone().detach().requires_grad_(True), rather than torch.tensor(sourceTensor).\n",
      "  item = {key: torch.tensor(val[idx]) for key, val in self.encodings.items()}\n"
     ]
    },
    {
     "name": "stdout",
     "output_type": "stream",
     "text": [
      "{'loss': 0.0962, 'grad_norm': 0.05520634353160858, 'learning_rate': 1.5583700440528634e-05, 'epoch': 6.97}\n"
     ]
    },
    {
     "name": "stderr",
     "output_type": "stream",
     "text": [
      "C:\\Users\\jhy97\\AppData\\Local\\Temp\\ipykernel_19884\\1380925816.py:51: UserWarning: To copy construct from a tensor, it is recommended to use sourceTensor.clone().detach() or sourceTensor.clone().detach().requires_grad_(True), rather than torch.tensor(sourceTensor).\n",
      "  item = {key: torch.tensor(val[idx]) for key, val in self.encodings.items()}\n"
     ]
    },
    {
     "name": "stdout",
     "output_type": "stream",
     "text": [
      "{'loss': 0.0614, 'grad_norm': 0.08202322572469711, 'learning_rate': 1.420704845814978e-05, 'epoch': 7.23}\n"
     ]
    },
    {
     "name": "stderr",
     "output_type": "stream",
     "text": [
      "C:\\Users\\jhy97\\AppData\\Local\\Temp\\ipykernel_19884\\1380925816.py:51: UserWarning: To copy construct from a tensor, it is recommended to use sourceTensor.clone().detach() or sourceTensor.clone().detach().requires_grad_(True), rather than torch.tensor(sourceTensor).\n",
      "  item = {key: torch.tensor(val[idx]) for key, val in self.encodings.items()}\n"
     ]
    },
    {
     "name": "stdout",
     "output_type": "stream",
     "text": [
      "{'loss': 0.0694, 'grad_norm': 5.679375648498535, 'learning_rate': 1.2830396475770926e-05, 'epoch': 7.5}\n"
     ]
    },
    {
     "name": "stderr",
     "output_type": "stream",
     "text": [
      "C:\\Users\\jhy97\\AppData\\Local\\Temp\\ipykernel_19884\\1380925816.py:51: UserWarning: To copy construct from a tensor, it is recommended to use sourceTensor.clone().detach() or sourceTensor.clone().detach().requires_grad_(True), rather than torch.tensor(sourceTensor).\n",
      "  item = {key: torch.tensor(val[idx]) for key, val in self.encodings.items()}\n"
     ]
    },
    {
     "name": "stdout",
     "output_type": "stream",
     "text": [
      "{'loss': 0.0646, 'grad_norm': 11.487119674682617, 'learning_rate': 1.1453744493392071e-05, 'epoch': 7.77}\n"
     ]
    },
    {
     "name": "stderr",
     "output_type": "stream",
     "text": [
      "C:\\Users\\jhy97\\AppData\\Local\\Temp\\ipykernel_19884\\1380925816.py:51: UserWarning: To copy construct from a tensor, it is recommended to use sourceTensor.clone().detach() or sourceTensor.clone().detach().requires_grad_(True), rather than torch.tensor(sourceTensor).\n",
      "  item = {key: torch.tensor(val[idx]) for key, val in self.encodings.items()}\n"
     ]
    },
    {
     "name": "stdout",
     "output_type": "stream",
     "text": [
      "{'loss': 0.0607, 'grad_norm': 0.3119066655635834, 'learning_rate': 1.0077092511013217e-05, 'epoch': 8.04}\n"
     ]
    },
    {
     "name": "stderr",
     "output_type": "stream",
     "text": [
      "C:\\Users\\jhy97\\AppData\\Local\\Temp\\ipykernel_19884\\1380925816.py:51: UserWarning: To copy construct from a tensor, it is recommended to use sourceTensor.clone().detach() or sourceTensor.clone().detach().requires_grad_(True), rather than torch.tensor(sourceTensor).\n",
      "  item = {key: torch.tensor(val[idx]) for key, val in self.encodings.items()}\n"
     ]
    },
    {
     "name": "stdout",
     "output_type": "stream",
     "text": [
      "{'loss': 0.0415, 'grad_norm': 0.07669370621442795, 'learning_rate': 8.700440528634362e-06, 'epoch': 8.31}\n"
     ]
    },
    {
     "name": "stderr",
     "output_type": "stream",
     "text": [
      "C:\\Users\\jhy97\\AppData\\Local\\Temp\\ipykernel_19884\\1380925816.py:51: UserWarning: To copy construct from a tensor, it is recommended to use sourceTensor.clone().detach() or sourceTensor.clone().detach().requires_grad_(True), rather than torch.tensor(sourceTensor).\n",
      "  item = {key: torch.tensor(val[idx]) for key, val in self.encodings.items()}\n"
     ]
    },
    {
     "name": "stdout",
     "output_type": "stream",
     "text": [
      "{'loss': 0.0477, 'grad_norm': 0.3647659718990326, 'learning_rate': 7.323788546255507e-06, 'epoch': 8.57}\n"
     ]
    },
    {
     "name": "stderr",
     "output_type": "stream",
     "text": [
      "C:\\Users\\jhy97\\AppData\\Local\\Temp\\ipykernel_19884\\1380925816.py:51: UserWarning: To copy construct from a tensor, it is recommended to use sourceTensor.clone().detach() or sourceTensor.clone().detach().requires_grad_(True), rather than torch.tensor(sourceTensor).\n",
      "  item = {key: torch.tensor(val[idx]) for key, val in self.encodings.items()}\n"
     ]
    },
    {
     "name": "stdout",
     "output_type": "stream",
     "text": [
      "{'loss': 0.0443, 'grad_norm': 0.1471635103225708, 'learning_rate': 5.947136563876652e-06, 'epoch': 8.84}\n"
     ]
    },
    {
     "name": "stderr",
     "output_type": "stream",
     "text": [
      "C:\\Users\\jhy97\\AppData\\Local\\Temp\\ipykernel_19884\\1380925816.py:51: UserWarning: To copy construct from a tensor, it is recommended to use sourceTensor.clone().detach() or sourceTensor.clone().detach().requires_grad_(True), rather than torch.tensor(sourceTensor).\n",
      "  item = {key: torch.tensor(val[idx]) for key, val in self.encodings.items()}\n"
     ]
    },
    {
     "name": "stdout",
     "output_type": "stream",
     "text": [
      "{'loss': 0.0397, 'grad_norm': 1.858541488647461, 'learning_rate': 4.5704845814977974e-06, 'epoch': 9.11}\n"
     ]
    },
    {
     "name": "stderr",
     "output_type": "stream",
     "text": [
      "C:\\Users\\jhy97\\AppData\\Local\\Temp\\ipykernel_19884\\1380925816.py:51: UserWarning: To copy construct from a tensor, it is recommended to use sourceTensor.clone().detach() or sourceTensor.clone().detach().requires_grad_(True), rather than torch.tensor(sourceTensor).\n",
      "  item = {key: torch.tensor(val[idx]) for key, val in self.encodings.items()}\n"
     ]
    },
    {
     "name": "stdout",
     "output_type": "stream",
     "text": [
      "{'loss': 0.0333, 'grad_norm': 23.360563278198242, 'learning_rate': 3.193832599118943e-06, 'epoch': 9.38}\n"
     ]
    },
    {
     "name": "stderr",
     "output_type": "stream",
     "text": [
      "C:\\Users\\jhy97\\AppData\\Local\\Temp\\ipykernel_19884\\1380925816.py:51: UserWarning: To copy construct from a tensor, it is recommended to use sourceTensor.clone().detach() or sourceTensor.clone().detach().requires_grad_(True), rather than torch.tensor(sourceTensor).\n",
      "  item = {key: torch.tensor(val[idx]) for key, val in self.encodings.items()}\n"
     ]
    },
    {
     "name": "stdout",
     "output_type": "stream",
     "text": [
      "{'loss': 0.03, 'grad_norm': 0.007693660445511341, 'learning_rate': 1.8171806167400882e-06, 'epoch': 9.65}\n"
     ]
    },
    {
     "name": "stderr",
     "output_type": "stream",
     "text": [
      "C:\\Users\\jhy97\\AppData\\Local\\Temp\\ipykernel_19884\\1380925816.py:51: UserWarning: To copy construct from a tensor, it is recommended to use sourceTensor.clone().detach() or sourceTensor.clone().detach().requires_grad_(True), rather than torch.tensor(sourceTensor).\n",
      "  item = {key: torch.tensor(val[idx]) for key, val in self.encodings.items()}\n"
     ]
    },
    {
     "name": "stdout",
     "output_type": "stream",
     "text": [
      "{'loss': 0.0281, 'grad_norm': 0.3068910837173462, 'learning_rate': 4.4052863436123357e-07, 'epoch': 9.91}\n"
     ]
    },
    {
     "name": "stderr",
     "output_type": "stream",
     "text": [
      "C:\\Users\\jhy97\\AppData\\Local\\Temp\\ipykernel_19884\\1380925816.py:51: UserWarning: To copy construct from a tensor, it is recommended to use sourceTensor.clone().detach() or sourceTensor.clone().detach().requires_grad_(True), rather than torch.tensor(sourceTensor).\n",
      "  item = {key: torch.tensor(val[idx]) for key, val in self.encodings.items()}\n"
     ]
    },
    {
     "name": "stdout",
     "output_type": "stream",
     "text": [
      "{'train_runtime': 6030.799, 'train_samples_per_second': 99.007, 'train_steps_per_second': 3.094, 'train_loss': 0.3083378611909104, 'epoch': 10.0}\n"
     ]
    },
    {
     "data": {
      "text/plain": [
       "TrainOutput(global_step=18660, training_loss=0.3083378611909104, metrics={'train_runtime': 6030.799, 'train_samples_per_second': 99.007, 'train_steps_per_second': 3.094, 'total_flos': 3.9277008194112e+16, 'train_loss': 0.3083378611909104, 'epoch': 10.0})"
      ]
     },
     "execution_count": 20,
     "metadata": {},
     "output_type": "execute_result"
    }
   ],
   "source": [
    "trainer.train()"
   ]
  },
  {
   "cell_type": "code",
   "execution_count": 21,
   "metadata": {},
   "outputs": [
    {
     "data": {
      "image/png": "[encoded data removed]",
      "text/plain": [
       "<Figure size 1200x600 with 2 Axes>"
      ]
     },
     "metadata": {},
     "output_type": "display_data"
    }
   ],
   "source": [
    "# 그래프 그리기\n",
    "plt.figure(figsize=(12, 6))\n",
    "plt.subplot(1, 2, 1)\n",
    "plt.plot(train_loss_values, label=\"Train Loss\")\n",
    "plt.plot(val_loss_values, label=\"Validation Loss\")\n",
    "plt.xlabel(\"Epoch\")\n",
    "plt.ylabel(\"Loss\")\n",
    "plt.legend()\n",
    "\n",
    "plt.subplot(1, 2, 2)\n",
    "plt.plot(train_acc_values, label=\"Train Accuracy\")\n",
    "plt.plot(val_acc_values, label=\"Validation Accuracy\")\n",
    "plt.xlabel(\"Epoch\")\n",
    "plt.ylabel(\"Accuracy\")\n",
    "plt.legend()\n",
    "plt.show()"
   ]
  },
  {
   "cell_type": "code",
   "execution_count": 22,
   "metadata": {},
   "outputs": [
    {
     "data": {
      "text/plain": [
       "('./saved_model\\\\tokenizer_config.json',\n",
       " './saved_model\\\\special_tokens_map.json',\n",
       " './saved_model\\\\tokenizer.json')"
      ]
     },
     "execution_count": 22,
     "metadata": {},
     "output_type": "execute_result"
    }
   ],
   "source": [
    "# 모델과 토크나이저 저장\n",
    "model.save_pretrained(\"./saved_model\")\n",
    "tokenizer.save_pretrained(\"./saved_model\")"
   ]
  },
  {
   "cell_type": "code",
   "execution_count": 23,
   "metadata": {},
   "outputs": [
    {
     "name": "stdout",
     "output_type": "stream",
     "text": [
      "True Label: 1, Predicted Label: 1\n",
      "True Label: 2, Predicted Label: 2\n",
      "True Label: 0, Predicted Label: 0\n",
      "True Label: 5, Predicted Label: 5\n",
      "True Label: 2, Predicted Label: 2\n",
      "True Label: 5, Predicted Label: 5\n",
      "True Label: 6, Predicted Label: 6\n",
      "True Label: 3, Predicted Label: 3\n",
      "True Label: 2, Predicted Label: 2\n",
      "True Label: 6, Predicted Label: 6\n",
      "True Label: 2, Predicted Label: 2\n",
      "True Label: 0, Predicted Label: 0\n",
      "True Label: 2, Predicted Label: 2\n",
      "True Label: 0, Predicted Label: 0\n",
      "True Label: 3, Predicted Label: 3\n",
      "True Label: 2, Predicted Label: 2\n",
      "True Label: 1, Predicted Label: 1\n",
      "True Label: 2, Predicted Label: 2\n",
      "True Label: 5, Predicted Label: 5\n",
      "True Label: 3, Predicted Label: 3\n",
      "True Label: 6, Predicted Label: 6\n",
      "True Label: 5, Predicted Label: 5\n",
      "True Label: 6, Predicted Label: 6\n",
      "True Label: 3, Predicted Label: 3\n",
      "True Label: 3, Predicted Label: 3\n",
      "True Label: 3, Predicted Label: 3\n",
      "True Label: 1, Predicted Label: 1\n",
      "True Label: 2, Predicted Label: 2\n",
      "True Label: 6, Predicted Label: 6\n",
      "True Label: 3, Predicted Label: 3\n",
      "True Label: 0, Predicted Label: 0\n",
      "True Label: 6, Predicted Label: 6\n",
      "True Label: 6, Predicted Label: 6\n",
      "True Label: 6, Predicted Label: 6\n",
      "True Label: 3, Predicted Label: 3\n",
      "True Label: 4, Predicted Label: 4\n",
      "True Label: 0, Predicted Label: 0\n",
      "True Label: 0, Predicted Label: 0\n",
      "True Label: 3, Predicted Label: 3\n",
      "True Label: 0, Predicted Label: 0\n",
      "True Label: 1, Predicted Label: 1\n",
      "True Label: 1, Predicted Label: 1\n",
      "True Label: 2, Predicted Label: 2\n",
      "True Label: 3, Predicted Label: 3\n",
      "True Label: 3, Predicted Label: 3\n",
      "True Label: 5, Predicted Label: 5\n",
      "True Label: 2, Predicted Label: 2\n",
      "True Label: 1, Predicted Label: 1\n",
      "True Label: 3, Predicted Label: 3\n",
      "True Label: 5, Predicted Label: 5\n",
      "True Label: 3, Predicted Label: 3\n",
      "True Label: 1, Predicted Label: 1\n",
      "True Label: 5, Predicted Label: 5\n",
      "True Label: 5, Predicted Label: 5\n",
      "True Label: 2, Predicted Label: 2\n",
      "True Label: 3, Predicted Label: 3\n",
      "True Label: 2, Predicted Label: 2\n",
      "True Label: 6, Predicted Label: 6\n",
      "True Label: 6, Predicted Label: 6\n",
      "True Label: 0, Predicted Label: 0\n",
      "True Label: 6, Predicted Label: 6\n",
      "True Label: 6, Predicted Label: 6\n",
      "True Label: 0, Predicted Label: 0\n",
      "True Label: 6, Predicted Label: 6\n",
      "True Label: 5, Predicted Label: 5\n",
      "True Label: 4, Predicted Label: 4\n",
      "True Label: 3, Predicted Label: 3\n",
      "True Label: 3, Predicted Label: 3\n",
      "True Label: 2, Predicted Label: 2\n",
      "True Label: 6, Predicted Label: 6\n",
      "True Label: 2, Predicted Label: 2\n",
      "True Label: 4, Predicted Label: 4\n",
      "True Label: 6, Predicted Label: 6\n",
      "True Label: 3, Predicted Label: 3\n",
      "True Label: 5, Predicted Label: 5\n",
      "True Label: 0, Predicted Label: 0\n",
      "True Label: 2, Predicted Label: 2\n",
      "True Label: 3, Predicted Label: 3\n",
      "True Label: 0, Predicted Label: 0\n",
      "True Label: 2, Predicted Label: 2\n",
      "True Label: 3, Predicted Label: 3\n",
      "True Label: 6, Predicted Label: 6\n",
      "True Label: 5, Predicted Label: 5\n",
      "True Label: 0, Predicted Label: 0\n",
      "True Label: 2, Predicted Label: 2\n",
      "True Label: 3, Predicted Label: 3\n",
      "True Label: 3, Predicted Label: 3\n",
      "True Label: 2, Predicted Label: 2\n",
      "True Label: 3, Predicted Label: 3\n",
      "True Label: 2, Predicted Label: 2\n",
      "True Label: 4, Predicted Label: 4\n",
      "True Label: 3, Predicted Label: 3\n",
      "True Label: 2, Predicted Label: 2\n",
      "True Label: 0, Predicted Label: 0\n",
      "True Label: 4, Predicted Label: 4\n",
      "True Label: 5, Predicted Label: 5\n",
      "True Label: 1, Predicted Label: 1\n",
      "True Label: 6, Predicted Label: 6\n",
      "True Label: 4, Predicted Label: 4\n",
      "True Label: 1, Predicted Label: 1\n",
      "True Label: 3, Predicted Label: 3\n",
      "True Label: 2, Predicted Label: 2\n",
      "True Label: 3, Predicted Label: 3\n",
      "True Label: 2, Predicted Label: 2\n",
      "True Label: 2, Predicted Label: 2\n",
      "True Label: 6, Predicted Label: 6\n",
      "True Label: 6, Predicted Label: 6\n",
      "True Label: 5, Predicted Label: 5\n",
      "True Label: 3, Predicted Label: 3\n",
      "True Label: 2, Predicted Label: 2\n",
      "True Label: 2, Predicted Label: 2\n",
      "True Label: 2, Predicted Label: 2\n",
      "True Label: 3, Predicted Label: 3\n",
      "True Label: 3, Predicted Label: 3\n",
      "True Label: 3, Predicted Label: 3\n",
      "True Label: 2, Predicted Label: 2\n",
      "True Label: 1, Predicted Label: 1\n",
      "True Label: 2, Predicted Label: 2\n",
      "True Label: 0, Predicted Label: 0\n",
      "True Label: 0, Predicted Label: 0\n",
      "True Label: 0, Predicted Label: 0\n",
      "True Label: 2, Predicted Label: 2\n",
      "True Label: 2, Predicted Label: 2\n",
      "True Label: 3, Predicted Label: 3\n",
      "True Label: 3, Predicted Label: 3\n",
      "True Label: 3, Predicted Label: 3\n",
      "True Label: 5, Predicted Label: 5\n",
      "True Label: 2, Predicted Label: 2\n",
      "True Label: 1, Predicted Label: 1\n",
      "True Label: 5, Predicted Label: 5\n",
      "True Label: 4, Predicted Label: 4\n",
      "True Label: 3, Predicted Label: 3\n",
      "True Label: 5, Predicted Label: 5\n",
      "True Label: 3, Predicted Label: 3\n",
      "True Label: 1, Predicted Label: 1\n",
      "True Label: 2, Predicted Label: 2\n",
      "True Label: 4, Predicted Label: 4\n",
      "True Label: 3, Predicted Label: 3\n",
      "True Label: 5, Predicted Label: 5\n",
      "True Label: 3, Predicted Label: 3\n",
      "True Label: 0, Predicted Label: 0\n",
      "True Label: 5, Predicted Label: 5\n",
      "True Label: 5, Predicted Label: 5\n",
      "True Label: 3, Predicted Label: 3\n",
      "True Label: 5, Predicted Label: 5\n",
      "True Label: 1, Predicted Label: 3\n",
      "True Label: 5, Predicted Label: 5\n",
      "True Label: 2, Predicted Label: 2\n",
      "True Label: 1, Predicted Label: 1\n",
      "True Label: 0, Predicted Label: 0\n",
      "True Label: 2, Predicted Label: 2\n",
      "True Label: 6, Predicted Label: 6\n",
      "True Label: 1, Predicted Label: 1\n",
      "True Label: 0, Predicted Label: 0\n",
      "True Label: 2, Predicted Label: 2\n",
      "True Label: 1, Predicted Label: 1\n",
      "True Label: 3, Predicted Label: 3\n",
      "True Label: 1, Predicted Label: 1\n",
      "True Label: 5, Predicted Label: 5\n",
      "True Label: 2, Predicted Label: 2\n",
      "True Label: 2, Predicted Label: 2\n",
      "True Label: 4, Predicted Label: 4\n",
      "True Label: 3, Predicted Label: 3\n",
      "True Label: 5, Predicted Label: 5\n",
      "True Label: 1, Predicted Label: 1\n",
      "True Label: 3, Predicted Label: 3\n",
      "True Label: 3, Predicted Label: 3\n",
      "True Label: 6, Predicted Label: 6\n",
      "True Label: 6, Predicted Label: 6\n",
      "True Label: 5, Predicted Label: 5\n",
      "True Label: 3, Predicted Label: 3\n",
      "True Label: 4, Predicted Label: 4\n",
      "True Label: 0, Predicted Label: 0\n",
      "True Label: 5, Predicted Label: 5\n",
      "True Label: 3, Predicted Label: 3\n",
      "True Label: 6, Predicted Label: 6\n",
      "True Label: 3, Predicted Label: 3\n",
      "True Label: 3, Predicted Label: 3\n",
      "True Label: 5, Predicted Label: 5\n",
      "True Label: 5, Predicted Label: 5\n",
      "True Label: 5, Predicted Label: 5\n",
      "True Label: 3, Predicted Label: 3\n",
      "True Label: 6, Predicted Label: 6\n",
      "True Label: 1, Predicted Label: 1\n",
      "True Label: 4, Predicted Label: 4\n",
      "True Label: 0, Predicted Label: 0\n",
      "True Label: 0, Predicted Label: 0\n",
      "True Label: 3, Predicted Label: 3\n",
      "True Label: 3, Predicted Label: 3\n",
      "True Label: 2, Predicted Label: 2\n",
      "True Label: 4, Predicted Label: 4\n",
      "True Label: 1, Predicted Label: 1\n",
      "True Label: 6, Predicted Label: 6\n",
      "True Label: 1, Predicted Label: 1\n",
      "True Label: 5, Predicted Label: 5\n",
      "True Label: 3, Predicted Label: 3\n",
      "True Label: 2, Predicted Label: 2\n",
      "True Label: 2, Predicted Label: 2\n",
      "True Label: 5, Predicted Label: 5\n",
      "True Label: 4, Predicted Label: 4\n",
      "True Label: 2, Predicted Label: 2\n",
      "True Label: 5, Predicted Label: 5\n",
      "True Label: 4, Predicted Label: 4\n",
      "True Label: 6, Predicted Label: 6\n",
      "True Label: 3, Predicted Label: 3\n",
      "True Label: 3, Predicted Label: 3\n",
      "True Label: 2, Predicted Label: 2\n",
      "True Label: 3, Predicted Label: 3\n",
      "True Label: 6, Predicted Label: 6\n",
      "True Label: 3, Predicted Label: 3\n",
      "True Label: 5, Predicted Label: 5\n",
      "True Label: 5, Predicted Label: 5\n",
      "True Label: 3, Predicted Label: 3\n",
      "True Label: 1, Predicted Label: 1\n",
      "True Label: 6, Predicted Label: 6\n",
      "True Label: 3, Predicted Label: 3\n",
      "True Label: 1, Predicted Label: 1\n",
      "True Label: 3, Predicted Label: 3\n",
      "True Label: 3, Predicted Label: 3\n",
      "True Label: 0, Predicted Label: 0\n",
      "True Label: 6, Predicted Label: 6\n",
      "True Label: 3, Predicted Label: 3\n",
      "True Label: 0, Predicted Label: 0\n",
      "True Label: 2, Predicted Label: 2\n",
      "True Label: 6, Predicted Label: 6\n",
      "True Label: 2, Predicted Label: 2\n",
      "True Label: 3, Predicted Label: 3\n",
      "True Label: 4, Predicted Label: 4\n",
      "True Label: 6, Predicted Label: 6\n",
      "True Label: 0, Predicted Label: 0\n",
      "True Label: 3, Predicted Label: 3\n",
      "True Label: 4, Predicted Label: 4\n",
      "True Label: 6, Predicted Label: 6\n",
      "True Label: 5, Predicted Label: 5\n",
      "True Label: 3, Predicted Label: 3\n",
      "True Label: 5, Predicted Label: 5\n",
      "True Label: 2, Predicted Label: 2\n",
      "True Label: 1, Predicted Label: 1\n",
      "True Label: 5, Predicted Label: 5\n",
      "True Label: 2, Predicted Label: 2\n",
      "True Label: 4, Predicted Label: 4\n",
      "True Label: 4, Predicted Label: 4\n",
      "True Label: 1, Predicted Label: 1\n",
      "True Label: 3, Predicted Label: 3\n",
      "True Label: 4, Predicted Label: 4\n",
      "True Label: 0, Predicted Label: 0\n",
      "True Label: 2, Predicted Label: 2\n",
      "True Label: 3, Predicted Label: 3\n",
      "True Label: 2, Predicted Label: 2\n",
      "True Label: 4, Predicted Label: 4\n",
      "True Label: 3, Predicted Label: 3\n",
      "True Label: 2, Predicted Label: 2\n",
      "True Label: 3, Predicted Label: 3\n",
      "True Label: 4, Predicted Label: 4\n",
      "True Label: 0, Predicted Label: 0\n",
      "True Label: 1, Predicted Label: 1\n",
      "True Label: 6, Predicted Label: 6\n",
      "True Label: 3, Predicted Label: 3\n",
      "True Label: 2, Predicted Label: 2\n",
      "True Label: 5, Predicted Label: 5\n",
      "True Label: 3, Predicted Label: 3\n",
      "True Label: 6, Predicted Label: 6\n",
      "True Label: 0, Predicted Label: 0\n",
      "True Label: 3, Predicted Label: 3\n",
      "True Label: 4, Predicted Label: 4\n",
      "True Label: 1, Predicted Label: 1\n",
      "True Label: 3, Predicted Label: 3\n",
      "True Label: 5, Predicted Label: 5\n",
      "True Label: 2, Predicted Label: 2\n",
      "True Label: 6, Predicted Label: 6\n",
      "True Label: 3, Predicted Label: 3\n",
      "True Label: 5, Predicted Label: 5\n",
      "True Label: 3, Predicted Label: 3\n",
      "True Label: 6, Predicted Label: 6\n",
      "True Label: 4, Predicted Label: 4\n",
      "True Label: 2, Predicted Label: 2\n",
      "True Label: 4, Predicted Label: 4\n",
      "True Label: 2, Predicted Label: 2\n",
      "True Label: 5, Predicted Label: 5\n",
      "True Label: 6, Predicted Label: 6\n",
      "True Label: 4, Predicted Label: 4\n",
      "True Label: 6, Predicted Label: 6\n",
      "True Label: 1, Predicted Label: 1\n",
      "True Label: 0, Predicted Label: 0\n",
      "True Label: 3, Predicted Label: 3\n",
      "True Label: 3, Predicted Label: 3\n",
      "True Label: 1, Predicted Label: 1\n",
      "True Label: 4, Predicted Label: 4\n",
      "True Label: 6, Predicted Label: 6\n",
      "True Label: 1, Predicted Label: 1\n",
      "True Label: 2, Predicted Label: 2\n",
      "True Label: 6, Predicted Label: 6\n",
      "True Label: 5, Predicted Label: 5\n",
      "True Label: 3, Predicted Label: 3\n",
      "True Label: 2, Predicted Label: 2\n",
      "True Label: 2, Predicted Label: 2\n",
      "True Label: 5, Predicted Label: 5\n",
      "True Label: 5, Predicted Label: 5\n",
      "True Label: 3, Predicted Label: 3\n",
      "True Label: 2, Predicted Label: 2\n",
      "True Label: 0, Predicted Label: 0\n",
      "True Label: 2, Predicted Label: 2\n",
      "True Label: 1, Predicted Label: 1\n",
      "True Label: 1, Predicted Label: 1\n",
      "True Label: 2, Predicted Label: 2\n",
      "True Label: 2, Predicted Label: 2\n",
      "True Label: 3, Predicted Label: 3\n",
      "True Label: 2, Predicted Label: 2\n",
      "True Label: 1, Predicted Label: 1\n",
      "True Label: 5, Predicted Label: 5\n",
      "True Label: 3, Predicted Label: 3\n",
      "True Label: 1, Predicted Label: 1\n",
      "True Label: 4, Predicted Label: 4\n",
      "True Label: 4, Predicted Label: 4\n",
      "True Label: 0, Predicted Label: 0\n",
      "True Label: 6, Predicted Label: 6\n",
      "True Label: 0, Predicted Label: 0\n",
      "True Label: 1, Predicted Label: 1\n",
      "True Label: 3, Predicted Label: 3\n",
      "True Label: 3, Predicted Label: 3\n",
      "True Label: 3, Predicted Label: 3\n",
      "True Label: 2, Predicted Label: 2\n",
      "True Label: 5, Predicted Label: 5\n",
      "True Label: 4, Predicted Label: 4\n",
      "True Label: 2, Predicted Label: 2\n",
      "True Label: 3, Predicted Label: 3\n",
      "True Label: 4, Predicted Label: 4\n",
      "True Label: 5, Predicted Label: 5\n",
      "True Label: 4, Predicted Label: 4\n",
      "True Label: 0, Predicted Label: 0\n",
      "True Label: 4, Predicted Label: 4\n",
      "True Label: 4, Predicted Label: 4\n",
      "True Label: 3, Predicted Label: 3\n",
      "True Label: 3, Predicted Label: 3\n",
      "True Label: 1, Predicted Label: 1\n",
      "True Label: 3, Predicted Label: 3\n",
      "True Label: 2, Predicted Label: 2\n",
      "True Label: 6, Predicted Label: 6\n",
      "True Label: 1, Predicted Label: 1\n",
      "True Label: 3, Predicted Label: 3\n",
      "True Label: 2, Predicted Label: 2\n",
      "True Label: 0, Predicted Label: 0\n",
      "True Label: 0, Predicted Label: 0\n",
      "True Label: 4, Predicted Label: 4\n",
      "True Label: 2, Predicted Label: 2\n",
      "True Label: 0, Predicted Label: 0\n",
      "True Label: 2, Predicted Label: 2\n",
      "True Label: 3, Predicted Label: 3\n",
      "True Label: 3, Predicted Label: 3\n",
      "True Label: 3, Predicted Label: 3\n",
      "True Label: 3, Predicted Label: 3\n",
      "True Label: 3, Predicted Label: 3\n",
      "True Label: 3, Predicted Label: 3\n",
      "True Label: 3, Predicted Label: 3\n",
      "True Label: 6, Predicted Label: 6\n",
      "True Label: 3, Predicted Label: 3\n",
      "True Label: 6, Predicted Label: 6\n",
      "True Label: 4, Predicted Label: 4\n",
      "True Label: 3, Predicted Label: 3\n",
      "True Label: 6, Predicted Label: 6\n",
      "True Label: 2, Predicted Label: 2\n",
      "True Label: 4, Predicted Label: 4\n",
      "True Label: 3, Predicted Label: 3\n",
      "True Label: 2, Predicted Label: 2\n",
      "True Label: 2, Predicted Label: 2\n",
      "True Label: 0, Predicted Label: 0\n",
      "True Label: 0, Predicted Label: 0\n",
      "True Label: 3, Predicted Label: 3\n",
      "True Label: 5, Predicted Label: 5\n",
      "True Label: 4, Predicted Label: 4\n",
      "True Label: 1, Predicted Label: 1\n",
      "True Label: 0, Predicted Label: 0\n",
      "True Label: 3, Predicted Label: 3\n",
      "True Label: 3, Predicted Label: 3\n",
      "True Label: 0, Predicted Label: 0\n",
      "True Label: 6, Predicted Label: 6\n",
      "True Label: 5, Predicted Label: 5\n",
      "True Label: 2, Predicted Label: 2\n",
      "True Label: 6, Predicted Label: 6\n",
      "True Label: 3, Predicted Label: 3\n",
      "True Label: 3, Predicted Label: 3\n",
      "True Label: 6, Predicted Label: 6\n",
      "True Label: 3, Predicted Label: 3\n",
      "True Label: 2, Predicted Label: 2\n",
      "True Label: 4, Predicted Label: 4\n",
      "True Label: 5, Predicted Label: 5\n",
      "True Label: 6, Predicted Label: 6\n",
      "True Label: 0, Predicted Label: 0\n",
      "True Label: 5, Predicted Label: 5\n",
      "True Label: 5, Predicted Label: 5\n",
      "True Label: 6, Predicted Label: 6\n",
      "True Label: 3, Predicted Label: 3\n",
      "True Label: 3, Predicted Label: 3\n",
      "True Label: 1, Predicted Label: 1\n",
      "True Label: 1, Predicted Label: 1\n",
      "True Label: 6, Predicted Label: 6\n",
      "True Label: 1, Predicted Label: 1\n",
      "True Label: 3, Predicted Label: 3\n",
      "True Label: 3, Predicted Label: 3\n",
      "True Label: 5, Predicted Label: 5\n",
      "True Label: 3, Predicted Label: 3\n",
      "True Label: 0, Predicted Label: 0\n",
      "True Label: 6, Predicted Label: 6\n",
      "True Label: 5, Predicted Label: 5\n",
      "True Label: 3, Predicted Label: 3\n",
      "True Label: 6, Predicted Label: 6\n",
      "True Label: 5, Predicted Label: 5\n",
      "True Label: 3, Predicted Label: 3\n",
      "True Label: 1, Predicted Label: 1\n",
      "True Label: 5, Predicted Label: 5\n",
      "True Label: 6, Predicted Label: 6\n",
      "True Label: 2, Predicted Label: 2\n",
      "True Label: 2, Predicted Label: 2\n",
      "True Label: 3, Predicted Label: 3\n",
      "True Label: 3, Predicted Label: 3\n",
      "True Label: 3, Predicted Label: 3\n",
      "True Label: 6, Predicted Label: 6\n",
      "True Label: 3, Predicted Label: 3\n",
      "True Label: 1, Predicted Label: 1\n",
      "True Label: 1, Predicted Label: 1\n",
      "True Label: 1, Predicted Label: 1\n",
      "True Label: 3, Predicted Label: 3\n",
      "True Label: 5, Predicted Label: 5\n",
      "True Label: 1, Predicted Label: 1\n",
      "True Label: 6, Predicted Label: 6\n",
      "True Label: 6, Predicted Label: 6\n",
      "True Label: 2, Predicted Label: 2\n",
      "True Label: 3, Predicted Label: 3\n",
      "True Label: 1, Predicted Label: 1\n",
      "True Label: 4, Predicted Label: 4\n",
      "True Label: 4, Predicted Label: 4\n",
      "True Label: 3, Predicted Label: 3\n",
      "True Label: 3, Predicted Label: 3\n",
      "True Label: 1, Predicted Label: 1\n",
      "True Label: 2, Predicted Label: 2\n",
      "True Label: 5, Predicted Label: 5\n",
      "True Label: 5, Predicted Label: 5\n",
      "True Label: 6, Predicted Label: 6\n",
      "True Label: 4, Predicted Label: 4\n",
      "True Label: 5, Predicted Label: 5\n",
      "True Label: 3, Predicted Label: 3\n",
      "True Label: 3, Predicted Label: 3\n",
      "True Label: 2, Predicted Label: 2\n",
      "True Label: 3, Predicted Label: 3\n",
      "True Label: 5, Predicted Label: 5\n",
      "True Label: 2, Predicted Label: 2\n",
      "True Label: 5, Predicted Label: 5\n",
      "True Label: 1, Predicted Label: 1\n",
      "True Label: 5, Predicted Label: 5\n",
      "True Label: 1, Predicted Label: 1\n",
      "True Label: 4, Predicted Label: 4\n",
      "True Label: 0, Predicted Label: 0\n",
      "True Label: 3, Predicted Label: 3\n",
      "True Label: 1, Predicted Label: 1\n",
      "True Label: 5, Predicted Label: 5\n",
      "True Label: 2, Predicted Label: 2\n",
      "True Label: 1, Predicted Label: 1\n",
      "True Label: 1, Predicted Label: 1\n",
      "True Label: 4, Predicted Label: 4\n",
      "True Label: 1, Predicted Label: 1\n",
      "True Label: 3, Predicted Label: 3\n",
      "True Label: 5, Predicted Label: 5\n",
      "True Label: 2, Predicted Label: 2\n",
      "True Label: 2, Predicted Label: 2\n",
      "True Label: 1, Predicted Label: 1\n",
      "True Label: 3, Predicted Label: 3\n",
      "True Label: 0, Predicted Label: 0\n",
      "True Label: 3, Predicted Label: 3\n",
      "True Label: 3, Predicted Label: 3\n",
      "True Label: 5, Predicted Label: 5\n",
      "True Label: 3, Predicted Label: 3\n",
      "True Label: 3, Predicted Label: 3\n",
      "True Label: 3, Predicted Label: 3\n",
      "True Label: 5, Predicted Label: 5\n",
      "True Label: 0, Predicted Label: 0\n",
      "True Label: 3, Predicted Label: 3\n",
      "True Label: 3, Predicted Label: 3\n",
      "True Label: 2, Predicted Label: 2\n",
      "True Label: 2, Predicted Label: 2\n",
      "True Label: 6, Predicted Label: 6\n",
      "True Label: 5, Predicted Label: 5\n",
      "True Label: 2, Predicted Label: 2\n",
      "True Label: 6, Predicted Label: 6\n",
      "True Label: 2, Predicted Label: 2\n",
      "True Label: 3, Predicted Label: 3\n",
      "True Label: 3, Predicted Label: 3\n",
      "True Label: 0, Predicted Label: 0\n",
      "True Label: 3, Predicted Label: 3\n",
      "True Label: 3, Predicted Label: 3\n",
      "True Label: 2, Predicted Label: 2\n",
      "True Label: 2, Predicted Label: 2\n",
      "True Label: 2, Predicted Label: 2\n",
      "True Label: 2, Predicted Label: 2\n",
      "True Label: 3, Predicted Label: 3\n",
      "True Label: 2, Predicted Label: 2\n",
      "True Label: 0, Predicted Label: 0\n",
      "True Label: 0, Predicted Label: 0\n",
      "True Label: 6, Predicted Label: 6\n",
      "True Label: 5, Predicted Label: 5\n",
      "True Label: 5, Predicted Label: 5\n",
      "True Label: 1, Predicted Label: 1\n",
      "True Label: 3, Predicted Label: 3\n",
      "True Label: 2, Predicted Label: 2\n",
      "True Label: 3, Predicted Label: 3\n",
      "True Label: 1, Predicted Label: 1\n",
      "True Label: 5, Predicted Label: 5\n",
      "True Label: 2, Predicted Label: 2\n",
      "True Label: 3, Predicted Label: 3\n",
      "True Label: 3, Predicted Label: 3\n",
      "True Label: 1, Predicted Label: 3\n",
      "True Label: 5, Predicted Label: 5\n",
      "True Label: 2, Predicted Label: 2\n",
      "True Label: 6, Predicted Label: 6\n",
      "True Label: 3, Predicted Label: 3\n",
      "True Label: 5, Predicted Label: 5\n",
      "True Label: 6, Predicted Label: 6\n",
      "True Label: 5, Predicted Label: 5\n",
      "True Label: 2, Predicted Label: 2\n",
      "True Label: 2, Predicted Label: 2\n",
      "True Label: 4, Predicted Label: 4\n",
      "True Label: 3, Predicted Label: 3\n",
      "True Label: 4, Predicted Label: 4\n",
      "True Label: 0, Predicted Label: 0\n",
      "True Label: 2, Predicted Label: 2\n",
      "True Label: 3, Predicted Label: 3\n",
      "True Label: 3, Predicted Label: 3\n",
      "True Label: 5, Predicted Label: 5\n",
      "True Label: 3, Predicted Label: 3\n",
      "True Label: 6, Predicted Label: 6\n",
      "True Label: 4, Predicted Label: 4\n",
      "True Label: 6, Predicted Label: 6\n",
      "True Label: 2, Predicted Label: 2\n",
      "True Label: 1, Predicted Label: 1\n",
      "True Label: 2, Predicted Label: 2\n",
      "True Label: 0, Predicted Label: 0\n",
      "True Label: 2, Predicted Label: 2\n",
      "True Label: 4, Predicted Label: 4\n",
      "True Label: 6, Predicted Label: 6\n",
      "True Label: 0, Predicted Label: 0\n",
      "True Label: 2, Predicted Label: 2\n",
      "True Label: 2, Predicted Label: 2\n",
      "True Label: 6, Predicted Label: 6\n",
      "True Label: 1, Predicted Label: 1\n",
      "True Label: 1, Predicted Label: 1\n",
      "True Label: 3, Predicted Label: 3\n",
      "True Label: 0, Predicted Label: 0\n",
      "True Label: 1, Predicted Label: 1\n",
      "True Label: 3, Predicted Label: 3\n",
      "True Label: 4, Predicted Label: 4\n",
      "True Label: 3, Predicted Label: 3\n",
      "True Label: 2, Predicted Label: 2\n",
      "True Label: 5, Predicted Label: 5\n",
      "True Label: 3, Predicted Label: 3\n",
      "True Label: 1, Predicted Label: 1\n",
      "True Label: 2, Predicted Label: 2\n",
      "True Label: 5, Predicted Label: 5\n",
      "True Label: 0, Predicted Label: 0\n",
      "True Label: 4, Predicted Label: 4\n",
      "True Label: 0, Predicted Label: 0\n",
      "True Label: 2, Predicted Label: 2\n",
      "True Label: 3, Predicted Label: 3\n",
      "True Label: 3, Predicted Label: 3\n",
      "True Label: 6, Predicted Label: 6\n",
      "True Label: 0, Predicted Label: 0\n",
      "True Label: 5, Predicted Label: 5\n",
      "True Label: 3, Predicted Label: 3\n",
      "True Label: 0, Predicted Label: 0\n",
      "True Label: 0, Predicted Label: 0\n",
      "True Label: 0, Predicted Label: 0\n",
      "True Label: 2, Predicted Label: 2\n",
      "True Label: 1, Predicted Label: 1\n",
      "True Label: 6, Predicted Label: 6\n",
      "True Label: 5, Predicted Label: 5\n",
      "True Label: 4, Predicted Label: 4\n",
      "True Label: 3, Predicted Label: 3\n",
      "True Label: 2, Predicted Label: 2\n",
      "True Label: 2, Predicted Label: 2\n",
      "True Label: 0, Predicted Label: 0\n",
      "True Label: 5, Predicted Label: 5\n",
      "True Label: 2, Predicted Label: 2\n",
      "True Label: 4, Predicted Label: 4\n",
      "True Label: 2, Predicted Label: 2\n",
      "True Label: 1, Predicted Label: 1\n",
      "True Label: 6, Predicted Label: 6\n",
      "True Label: 3, Predicted Label: 3\n",
      "True Label: 4, Predicted Label: 4\n",
      "True Label: 5, Predicted Label: 5\n",
      "True Label: 3, Predicted Label: 3\n",
      "True Label: 4, Predicted Label: 4\n",
      "True Label: 1, Predicted Label: 1\n",
      "True Label: 2, Predicted Label: 2\n",
      "True Label: 1, Predicted Label: 1\n",
      "True Label: 3, Predicted Label: 3\n",
      "True Label: 2, Predicted Label: 2\n",
      "True Label: 2, Predicted Label: 2\n",
      "True Label: 3, Predicted Label: 3\n",
      "True Label: 0, Predicted Label: 0\n",
      "True Label: 6, Predicted Label: 6\n",
      "True Label: 3, Predicted Label: 3\n",
      "True Label: 5, Predicted Label: 5\n",
      "True Label: 2, Predicted Label: 2\n",
      "True Label: 4, Predicted Label: 4\n",
      "True Label: 3, Predicted Label: 3\n",
      "True Label: 3, Predicted Label: 3\n",
      "True Label: 5, Predicted Label: 5\n",
      "True Label: 4, Predicted Label: 4\n",
      "True Label: 2, Predicted Label: 2\n",
      "True Label: 4, Predicted Label: 4\n",
      "True Label: 1, Predicted Label: 1\n",
      "True Label: 3, Predicted Label: 3\n",
      "True Label: 1, Predicted Label: 1\n",
      "True Label: 6, Predicted Label: 6\n",
      "True Label: 1, Predicted Label: 1\n",
      "True Label: 3, Predicted Label: 3\n",
      "True Label: 2, Predicted Label: 2\n",
      "True Label: 2, Predicted Label: 2\n",
      "True Label: 2, Predicted Label: 2\n",
      "True Label: 1, Predicted Label: 1\n",
      "True Label: 0, Predicted Label: 0\n",
      "True Label: 2, Predicted Label: 2\n",
      "True Label: 1, Predicted Label: 1\n",
      "True Label: 4, Predicted Label: 4\n",
      "True Label: 5, Predicted Label: 5\n",
      "True Label: 1, Predicted Label: 1\n",
      "True Label: 4, Predicted Label: 4\n",
      "True Label: 0, Predicted Label: 0\n",
      "True Label: 4, Predicted Label: 4\n",
      "True Label: 3, Predicted Label: 3\n",
      "True Label: 5, Predicted Label: 5\n",
      "True Label: 2, Predicted Label: 2\n",
      "True Label: 5, Predicted Label: 5\n",
      "True Label: 1, Predicted Label: 1\n",
      "True Label: 1, Predicted Label: 1\n",
      "True Label: 3, Predicted Label: 3\n",
      "True Label: 3, Predicted Label: 3\n",
      "True Label: 6, Predicted Label: 6\n",
      "True Label: 6, Predicted Label: 6\n",
      "True Label: 3, Predicted Label: 3\n",
      "True Label: 6, Predicted Label: 6\n",
      "True Label: 6, Predicted Label: 6\n",
      "True Label: 5, Predicted Label: 5\n",
      "True Label: 5, Predicted Label: 5\n",
      "True Label: 3, Predicted Label: 3\n",
      "True Label: 3, Predicted Label: 3\n",
      "True Label: 4, Predicted Label: 4\n",
      "True Label: 0, Predicted Label: 0\n",
      "True Label: 6, Predicted Label: 6\n",
      "True Label: 5, Predicted Label: 5\n",
      "True Label: 4, Predicted Label: 4\n",
      "True Label: 6, Predicted Label: 6\n",
      "True Label: 2, Predicted Label: 2\n",
      "True Label: 2, Predicted Label: 2\n",
      "True Label: 3, Predicted Label: 3\n",
      "True Label: 1, Predicted Label: 1\n",
      "True Label: 0, Predicted Label: 0\n",
      "True Label: 3, Predicted Label: 3\n",
      "True Label: 3, Predicted Label: 3\n",
      "True Label: 0, Predicted Label: 0\n",
      "True Label: 2, Predicted Label: 2\n",
      "True Label: 6, Predicted Label: 6\n",
      "True Label: 2, Predicted Label: 2\n",
      "True Label: 2, Predicted Label: 2\n",
      "True Label: 0, Predicted Label: 0\n",
      "True Label: 5, Predicted Label: 5\n",
      "True Label: 0, Predicted Label: 0\n",
      "True Label: 0, Predicted Label: 0\n",
      "True Label: 3, Predicted Label: 3\n",
      "True Label: 3, Predicted Label: 3\n",
      "True Label: 2, Predicted Label: 2\n",
      "True Label: 3, Predicted Label: 3\n",
      "True Label: 3, Predicted Label: 3\n",
      "True Label: 5, Predicted Label: 5\n",
      "True Label: 0, Predicted Label: 0\n",
      "True Label: 5, Predicted Label: 5\n",
      "True Label: 2, Predicted Label: 2\n",
      "True Label: 1, Predicted Label: 1\n",
      "True Label: 0, Predicted Label: 0\n",
      "True Label: 6, Predicted Label: 6\n",
      "True Label: 5, Predicted Label: 5\n",
      "True Label: 1, Predicted Label: 1\n",
      "True Label: 1, Predicted Label: 1\n",
      "True Label: 0, Predicted Label: 0\n",
      "True Label: 3, Predicted Label: 3\n",
      "True Label: 0, Predicted Label: 0\n",
      "True Label: 2, Predicted Label: 2\n",
      "True Label: 2, Predicted Label: 2\n",
      "True Label: 6, Predicted Label: 6\n",
      "True Label: 6, Predicted Label: 6\n",
      "True Label: 5, Predicted Label: 5\n",
      "True Label: 2, Predicted Label: 2\n",
      "True Label: 1, Predicted Label: 1\n",
      "True Label: 5, Predicted Label: 5\n",
      "True Label: 4, Predicted Label: 4\n",
      "True Label: 3, Predicted Label: 3\n",
      "True Label: 2, Predicted Label: 2\n",
      "True Label: 2, Predicted Label: 2\n",
      "True Label: 5, Predicted Label: 5\n",
      "True Label: 3, Predicted Label: 3\n",
      "True Label: 5, Predicted Label: 5\n",
      "True Label: 1, Predicted Label: 1\n",
      "True Label: 4, Predicted Label: 4\n",
      "True Label: 5, Predicted Label: 5\n",
      "True Label: 2, Predicted Label: 2\n",
      "True Label: 2, Predicted Label: 2\n",
      "True Label: 0, Predicted Label: 0\n",
      "True Label: 1, Predicted Label: 1\n",
      "True Label: 3, Predicted Label: 3\n",
      "True Label: 2, Predicted Label: 2\n",
      "True Label: 2, Predicted Label: 2\n",
      "True Label: 4, Predicted Label: 4\n",
      "True Label: 5, Predicted Label: 5\n",
      "True Label: 2, Predicted Label: 2\n",
      "True Label: 4, Predicted Label: 4\n",
      "True Label: 2, Predicted Label: 2\n",
      "True Label: 6, Predicted Label: 6\n",
      "True Label: 6, Predicted Label: 6\n",
      "True Label: 5, Predicted Label: 5\n",
      "True Label: 4, Predicted Label: 4\n",
      "True Label: 1, Predicted Label: 1\n",
      "True Label: 3, Predicted Label: 3\n",
      "True Label: 6, Predicted Label: 6\n",
      "True Label: 3, Predicted Label: 3\n",
      "True Label: 4, Predicted Label: 4\n",
      "True Label: 4, Predicted Label: 4\n",
      "True Label: 3, Predicted Label: 3\n",
      "True Label: 3, Predicted Label: 3\n",
      "True Label: 2, Predicted Label: 2\n",
      "True Label: 6, Predicted Label: 6\n",
      "True Label: 2, Predicted Label: 2\n",
      "True Label: 2, Predicted Label: 2\n",
      "True Label: 0, Predicted Label: 0\n",
      "True Label: 3, Predicted Label: 3\n",
      "True Label: 5, Predicted Label: 5\n",
      "True Label: 5, Predicted Label: 5\n",
      "True Label: 5, Predicted Label: 5\n",
      "True Label: 3, Predicted Label: 3\n",
      "True Label: 3, Predicted Label: 3\n",
      "True Label: 6, Predicted Label: 6\n",
      "True Label: 6, Predicted Label: 6\n",
      "True Label: 3, Predicted Label: 3\n",
      "True Label: 1, Predicted Label: 1\n",
      "True Label: 2, Predicted Label: 2\n",
      "True Label: 2, Predicted Label: 2\n",
      "True Label: 1, Predicted Label: 1\n",
      "True Label: 2, Predicted Label: 2\n",
      "True Label: 1, Predicted Label: 1\n",
      "True Label: 2, Predicted Label: 2\n",
      "True Label: 1, Predicted Label: 1\n",
      "True Label: 3, Predicted Label: 3\n",
      "True Label: 3, Predicted Label: 3\n",
      "True Label: 3, Predicted Label: 3\n",
      "True Label: 6, Predicted Label: 6\n",
      "True Label: 0, Predicted Label: 0\n",
      "True Label: 1, Predicted Label: 1\n",
      "True Label: 3, Predicted Label: 3\n",
      "True Label: 0, Predicted Label: 0\n",
      "True Label: 2, Predicted Label: 2\n",
      "True Label: 2, Predicted Label: 2\n",
      "True Label: 2, Predicted Label: 2\n",
      "True Label: 1, Predicted Label: 1\n",
      "True Label: 2, Predicted Label: 2\n",
      "True Label: 3, Predicted Label: 3\n",
      "True Label: 6, Predicted Label: 6\n",
      "True Label: 2, Predicted Label: 2\n",
      "True Label: 0, Predicted Label: 0\n",
      "True Label: 3, Predicted Label: 3\n",
      "True Label: 6, Predicted Label: 6\n",
      "True Label: 2, Predicted Label: 2\n",
      "True Label: 2, Predicted Label: 2\n",
      "True Label: 2, Predicted Label: 2\n",
      "True Label: 3, Predicted Label: 3\n",
      "True Label: 1, Predicted Label: 1\n",
      "True Label: 6, Predicted Label: 6\n",
      "True Label: 5, Predicted Label: 5\n",
      "True Label: 3, Predicted Label: 3\n",
      "True Label: 4, Predicted Label: 4\n",
      "True Label: 5, Predicted Label: 5\n",
      "True Label: 6, Predicted Label: 6\n",
      "True Label: 2, Predicted Label: 2\n",
      "True Label: 2, Predicted Label: 2\n",
      "True Label: 6, Predicted Label: 6\n",
      "True Label: 2, Predicted Label: 2\n",
      "True Label: 2, Predicted Label: 2\n",
      "True Label: 3, Predicted Label: 3\n",
      "True Label: 2, Predicted Label: 2\n",
      "True Label: 4, Predicted Label: 4\n",
      "True Label: 6, Predicted Label: 6\n",
      "True Label: 5, Predicted Label: 5\n",
      "True Label: 5, Predicted Label: 5\n",
      "True Label: 0, Predicted Label: 0\n",
      "True Label: 2, Predicted Label: 2\n",
      "True Label: 4, Predicted Label: 4\n",
      "True Label: 1, Predicted Label: 1\n",
      "True Label: 5, Predicted Label: 5\n",
      "True Label: 6, Predicted Label: 6\n",
      "True Label: 3, Predicted Label: 3\n",
      "True Label: 6, Predicted Label: 6\n",
      "True Label: 1, Predicted Label: 1\n",
      "True Label: 4, Predicted Label: 4\n",
      "True Label: 4, Predicted Label: 4\n",
      "True Label: 1, Predicted Label: 1\n",
      "True Label: 5, Predicted Label: 5\n",
      "True Label: 5, Predicted Label: 5\n",
      "True Label: 2, Predicted Label: 2\n",
      "True Label: 5, Predicted Label: 5\n",
      "True Label: 6, Predicted Label: 6\n",
      "True Label: 4, Predicted Label: 4\n",
      "True Label: 3, Predicted Label: 3\n",
      "True Label: 5, Predicted Label: 5\n",
      "True Label: 3, Predicted Label: 3\n",
      "True Label: 2, Predicted Label: 2\n",
      "True Label: 5, Predicted Label: 5\n",
      "True Label: 3, Predicted Label: 3\n",
      "True Label: 2, Predicted Label: 2\n",
      "True Label: 0, Predicted Label: 0\n",
      "True Label: 2, Predicted Label: 2\n",
      "True Label: 4, Predicted Label: 4\n",
      "True Label: 3, Predicted Label: 3\n",
      "True Label: 6, Predicted Label: 6\n",
      "True Label: 2, Predicted Label: 2\n",
      "True Label: 3, Predicted Label: 3\n",
      "True Label: 3, Predicted Label: 3\n",
      "True Label: 5, Predicted Label: 5\n",
      "True Label: 2, Predicted Label: 2\n",
      "True Label: 0, Predicted Label: 0\n",
      "True Label: 3, Predicted Label: 3\n",
      "True Label: 3, Predicted Label: 3\n",
      "True Label: 4, Predicted Label: 4\n",
      "True Label: 5, Predicted Label: 5\n",
      "True Label: 6, Predicted Label: 6\n",
      "True Label: 2, Predicted Label: 2\n",
      "True Label: 6, Predicted Label: 6\n",
      "True Label: 2, Predicted Label: 2\n",
      "True Label: 6, Predicted Label: 6\n",
      "True Label: 4, Predicted Label: 4\n",
      "True Label: 2, Predicted Label: 2\n",
      "True Label: 3, Predicted Label: 3\n",
      "True Label: 3, Predicted Label: 3\n",
      "True Label: 5, Predicted Label: 5\n",
      "True Label: 3, Predicted Label: 3\n",
      "True Label: 0, Predicted Label: 0\n",
      "True Label: 0, Predicted Label: 0\n",
      "True Label: 2, Predicted Label: 2\n",
      "True Label: 6, Predicted Label: 6\n",
      "True Label: 3, Predicted Label: 3\n",
      "True Label: 6, Predicted Label: 6\n",
      "True Label: 6, Predicted Label: 6\n",
      "True Label: 0, Predicted Label: 0\n",
      "True Label: 2, Predicted Label: 2\n",
      "True Label: 5, Predicted Label: 5\n",
      "True Label: 6, Predicted Label: 6\n",
      "True Label: 1, Predicted Label: 1\n",
      "True Label: 3, Predicted Label: 3\n",
      "True Label: 2, Predicted Label: 2\n",
      "True Label: 2, Predicted Label: 2\n",
      "True Label: 0, Predicted Label: 0\n",
      "True Label: 3, Predicted Label: 3\n",
      "True Label: 1, Predicted Label: 1\n",
      "True Label: 6, Predicted Label: 6\n",
      "True Label: 4, Predicted Label: 4\n",
      "True Label: 0, Predicted Label: 0\n",
      "True Label: 6, Predicted Label: 6\n",
      "True Label: 3, Predicted Label: 3\n",
      "True Label: 6, Predicted Label: 6\n",
      "True Label: 2, Predicted Label: 2\n",
      "True Label: 2, Predicted Label: 2\n",
      "True Label: 6, Predicted Label: 6\n",
      "True Label: 5, Predicted Label: 5\n",
      "True Label: 2, Predicted Label: 2\n",
      "True Label: 2, Predicted Label: 2\n",
      "True Label: 1, Predicted Label: 1\n",
      "True Label: 3, Predicted Label: 3\n",
      "True Label: 0, Predicted Label: 0\n",
      "True Label: 0, Predicted Label: 0\n",
      "True Label: 1, Predicted Label: 1\n",
      "True Label: 3, Predicted Label: 3\n",
      "True Label: 1, Predicted Label: 1\n",
      "True Label: 5, Predicted Label: 5\n",
      "True Label: 6, Predicted Label: 6\n",
      "True Label: 6, Predicted Label: 6\n",
      "True Label: 1, Predicted Label: 1\n",
      "True Label: 3, Predicted Label: 3\n",
      "True Label: 2, Predicted Label: 2\n",
      "True Label: 4, Predicted Label: 4\n",
      "True Label: 3, Predicted Label: 3\n",
      "True Label: 2, Predicted Label: 2\n",
      "True Label: 2, Predicted Label: 2\n",
      "True Label: 3, Predicted Label: 3\n",
      "True Label: 4, Predicted Label: 4\n",
      "True Label: 3, Predicted Label: 3\n",
      "True Label: 2, Predicted Label: 2\n",
      "True Label: 3, Predicted Label: 3\n",
      "True Label: 2, Predicted Label: 2\n",
      "True Label: 3, Predicted Label: 3\n",
      "True Label: 3, Predicted Label: 3\n",
      "True Label: 5, Predicted Label: 5\n",
      "True Label: 3, Predicted Label: 3\n",
      "True Label: 1, Predicted Label: 1\n",
      "True Label: 0, Predicted Label: 0\n",
      "True Label: 6, Predicted Label: 6\n",
      "True Label: 3, Predicted Label: 3\n",
      "True Label: 5, Predicted Label: 5\n",
      "True Label: 3, Predicted Label: 3\n",
      "True Label: 2, Predicted Label: 2\n",
      "True Label: 6, Predicted Label: 6\n",
      "True Label: 5, Predicted Label: 5\n",
      "True Label: 4, Predicted Label: 4\n",
      "True Label: 2, Predicted Label: 2\n",
      "True Label: 4, Predicted Label: 4\n",
      "True Label: 1, Predicted Label: 1\n",
      "True Label: 2, Predicted Label: 2\n",
      "True Label: 2, Predicted Label: 2\n",
      "True Label: 3, Predicted Label: 3\n",
      "True Label: 4, Predicted Label: 4\n",
      "True Label: 3, Predicted Label: 3\n",
      "True Label: 6, Predicted Label: 6\n",
      "True Label: 3, Predicted Label: 3\n",
      "True Label: 2, Predicted Label: 2\n",
      "True Label: 4, Predicted Label: 4\n",
      "True Label: 3, Predicted Label: 3\n",
      "True Label: 2, Predicted Label: 2\n",
      "True Label: 3, Predicted Label: 3\n",
      "True Label: 6, Predicted Label: 6\n",
      "True Label: 6, Predicted Label: 6\n",
      "True Label: 3, Predicted Label: 3\n",
      "True Label: 2, Predicted Label: 2\n",
      "True Label: 0, Predicted Label: 0\n",
      "True Label: 6, Predicted Label: 6\n",
      "True Label: 0, Predicted Label: 0\n",
      "True Label: 4, Predicted Label: 4\n",
      "True Label: 0, Predicted Label: 0\n",
      "True Label: 0, Predicted Label: 0\n",
      "True Label: 6, Predicted Label: 6\n",
      "True Label: 1, Predicted Label: 1\n",
      "True Label: 2, Predicted Label: 2\n",
      "True Label: 3, Predicted Label: 3\n",
      "True Label: 1, Predicted Label: 1\n",
      "True Label: 6, Predicted Label: 6\n",
      "True Label: 1, Predicted Label: 1\n",
      "True Label: 6, Predicted Label: 6\n",
      "True Label: 4, Predicted Label: 4\n",
      "True Label: 3, Predicted Label: 3\n",
      "True Label: 3, Predicted Label: 3\n",
      "True Label: 2, Predicted Label: 2\n",
      "True Label: 2, Predicted Label: 2\n",
      "True Label: 3, Predicted Label: 3\n",
      "True Label: 0, Predicted Label: 0\n",
      "True Label: 2, Predicted Label: 2\n",
      "True Label: 2, Predicted Label: 2\n",
      "True Label: 2, Predicted Label: 2\n",
      "True Label: 1, Predicted Label: 1\n",
      "True Label: 1, Predicted Label: 1\n",
      "True Label: 0, Predicted Label: 0\n",
      "True Label: 4, Predicted Label: 4\n",
      "True Label: 5, Predicted Label: 5\n",
      "True Label: 4, Predicted Label: 4\n",
      "True Label: 2, Predicted Label: 2\n",
      "True Label: 6, Predicted Label: 6\n",
      "True Label: 3, Predicted Label: 3\n",
      "True Label: 6, Predicted Label: 6\n",
      "True Label: 1, Predicted Label: 1\n",
      "True Label: 2, Predicted Label: 2\n",
      "True Label: 5, Predicted Label: 5\n",
      "True Label: 1, Predicted Label: 1\n",
      "True Label: 4, Predicted Label: 4\n",
      "True Label: 5, Predicted Label: 5\n",
      "True Label: 0, Predicted Label: 0\n",
      "True Label: 3, Predicted Label: 3\n",
      "True Label: 2, Predicted Label: 2\n",
      "True Label: 3, Predicted Label: 3\n",
      "True Label: 0, Predicted Label: 0\n",
      "True Label: 1, Predicted Label: 1\n",
      "True Label: 6, Predicted Label: 6\n",
      "True Label: 5, Predicted Label: 5\n",
      "True Label: 2, Predicted Label: 2\n",
      "True Label: 6, Predicted Label: 6\n",
      "True Label: 6, Predicted Label: 6\n",
      "True Label: 5, Predicted Label: 5\n",
      "True Label: 2, Predicted Label: 2\n",
      "True Label: 5, Predicted Label: 3\n",
      "True Label: 2, Predicted Label: 2\n",
      "True Label: 3, Predicted Label: 3\n",
      "True Label: 4, Predicted Label: 4\n",
      "True Label: 1, Predicted Label: 1\n",
      "True Label: 0, Predicted Label: 0\n",
      "True Label: 2, Predicted Label: 2\n",
      "True Label: 6, Predicted Label: 6\n",
      "True Label: 2, Predicted Label: 2\n",
      "True Label: 5, Predicted Label: 5\n",
      "True Label: 4, Predicted Label: 4\n",
      "True Label: 5, Predicted Label: 5\n",
      "True Label: 3, Predicted Label: 3\n",
      "True Label: 6, Predicted Label: 6\n",
      "True Label: 5, Predicted Label: 5\n",
      "True Label: 4, Predicted Label: 4\n",
      "True Label: 5, Predicted Label: 5\n",
      "True Label: 2, Predicted Label: 2\n",
      "True Label: 0, Predicted Label: 0\n",
      "True Label: 2, Predicted Label: 2\n",
      "True Label: 6, Predicted Label: 6\n",
      "정확도: 99.70%\n"
     ]
    }
   ],
   "source": [
    "import pandas as pd\n",
    "import matplotlib.pyplot as plt\n",
    "\n",
    "import torch\n",
    "from transformers import AutoTokenizer, AutoModelForSequenceClassification\n",
    "\n",
    "# gpu 설정\n",
    "device = torch.device(\"cuda\" if torch.cuda.is_available() else \"cpu\")\n",
    "# 테스트 데이터로 정확도 검증\n",
    "model = AutoModelForSequenceClassification.from_pretrained(\"./saved_model\")\n",
    "tokenizer = AutoTokenizer.from_pretrained(\"./saved_model\")\n",
    "model.to(device)\n",
    "\n",
    "def sentence_predict(sent):\n",
    "    model.eval()\n",
    "    tokenized_sent = tokenizer(\n",
    "        [sent],\n",
    "        return_tensors=\"pt\",\n",
    "        max_length=128,\n",
    "        padding=True,\n",
    "        truncation=True,\n",
    "        add_special_tokens=True,\n",
    "    )\n",
    "    tokenized_sent = {k: v.to(device) for k, v in tokenized_sent.items()}\n",
    "    with torch.no_grad():\n",
    "        outputs = model(\n",
    "            input_ids=tokenized_sent[\"input_ids\"],\n",
    "            attention_mask=tokenized_sent[\"attention_mask\"],\n",
    "        )\n",
    "    logits = outputs[0]\n",
    "    logits = logits.detach().cpu()\n",
    "    result = logits.argmax(-1).numpy()[0]\n",
    "    return result\n",
    "\n",
    "data = pd.read_csv(\"Data/emotion3.csv\")\n",
    "sampled_data = data.sample(n=1000)\n",
    "\n",
    "correct_predictions = 0\n",
    "\n",
    "for index, row in sampled_data.iterrows():\n",
    "    sentence = row['발화문']\n",
    "    true_label = row['상황']\n",
    "    predicted_label = sentence_predict(sentence)\n",
    "    print(f\"True Label: {true_label}, Predicted Label: {predicted_label}\")\n",
    "    if true_label == predicted_label:\n",
    "        correct_predictions += 1\n",
    "\n",
    "accuracy = correct_predictions / len(sampled_data)\n",
    "print(f\"정확도: {accuracy * 100:.2f}%\")\n"
   ]
  }
 ],
 "metadata": {
  "kernelspec": {
   "display_name": "tensor",
   "language": "python",
   "name": "python3"
  },
  "language_info": {
   "codemirror_mode": {
    "name": "ipython",
    "version": 3
   },
   "file_extension": ".py",
   "mimetype": "text/x-python",
   "name": "python",
   "nbconvert_exporter": "python",
   "pygments_lexer": "ipython3",
   "version": "3.10.14"
  }
 },
 "nbformat": 4,
 "nbformat_minor": 2
}
