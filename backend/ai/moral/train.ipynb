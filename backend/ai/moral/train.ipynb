{
 "cells": [
  {
   "cell_type": "code",
   "execution_count": 9,
   "metadata": {},
   "outputs": [],
   "source": [
    "# import pandas as pd\n",
    "# from torch.utils.data import DataLoader, Dataset\n",
    "# from transformers import BertTokenizer, BertForSequenceClassification, AdamW, BertConfig\n",
    "# from transformers import get_linear_schedule_with_warmup\n",
    "# import torch\n",
    "# from sklearn.model_selection import train_test_split\n",
    "# from sklearn.metrics import classification_report\n",
    "# from tqdm import tqdm\n",
    "# import matplotlib.pyplot as plt\n",
    "\n",
    "# # 데이터 로드\n",
    "# df = pd.read_csv('data/moralTrain.csv')\n",
    "\n",
    "# # 일부 데이터 랜덤으로 사용\n",
    "# df = df.sample(n=1000, random_state=42)\n",
    "\n",
    "# # KoBERT 토크나이저 로드\n",
    "# tokenizer = BertTokenizer.from_pretrained('kykim/bert-kor-base')\n",
    "\n",
    "# # 데이터셋 정의\n",
    "# class HateSpeechDataset(Dataset):\n",
    "#     def __init__(self, texts, labels, tokenizer, max_len=128):\n",
    "#         self.texts = texts\n",
    "#         self.labels = labels\n",
    "#         self.tokenizer = tokenizer\n",
    "#         self.max_len = max_len\n",
    "        \n",
    "#     def __len__(self):\n",
    "#         return len(self.texts)\n",
    "    \n",
    "#     def __getitem__(self, idx):\n",
    "#         text = self.texts[idx]\n",
    "#         label = self.labels[idx]\n",
    "        \n",
    "#         inputs = self.tokenizer.encode_plus(\n",
    "#             text,\n",
    "#             None,\n",
    "#             add_special_tokens=True,\n",
    "#             max_length=self.max_len,\n",
    "#             padding='max_length',\n",
    "#             return_token_type_ids=False,\n",
    "#             truncation=True,\n",
    "#             return_attention_mask=True,\n",
    "#             return_tensors='pt'\n",
    "#         )\n",
    "        \n",
    "#         return {\n",
    "#             'input_ids': inputs['input_ids'].flatten(),\n",
    "#             'attention_mask': inputs['attention_mask'].flatten(),\n",
    "#             'labels': torch.tensor(label, dtype=torch.long)\n",
    "#         }\n",
    "    \n",
    "# # 데이터 준비\n",
    "# X_train, X_test, y_train, y_test = train_test_split(df['text'], df['types'], test_size=0.2, random_state=42)\n",
    "\n",
    "# train_dataset = HateSpeechDataset(X_train.tolist(), y_train.tolist(), tokenizer)\n",
    "# test_dataset = HateSpeechDataset(X_test.tolist(), y_test.tolist(), tokenizer)\n",
    "\n",
    "# train_loader = DataLoader(train_dataset, batch_size=16, shuffle=True)\n",
    "# test_loader = DataLoader(test_dataset, batch_size=16, shuffle=False)\n",
    "\n",
    "# # 모델 로드 및 파인 튜닝\n",
    "# config = BertConfig.from_pretrained('kykim/bert-kor-base', hidden_dropout_prob=0.3, attention_probs_dropout_prob=0.3, num_labels=6)\n",
    "# model = BertForSequenceClassification.from_pretrained('kykim/bert-kor-base', config=config)\n",
    "# model.cuda()\n",
    "\n",
    "# optimizer = AdamW(model.parameters(), lr=1e-5, weight_decay=0.01)\n",
    "# total_steps = len(train_loader) * 5\n",
    "# scheduler = get_linear_schedule_with_warmup(optimizer, num_warmup_steps=0, num_training_steps=total_steps)\n",
    "\n",
    "# # 조기 종료 클래스\n",
    "# class EarlyStopping:\n",
    "#     def __init__(self, patience=3, verbose=False, delta=0):\n",
    "#         self.patience = patience\n",
    "#         self.verbose = verbose\n",
    "#         self.counter = 0\n",
    "#         self.best_score = None\n",
    "#         self.early_stop = False\n",
    "#         self.val_loss_min = float('inf')\n",
    "#         self.delta = delta\n",
    "\n",
    "#     def __call__(self, val_loss, model):\n",
    "#         score = -val_loss\n",
    "\n",
    "#         if self.best_score is None:\n",
    "#             self.best_score = score\n",
    "#             self.save_checkpoint(val_loss, model)\n",
    "#         elif score < self.best_score + self.delta:\n",
    "#             self.counter += 1\n",
    "#             if self.verbose:\n",
    "#                 print(f'EarlyStopping counter: {self.counter} out of {self.patience}')\n",
    "#             if self.counter >= self.patience:\n",
    "#                 self.early_stop = True\n",
    "#         else:\n",
    "#             self.best_score = score\n",
    "#             self.save_checkpoint(val_loss, model)\n",
    "#             self.counter = 0\n",
    "\n",
    "#     def save_checkpoint(self, val_loss, model):\n",
    "#         if self.verbose:\n",
    "#             print(f'Validation loss decreased ({self.val_loss_min:.6f} --> {val_loss:.6f}).  Saving model ...')\n",
    "#         torch.save(model.state_dict(), 'checkpoint.pt')\n",
    "#         self.val_loss_min = val_loss\n",
    "\n",
    "# early_stopping = EarlyStopping(patience=3, verbose=True)\n",
    "\n",
    "# # 모델 학습\n",
    "# device = torch.device(\"cuda\" if torch.cuda.is_available() else \"cpu\")\n",
    "\n",
    "# train_loss_values = []\n",
    "# train_accuracy_values = []\n",
    "# val_loss_values = []\n",
    "# val_accuracy_values = []\n",
    "\n",
    "# for epoch in range(5):\n",
    "#     model.train()\n",
    "#     train_loss = 0.0\n",
    "#     train_correct = 0\n",
    "#     train_total = 0\n",
    "    \n",
    "#     for batch in tqdm(train_loader, desc=f'Training Epoch {epoch+1}'):\n",
    "#         optimizer.zero_grad()\n",
    "#         inputs = {key: value.to(device) for key, value in batch.items()}\n",
    "#         outputs = model(**inputs)\n",
    "#         loss = outputs.loss\n",
    "#         loss.backward()\n",
    "#         optimizer.step()\n",
    "#         scheduler.step()\n",
    "\n",
    "#         train_loss += loss.item()\n",
    "#         preds = outputs.logits.argmax(dim=1)\n",
    "#         train_correct += (preds == inputs['labels']).sum().item()\n",
    "#         train_total += inputs['labels'].size(0)\n",
    "    \n",
    "#     avg_train_loss = train_loss / len(train_loader)\n",
    "#     train_accuracy = train_correct / train_total\n",
    "\n",
    "#     train_loss_values.append(avg_train_loss)\n",
    "#     train_accuracy_values.append(train_accuracy)\n",
    "    \n",
    "#     model.eval()\n",
    "#     val_loss = 0.0\n",
    "#     val_correct = 0\n",
    "#     val_total = 0\n",
    "    \n",
    "#     with torch.no_grad():\n",
    "#         for batch in tqdm(test_loader, desc=f'Validation Epoch {epoch+1}'):\n",
    "#             inputs = {key: value.to(device) for key, value in batch.items()}\n",
    "#             outputs = model(**inputs)\n",
    "#             loss = outputs.loss\n",
    "\n",
    "#             val_loss += loss.item()\n",
    "#             preds = outputs.logits.argmax(dim=1)\n",
    "#             val_correct += (preds == inputs['labels']).sum().item()\n",
    "#             val_total += inputs['labels'].size(0)\n",
    "    \n",
    "#     avg_val_loss = val_loss / len(test_loader)\n",
    "#     val_accuracy = val_correct / val_total\n",
    "    \n",
    "#     val_loss_values.append(avg_val_loss)\n",
    "#     val_accuracy_values.append(val_accuracy)\n",
    "\n",
    "#     print(f'Epoch {epoch+1}/{5}')\n",
    "#     print(f'Train Loss: {avg_train_loss:.4f} | Train Accuracy: {train_accuracy:.4f}')\n",
    "#     print(f'Val Loss: {avg_val_loss:.4f} | Val Accuracy: {val_accuracy:.4f}')\n",
    "\n",
    "# # 모델 저장\n",
    "# model.save_pretrained('./saved_model')\n",
    "# tokenizer.save_pretrained('./saved_model')\n",
    "\n",
    "# # 결과 시각화\n",
    "# plt.figure(figsize=(12, 5))\n",
    "\n",
    "# plt.subplot(1, 2, 1)\n",
    "# plt.plot(train_loss_values, label='Train Loss')\n",
    "# plt.plot(val_loss_values, label='Validation Loss')\n",
    "# plt.xlabel('Epoch')\n",
    "# plt.ylabel('Loss')\n",
    "# plt.legend()\n",
    "# plt.title('Loss Over Epochs')\n",
    "\n",
    "# plt.subplot(1, 2, 2)\n",
    "# plt.plot(train_accuracy_values, label='Train Accuracy')\n",
    "# plt.plot(val_accuracy_values, label='Validation Accuracy')\n",
    "# plt.xlabel('Epoch')\n",
    "# plt.ylabel('Accuracy')\n",
    "# plt.legend()\n",
    "# plt.title('Accuracy Over Epochs')\n",
    "\n",
    "# plt.savefig('loss_and_accuracy.png')\n",
    "\n",
    "# plt.show()    "
   ]
  },
  {
   "cell_type": "code",
   "execution_count": 10,
   "metadata": {},
   "outputs": [],
   "source": [
    "import pandas as pd\n",
    "from torch.utils.data import DataLoader, Dataset\n",
    "from transformers import BertTokenizer, BertForSequenceClassification, AdamW, BertConfig\n",
    "from transformers import get_linear_schedule_with_warmup\n",
    "import torch\n",
    "from sklearn.model_selection import train_test_split\n",
    "from sklearn.metrics import classification_report\n",
    "from tqdm import tqdm\n",
    "import matplotlib.pyplot as plt"
   ]
  },
  {
   "cell_type": "code",
   "execution_count": 11,
   "metadata": {},
   "outputs": [],
   "source": [
    "# 데이터 로드\n",
    "df = pd.read_csv('data/moralTrain.csv')\n",
    "\n",
    "# 일부 데이터 랜덤으로 사용\n",
    "df = df.sample(n=10000, random_state=42)"
   ]
  },
  {
   "cell_type": "code",
   "execution_count": 12,
   "metadata": {},
   "outputs": [
    {
     "name": "stderr",
     "output_type": "stream",
     "text": [
      "c:\\Users\\jhy97\\anaconda3\\envs\\tensor\\lib\\site-packages\\huggingface_hub\\file_download.py:1132: FutureWarning: `resume_download` is deprecated and will be removed in version 1.0.0. Downloads always resume when possible. If you want to force a new download, use `force_download=True`.\n",
      "  warnings.warn(\n"
     ]
    }
   ],
   "source": [
    "# KoBERT 토크나이저 로드\n",
    "tokenizer = BertTokenizer.from_pretrained('kykim/bert-kor-base')\n",
    "\n",
    "# 데이터셋 정의\n",
    "class HateSpeechDataset(Dataset):\n",
    "    def __init__(self, texts, labels, tokenizer, max_len=128):\n",
    "        self.texts = texts\n",
    "        self.labels = labels\n",
    "        self.tokenizer = tokenizer\n",
    "        self.max_len = max_len\n",
    "        \n",
    "    def __len__(self):\n",
    "        return len(self.texts)\n",
    "    \n",
    "    def __getitem__(self, idx):\n",
    "        text = self.texts[idx]\n",
    "        label = self.labels[idx]\n",
    "        \n",
    "        inputs = self.tokenizer.encode_plus(\n",
    "            text,\n",
    "            None,\n",
    "            add_special_tokens=True,\n",
    "            max_length=self.max_len,\n",
    "            padding='max_length',\n",
    "            return_token_type_ids=False,\n",
    "            truncation=True,\n",
    "            return_attention_mask=True,\n",
    "            return_tensors='pt'\n",
    "        )\n",
    "        \n",
    "        return {\n",
    "            'input_ids': inputs['input_ids'].flatten(),\n",
    "            'attention_mask': inputs['attention_mask'].flatten(),\n",
    "            'labels': torch.tensor(label, dtype=torch.long)\n",
    "        }"
   ]
  },
  {
   "cell_type": "code",
   "execution_count": 13,
   "metadata": {},
   "outputs": [
    {
     "name": "stderr",
     "output_type": "stream",
     "text": [
      "Some weights of the model checkpoint at kykim/bert-kor-base were not used when initializing BertForSequenceClassification: ['cls.predictions.transform.LayerNorm.bias', 'cls.seq_relationship.weight', 'cls.predictions.bias', 'cls.predictions.transform.LayerNorm.weight', 'cls.predictions.decoder.bias', 'cls.seq_relationship.bias', 'cls.predictions.transform.dense.bias', 'cls.predictions.transform.dense.weight', 'cls.predictions.decoder.weight']\n",
      "- This IS expected if you are initializing BertForSequenceClassification from the checkpoint of a model trained on another task or with another architecture (e.g. initializing a BertForSequenceClassification model from a BertForPreTraining model).\n",
      "- This IS NOT expected if you are initializing BertForSequenceClassification from the checkpoint of a model that you expect to be exactly identical (initializing a BertForSequenceClassification model from a BertForSequenceClassification model).\n",
      "Some weights of BertForSequenceClassification were not initialized from the model checkpoint at kykim/bert-kor-base and are newly initialized: ['classifier.weight', 'classifier.bias']\n",
      "You should probably TRAIN this model on a down-stream task to be able to use it for predictions and inference.\n",
      "c:\\Users\\jhy97\\anaconda3\\envs\\tensor\\lib\\site-packages\\transformers\\optimization.py:407: FutureWarning: This implementation of AdamW is deprecated and will be removed in a future version. Use the PyTorch implementation torch.optim.AdamW instead, or set `no_deprecation_warning=True` to disable this warning\n",
      "  warnings.warn(\n"
     ]
    }
   ],
   "source": [
    "# 데이터 준비\n",
    "X_train, X_test, y_train, y_test = train_test_split(df['text'], df['types'], test_size=0.2, random_state=42)\n",
    "\n",
    "train_dataset = HateSpeechDataset(X_train.tolist(), y_train.tolist(), tokenizer)\n",
    "test_dataset = HateSpeechDataset(X_test.tolist(), y_test.tolist(), tokenizer)\n",
    "\n",
    "train_loader = DataLoader(train_dataset, batch_size=16, shuffle=True)\n",
    "test_loader = DataLoader(test_dataset, batch_size=16, shuffle=False)\n",
    "\n",
    "# 모델 로드 및 파인 튜닝\n",
    "config = BertConfig.from_pretrained('kykim/bert-kor-base', hidden_dropout_prob=0.4, attention_probs_dropout_prob=0.4, num_labels=6)\n",
    "model = BertForSequenceClassification.from_pretrained('kykim/bert-kor-base', config=config)\n",
    "model.cuda()\n",
    "\n",
    "optimizer = AdamW(model.parameters(), lr=1e-5, weight_decay=0.1)\n",
    "total_steps = len(train_loader) * 20\n",
    "scheduler = get_linear_schedule_with_warmup(optimizer, num_warmup_steps=0, num_training_steps=total_steps)\n"
   ]
  },
  {
   "cell_type": "code",
   "execution_count": 14,
   "metadata": {},
   "outputs": [],
   "source": [
    "# # 조기 종료 클래스\n",
    "# class EarlyStopping:\n",
    "#     def __init__(self, patience=3, verbose=False, delta=0):\n",
    "#         self.patience = patience\n",
    "#         self.verbose = verbose\n",
    "#         self.counter = 0\n",
    "#         self.best_score = None\n",
    "#         self.early_stop = False\n",
    "#         self.val_loss_min = float('inf')\n",
    "#         self.delta = delta\n",
    "\n",
    "#     def __call__(self, val_loss, model):\n",
    "#         score = -val_loss\n",
    "\n",
    "#         if self.best_score is None:\n",
    "#             self.best_score = score\n",
    "#             self.save_checkpoint(val_loss, model)\n",
    "#         elif score < self.best_score + self.delta:\n",
    "#             self.counter += 1\n",
    "#             if self.verbose:\n",
    "#                 print(f'EarlyStopping counter: {self.counter} out of {self.patience}')\n",
    "#             if self.counter >= self.patience:\n",
    "#                 self.early_stop = True\n",
    "#         else:\n",
    "#             self.best_score = score\n",
    "#             self.save_checkpoint(val_loss, model)\n",
    "#             self.counter = 0\n",
    "\n",
    "#     def save_checkpoint(self, val_loss, model):\n",
    "#         if self.verbose:\n",
    "#             print(f'Validation loss decreased ({self.val_loss_min:.6f} --> {val_loss:.6f}).  Saving model ...')\n",
    "#         torch.save(model.state_dict(), 'checkpoint.pt')\n",
    "#         self.val_loss_min = val_loss\n",
    "\n",
    "# early_stopping = EarlyStopping(patience=3, verbose=True, delta=0.01)"
   ]
  },
  {
   "cell_type": "code",
   "execution_count": 15,
   "metadata": {},
   "outputs": [
    {
     "name": "stderr",
     "output_type": "stream",
     "text": [
      "Training Epoch 1: 100%|██████████| 500/500 [02:00<00:00,  4.16it/s]\n",
      "Validation Epoch 1: 100%|██████████| 125/125 [00:09<00:00, 12.74it/s]\n"
     ]
    },
    {
     "name": "stdout",
     "output_type": "stream",
     "text": [
      "Epoch 1/20\n",
      "Train Loss: 1.3699 | Train Accuracy: 0.4417\n",
      "Val Loss: 1.3099 | Val Accuracy: 0.5170\n"
     ]
    },
    {
     "name": "stderr",
     "output_type": "stream",
     "text": [
      "Training Epoch 2: 100%|██████████| 500/500 [02:04<00:00,  4.02it/s]\n",
      "Validation Epoch 2: 100%|██████████| 125/125 [00:10<00:00, 12.15it/s]\n"
     ]
    },
    {
     "name": "stdout",
     "output_type": "stream",
     "text": [
      "Epoch 2/20\n",
      "Train Loss: 1.3001 | Train Accuracy: 0.4911\n",
      "Val Loss: 1.1985 | Val Accuracy: 0.5520\n"
     ]
    },
    {
     "name": "stderr",
     "output_type": "stream",
     "text": [
      "Training Epoch 3: 100%|██████████| 500/500 [02:10<00:00,  3.84it/s]\n",
      "Validation Epoch 3: 100%|██████████| 125/125 [00:10<00:00, 11.99it/s]\n"
     ]
    },
    {
     "name": "stdout",
     "output_type": "stream",
     "text": [
      "Epoch 3/20\n",
      "Train Loss: 1.2602 | Train Accuracy: 0.5196\n",
      "Val Loss: 1.1572 | Val Accuracy: 0.5785\n"
     ]
    },
    {
     "name": "stderr",
     "output_type": "stream",
     "text": [
      "Training Epoch 4: 100%|██████████| 500/500 [02:10<00:00,  3.84it/s]\n",
      "Validation Epoch 4: 100%|██████████| 125/125 [00:10<00:00, 11.99it/s]\n"
     ]
    },
    {
     "name": "stdout",
     "output_type": "stream",
     "text": [
      "Epoch 4/20\n",
      "Train Loss: 1.2258 | Train Accuracy: 0.5531\n",
      "Val Loss: 1.0917 | Val Accuracy: 0.6065\n"
     ]
    },
    {
     "name": "stderr",
     "output_type": "stream",
     "text": [
      "Training Epoch 5: 100%|██████████| 500/500 [02:10<00:00,  3.84it/s]\n",
      "Validation Epoch 5: 100%|██████████| 125/125 [00:10<00:00, 11.90it/s]\n"
     ]
    },
    {
     "name": "stdout",
     "output_type": "stream",
     "text": [
      "Epoch 5/20\n",
      "Train Loss: 1.1939 | Train Accuracy: 0.5734\n",
      "Val Loss: 1.1001 | Val Accuracy: 0.5985\n"
     ]
    },
    {
     "name": "stderr",
     "output_type": "stream",
     "text": [
      "Training Epoch 6: 100%|██████████| 500/500 [02:09<00:00,  3.86it/s]\n",
      "Validation Epoch 6: 100%|██████████| 125/125 [00:10<00:00, 11.99it/s]\n"
     ]
    },
    {
     "name": "stdout",
     "output_type": "stream",
     "text": [
      "Epoch 6/20\n",
      "Train Loss: 1.1660 | Train Accuracy: 0.5804\n",
      "Val Loss: 1.0731 | Val Accuracy: 0.6085\n"
     ]
    },
    {
     "name": "stderr",
     "output_type": "stream",
     "text": [
      "Training Epoch 7: 100%|██████████| 500/500 [02:09<00:00,  3.86it/s]\n",
      "Validation Epoch 7: 100%|██████████| 125/125 [00:10<00:00, 12.00it/s]\n"
     ]
    },
    {
     "name": "stdout",
     "output_type": "stream",
     "text": [
      "Epoch 7/20\n",
      "Train Loss: 1.1493 | Train Accuracy: 0.5906\n",
      "Val Loss: 1.0869 | Val Accuracy: 0.6075\n"
     ]
    },
    {
     "name": "stderr",
     "output_type": "stream",
     "text": [
      "Training Epoch 8: 100%|██████████| 500/500 [02:09<00:00,  3.87it/s]\n",
      "Validation Epoch 8: 100%|██████████| 125/125 [00:10<00:00, 12.03it/s]\n"
     ]
    },
    {
     "name": "stdout",
     "output_type": "stream",
     "text": [
      "Epoch 8/20\n",
      "Train Loss: 1.1459 | Train Accuracy: 0.5907\n",
      "Val Loss: 1.0812 | Val Accuracy: 0.6055\n"
     ]
    },
    {
     "name": "stderr",
     "output_type": "stream",
     "text": [
      "Training Epoch 9: 100%|██████████| 500/500 [02:09<00:00,  3.86it/s]\n",
      "Validation Epoch 9: 100%|██████████| 125/125 [00:10<00:00, 11.99it/s]\n"
     ]
    },
    {
     "name": "stdout",
     "output_type": "stream",
     "text": [
      "Epoch 9/20\n",
      "Train Loss: 1.1274 | Train Accuracy: 0.6029\n",
      "Val Loss: 1.0934 | Val Accuracy: 0.5980\n"
     ]
    },
    {
     "name": "stderr",
     "output_type": "stream",
     "text": [
      "Training Epoch 10: 100%|██████████| 500/500 [02:09<00:00,  3.87it/s]\n",
      "Validation Epoch 10: 100%|██████████| 125/125 [00:10<00:00, 11.96it/s]\n"
     ]
    },
    {
     "name": "stdout",
     "output_type": "stream",
     "text": [
      "Epoch 10/20\n",
      "Train Loss: 1.1147 | Train Accuracy: 0.6042\n",
      "Val Loss: 1.0358 | Val Accuracy: 0.6300\n"
     ]
    },
    {
     "name": "stderr",
     "output_type": "stream",
     "text": [
      "Training Epoch 11: 100%|██████████| 500/500 [02:09<00:00,  3.86it/s]\n",
      "Validation Epoch 11: 100%|██████████| 125/125 [00:10<00:00, 11.96it/s]\n"
     ]
    },
    {
     "name": "stdout",
     "output_type": "stream",
     "text": [
      "Epoch 11/20\n",
      "Train Loss: 1.1125 | Train Accuracy: 0.6086\n",
      "Val Loss: 1.0482 | Val Accuracy: 0.6200\n"
     ]
    },
    {
     "name": "stderr",
     "output_type": "stream",
     "text": [
      "Training Epoch 12: 100%|██████████| 500/500 [02:09<00:00,  3.87it/s]\n",
      "Validation Epoch 12: 100%|██████████| 125/125 [00:10<00:00, 12.09it/s]\n"
     ]
    },
    {
     "name": "stdout",
     "output_type": "stream",
     "text": [
      "Epoch 12/20\n",
      "Train Loss: 1.0889 | Train Accuracy: 0.6158\n",
      "Val Loss: 1.0267 | Val Accuracy: 0.6295\n"
     ]
    },
    {
     "name": "stderr",
     "output_type": "stream",
     "text": [
      "Training Epoch 13: 100%|██████████| 500/500 [02:08<00:00,  3.88it/s]\n",
      "Validation Epoch 13: 100%|██████████| 125/125 [00:10<00:00, 12.00it/s]\n"
     ]
    },
    {
     "name": "stdout",
     "output_type": "stream",
     "text": [
      "Epoch 13/20\n",
      "Train Loss: 1.0761 | Train Accuracy: 0.6092\n",
      "Val Loss: 1.0487 | Val Accuracy: 0.6230\n"
     ]
    },
    {
     "name": "stderr",
     "output_type": "stream",
     "text": [
      "Training Epoch 14: 100%|██████████| 500/500 [02:08<00:00,  3.88it/s]\n",
      "Validation Epoch 14: 100%|██████████| 125/125 [00:10<00:00, 12.14it/s]\n"
     ]
    },
    {
     "name": "stdout",
     "output_type": "stream",
     "text": [
      "Epoch 14/20\n",
      "Train Loss: 1.0648 | Train Accuracy: 0.6235\n",
      "Val Loss: 1.0540 | Val Accuracy: 0.6180\n"
     ]
    },
    {
     "name": "stderr",
     "output_type": "stream",
     "text": [
      "Training Epoch 15: 100%|██████████| 500/500 [02:09<00:00,  3.86it/s]\n",
      "Validation Epoch 15: 100%|██████████| 125/125 [00:10<00:00, 11.98it/s]\n"
     ]
    },
    {
     "name": "stdout",
     "output_type": "stream",
     "text": [
      "Epoch 15/20\n",
      "Train Loss: 1.0590 | Train Accuracy: 0.6246\n",
      "Val Loss: 1.0063 | Val Accuracy: 0.6340\n"
     ]
    },
    {
     "name": "stderr",
     "output_type": "stream",
     "text": [
      "Training Epoch 16: 100%|██████████| 500/500 [02:09<00:00,  3.87it/s]\n",
      "Validation Epoch 16: 100%|██████████| 125/125 [00:10<00:00, 11.99it/s]\n"
     ]
    },
    {
     "name": "stdout",
     "output_type": "stream",
     "text": [
      "Epoch 16/20\n",
      "Train Loss: 1.0474 | Train Accuracy: 0.6218\n",
      "Val Loss: 1.0233 | Val Accuracy: 0.6315\n"
     ]
    },
    {
     "name": "stderr",
     "output_type": "stream",
     "text": [
      "Training Epoch 17: 100%|██████████| 500/500 [02:09<00:00,  3.87it/s]\n",
      "Validation Epoch 17: 100%|██████████| 125/125 [00:10<00:00, 11.98it/s]\n"
     ]
    },
    {
     "name": "stdout",
     "output_type": "stream",
     "text": [
      "Epoch 17/20\n",
      "Train Loss: 1.0467 | Train Accuracy: 0.6231\n",
      "Val Loss: 1.0174 | Val Accuracy: 0.6320\n"
     ]
    },
    {
     "name": "stderr",
     "output_type": "stream",
     "text": [
      "Training Epoch 18: 100%|██████████| 500/500 [02:08<00:00,  3.89it/s]\n",
      "Validation Epoch 18: 100%|██████████| 125/125 [00:10<00:00, 12.10it/s]\n"
     ]
    },
    {
     "name": "stdout",
     "output_type": "stream",
     "text": [
      "Epoch 18/20\n",
      "Train Loss: 1.0461 | Train Accuracy: 0.6221\n",
      "Val Loss: 1.0262 | Val Accuracy: 0.6350\n"
     ]
    },
    {
     "name": "stderr",
     "output_type": "stream",
     "text": [
      "Training Epoch 19: 100%|██████████| 500/500 [02:08<00:00,  3.89it/s]\n",
      "Validation Epoch 19: 100%|██████████| 125/125 [00:10<00:00, 12.01it/s]\n"
     ]
    },
    {
     "name": "stdout",
     "output_type": "stream",
     "text": [
      "Epoch 19/20\n",
      "Train Loss: 1.0280 | Train Accuracy: 0.6311\n",
      "Val Loss: 1.0295 | Val Accuracy: 0.6315\n"
     ]
    },
    {
     "name": "stderr",
     "output_type": "stream",
     "text": [
      "Training Epoch 20: 100%|██████████| 500/500 [02:08<00:00,  3.90it/s]\n",
      "Validation Epoch 20: 100%|██████████| 125/125 [00:10<00:00, 12.06it/s]"
     ]
    },
    {
     "name": "stdout",
     "output_type": "stream",
     "text": [
      "Epoch 20/20\n",
      "Train Loss: 1.0243 | Train Accuracy: 0.6308\n",
      "Val Loss: 1.0251 | Val Accuracy: 0.6335\n"
     ]
    },
    {
     "name": "stderr",
     "output_type": "stream",
     "text": [
      "\n"
     ]
    }
   ],
   "source": [
    "# 모델 학습\n",
    "device = torch.device(\"cuda\" if torch.cuda.is_available() else \"cpu\")\n",
    "\n",
    "train_loss_values = []\n",
    "train_accuracy_values = []\n",
    "val_loss_values = []\n",
    "val_accuracy_values = []\n",
    "\n",
    "for epoch in range(20):\n",
    "    model.train()\n",
    "    train_loss = 0.0\n",
    "    train_correct = 0\n",
    "    train_total = 0\n",
    "    \n",
    "    for batch in tqdm(train_loader, desc=f'Training Epoch {epoch+1}'):\n",
    "        optimizer.zero_grad()\n",
    "        inputs = {key: value.to(device) for key, value in batch.items()}\n",
    "        outputs = model(**inputs)\n",
    "        loss = outputs.loss\n",
    "        loss.backward()\n",
    "        optimizer.step()\n",
    "        scheduler.step()\n",
    "\n",
    "        train_loss += loss.item()\n",
    "        preds = outputs.logits.argmax(dim=1)\n",
    "        train_correct += (preds == inputs['labels']).sum().item()\n",
    "        train_total += inputs['labels'].size(0)\n",
    "    \n",
    "    avg_train_loss = train_loss / len(train_loader)\n",
    "    train_accuracy = train_correct / train_total\n",
    "\n",
    "    train_loss_values.append(avg_train_loss)\n",
    "    train_accuracy_values.append(train_accuracy)\n",
    "    \n",
    "    model.eval()\n",
    "    val_loss = 0.0\n",
    "    val_correct = 0\n",
    "    val_total = 0\n",
    "    \n",
    "    with torch.no_grad():\n",
    "        for batch in tqdm(test_loader, desc=f'Validation Epoch {epoch+1}'):\n",
    "            inputs = {key: value.to(device) for key, value in batch.items()}\n",
    "            outputs = model(**inputs)\n",
    "            loss = outputs.loss\n",
    "\n",
    "            val_loss += loss.item()\n",
    "            preds = outputs.logits.argmax(dim=1)\n",
    "            val_correct += (preds == inputs['labels']).sum().item()\n",
    "            val_total += inputs['labels'].size(0)\n",
    "    \n",
    "    avg_val_loss = val_loss / len(test_loader)\n",
    "    val_accuracy = val_correct / val_total\n",
    "    \n",
    "    val_loss_values.append(avg_val_loss)\n",
    "    val_accuracy_values.append(val_accuracy)\n",
    "\n",
    "    print(f'Epoch {epoch+1}/{20}')\n",
    "    print(f'Train Loss: {avg_train_loss:.4f} | Train Accuracy: {train_accuracy:.4f}')\n",
    "    print(f'Val Loss: {avg_val_loss:.4f} | Val Accuracy: {val_accuracy:.4f}')\n",
    "\n",
    "    # early_stopping(avg_val_loss, model)\n",
    "    # if early_stopping.early_stop:\n",
    "    #     print(\"Early stopping\")\n",
    "    #     break"
   ]
  },
  {
   "cell_type": "code",
   "execution_count": 16,
   "metadata": {},
   "outputs": [
    {
     "data": {
      "image/png": "[encoded data removed]",
      "text/plain": [
       "<Figure size 1200x500 with 2 Axes>"
      ]
     },
     "metadata": {},
     "output_type": "display_data"
    },
    {
     "ename": "",
     "evalue": "",
     "output_type": "error",
     "traceback": [
      "\u001b[1;31m현재 셀 또는 이전 셀에서 코드를 실행하는 동안 Kernel이 충돌했습니다. \n",
      "\u001b[1;31m셀의 코드를 검토하여 가능한 오류 원인을 식별하세요. \n",
      "\u001b[1;31m자세한 내용을 보려면 <a href='https://aka.ms/vscodeJupyterKernelCrash'>여기</a>를 클릭하세요. \n",
      "\u001b[1;31m자세한 내용은 Jupyter <a href='command:jupyter.viewOutput'>로그</a>를 참조하세요."
     ]
    }
   ],
   "source": [
    "# 모델 저장\n",
    "model.save_pretrained('./saved_model')\n",
    "tokenizer.save_pretrained('./saved_model')\n",
    "\n",
    "# 결과 시각화\n",
    "plt.figure(figsize=(12, 5))\n",
    "\n",
    "plt.subplot(1, 2, 1)\n",
    "plt.plot(train_loss_values, label='Train Loss')\n",
    "plt.plot(val_loss_values, label='Validation Loss')\n",
    "plt.xlabel('Epoch')\n",
    "plt.ylabel('Loss')\n",
    "plt.legend()\n",
    "plt.title('Loss Over Epochs')\n",
    "\n",
    "plt.subplot(1, 2, 2)\n",
    "plt.plot(train_accuracy_values, label='Train Accuracy')\n",
    "plt.plot(val_accuracy_values, label='Validation Accuracy')\n",
    "plt.xlabel('Epoch')\n",
    "plt.ylabel('Accuracy')\n",
    "plt.legend()\n",
    "plt.title('Accuracy Over Epochs')\n",
    "\n",
    "plt.savefig('loss_and_accuracy.png')\n",
    "\n",
    "plt.show()"
   ]
  }
 ],
 "metadata": {
  "kernelspec": {
   "display_name": "tensor",
   "language": "python",
   "name": "python3"
  },
  "language_info": {
   "codemirror_mode": {
    "name": "ipython",
    "version": 3
   },
   "file_extension": ".py",
   "mimetype": "text/x-python",
   "name": "python",
   "nbconvert_exporter": "python",
   "pygments_lexer": "ipython3",
   "version": "3.10.14"
  }
 },
 "nbformat": 4,
 "nbformat_minor": 2
}
