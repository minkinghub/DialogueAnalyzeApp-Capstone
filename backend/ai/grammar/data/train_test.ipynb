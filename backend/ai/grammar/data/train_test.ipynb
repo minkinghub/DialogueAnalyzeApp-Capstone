{
 "cells": [
  {
   "cell_type": "code",
   "execution_count": null,
   "metadata": {},
   "outputs": [],
   "source": [
    "# typos_datasets를 train, test 데이터로 나누는 코드 작성\n",
    "import pandas as pd\n",
    "from sklearn.model_selection import train_test_split\n",
    "\n",
    "# 데이터 불러오기\n",
    "typos_datasets = pd.read_csv('typos_datasets.csv', encoding='utf-8')\n",
    "\n",
    "# train, test 데이터로 나누기\n",
    "train, test = train_test_split(typos_datasets, test_size=0.2, random_state=42)"
   ]
  }
 ],
 "metadata": {
  "language_info": {
   "name": "python"
  }
 },
 "nbformat": 4,
 "nbformat_minor": 2
}
