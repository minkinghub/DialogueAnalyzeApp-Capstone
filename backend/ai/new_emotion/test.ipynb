{
 "cells": [
  {
   "cell_type": "code",
   "execution_count": null,
   "metadata": {},
   "outputs": [],
   "source": [
    "import numpy as np\n",
    "\n",
    "from tqdm.notebook import tqdm\n",
    "\n",
    "import torch ## version >= 1.8.2\n",
    "import torch.nn as nn\n",
    "\n",
    "import pytorch_lightning as pl ## version == 1.4.9\n",
    "\n",
    "import datasets ## version == 2.1.0\n",
    "\n",
    "from transformers import AutoTokenizer, AutoModel ## version == 4.12.3"
   ]
  }
 ],
 "metadata": {
  "language_info": {
   "name": "python"
  }
 },
 "nbformat": 4,
 "nbformat_minor": 2
}
