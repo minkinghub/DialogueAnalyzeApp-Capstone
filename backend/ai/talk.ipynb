{
 "cells": [
  {
   "cell_type": "code",
   "execution_count": 8,
   "metadata": {},
   "outputs": [],
   "source": [
    "import csv\n",
    "import pandas as pd\n",
    "import json\n",
    "\n",
    "# JSON 파일 로드\n",
    "with open('시사교육.json', 'r', encoding='utf-8') as file:\n",
    "    data = json.load(file)\n",
    "\n",
    "# 데이터 프레임에 저장할 빈 리스트 생성\n",
    "rows = []\n",
    "\n",
    "# JSON 데이터 파싱\n",
    "for item in data['data']:\n",
    "    dialogue_info = item['header']['dialogueInfo']\n",
    "    participants_info = \"; \".join([f\"{p['participantID']}({p['gender']}, {p['age']}, {p['residentialProvince']})\" for p in item['header']['participantsInfo']])\n",
    "    body_info = \"; \".join([p['utterance'].replace('\"', '\"\"').replace('\\n', ' ') for p in item['body']['dialogue']])  # 수정된 부분\n",
    "    summary = item['body']['summary']\n",
    "    \n",
    "    # 행 데이터 추가\n",
    "    rows.append([\n",
    "        dialogue_info['dialogueID'],\n",
    "        dialogue_info['numberOfParticipants'],\n",
    "        dialogue_info['numberOfUtterances'],\n",
    "        dialogue_info['numberOfTurns'],\n",
    "        dialogue_info['type'],\n",
    "        dialogue_info['topic'],\n",
    "        participants_info,\n",
    "        body_info,  # 추가된 부분\n",
    "        summary\n",
    "    ])\n",
    "\n",
    "# 데이터 프레임 생성\n",
    "df = pd.DataFrame(rows, columns=['dialogueID', 'numberOfParticipants', 'numberOfUtterances', 'numberOfTurns', 'type', 'topic', 'participantsInfo', 'bodyInfo', 'summary'])  # 수정된 부분\n",
    "# CSV 파일로 저장\n",
    "df.to_csv('dialogues.csv', index=False, encoding='utf-8-sig', quoting=csv.QUOTE_ALL)\n",
    "\n"
   ]
  },
  {
   "cell_type": "code",
   "execution_count": 13,
   "metadata": {},
   "outputs": [],
   "source": [
    "import csv\n",
    "import pandas as pd\n",
    "import json\n",
    "\n",
    "# JSON 파일 로드\n",
    "with open('시사교육.json', 'r', encoding='utf-8') as file:\n",
    "    data = json.load(file)\n",
    "\n",
    "# 데이터 프레임에 저장할 빈 리스트 생성\n",
    "rows = []\n",
    "\n",
    "# JSON 데이터 파싱\n",
    "for item in data['data']:\n",
    "    # 쉼표를 포함하여 특정 문자 제거\n",
    "    body_info = \"; \".join([p['utterance'].replace('\"', '\"\"').replace('\\n', ' ').replace(',', '') for p in item['body']['dialogue']])\n",
    "\n",
    "    # 행 데이터 추가\n",
    "    rows.append([\n",
    "        body_info\n",
    "    ])\n",
    "\n",
    "# 데이터 프레임 생성\n",
    "df = pd.DataFrame(rows, columns=['utterance'])\n",
    "\n",
    "# CSV 파일로 저장\n",
    "df.to_csv('dialogues_utterance.csv', index=False, encoding='utf-8-sig')\n"
   ]
  },
  {
   "cell_type": "code",
   "execution_count": null,
   "metadata": {},
   "outputs": [],
   "source": [
    "print(\"hello\")"
   ]
  },
  {
   "cell_type": "code",
   "execution_count": null,
   "metadata": {},
   "outputs": [
    {
     "name": "stdout",
     "output_type": "stream",
     "text": [
      "cpu\n"
     ]
    }
   ],
   "source": [
    "import torch\n",
    "device = torch.device(\"cuda\" if torch.cuda.is_available() else \"cpu\")\n",
    "print(device)\n"
   ]
  },
  {
   "cell_type": "code",
   "execution_count": 2,
   "metadata": {},
   "outputs": [
    {
     "name": "stdout",
     "output_type": "stream",
     "text": [
      "[name: \"/device:CPU:0\"\n",
      "device_type: \"CPU\"\n",
      "memory_limit: 268435456\n",
      "locality {\n",
      "}\n",
      "incarnation: 16322383825153536414\n",
      "xla_global_id: -1\n",
      "]\n"
     ]
    }
   ],
   "source": [
    "from tensorflow.python.client import device_lib\n",
    "print(device_lib.list_local_devices())"
   ]
  }
 ],
 "metadata": {
  "kernelspec": {
   "display_name": "Python 3",
   "language": "python",
   "name": "python3"
  },
  "language_info": {
   "codemirror_mode": {
    "name": "ipython",
    "version": 3
   },
   "file_extension": ".py",
   "mimetype": "text/x-python",
   "name": "python",
   "nbconvert_exporter": "python",
   "pygments_lexer": "ipython3",
   "version": "undefined.undefined.undefined"
  }
 },
 "nbformat": 4,
 "nbformat_minor": 2
}
