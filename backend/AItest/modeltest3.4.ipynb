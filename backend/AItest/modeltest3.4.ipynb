{
 "cells": [
  {
   "cell_type": "code",
   "execution_count": 10,
   "metadata": {},
   "outputs": [
    {
     "name": "stdout",
     "output_type": "stream",
     "text": [
      "[(1, 0.8440986440300812), (10, 0.17249331920814662), (36, 0.13109672323228735), (11, 0.103201550289088), (16, 0.08775335385910164)]\n"
     ]
    }
   ],
   "source": [
    "from sklearn.feature_extraction.text import TfidfVectorizer\n",
    "from sklearn.metrics.pairwise import cosine_similarity\n",
    "import pandas as pd\n",
    "\n",
    "# CSV 파일 로드\n",
    "file_path = 'recipe_2.16_gpt수정본.csv'  # 실제 파일 경로로 대체 필요\n",
    "recipe_df = pd.read_csv(file_path)\n",
    "\n",
    "# 'INGREDIENTS' 열 생성\n",
    "def concatenate_ingredients(row):\n",
    "    ingredients = []\n",
    "    for i in range(1, 26):  # 가정: 레시피당 최대 25개의 재료\n",
    "        ing_name = row.get(f'ING_NAME{i}', '')\n",
    "        amount = row.get(f'AMOUNT{i}', '')\n",
    "        if pd.notna(ing_name) and pd.notna(amount):\n",
    "            ingredients.append(f\"{ing_name}:{amount}\")\n",
    "    return ' '.join(ingredients)\n",
    "\n",
    "recipe_df['INGREDIENTS'] = recipe_df.apply(concatenate_ingredients, axis=1)\n",
    "\n",
    "# TF-IDF Vectorizer 초기화 및 학습\n",
    "tfidf_vectorizer = TfidfVectorizer()\n",
    "tfidf_matrix = tfidf_vectorizer.fit_transform(recipe_df['INGREDIENTS'])\n",
    "\n",
    "# 사용자의 재료 리스트\n",
    "user_ingredients = \"연두부 칵테일새우\"\n",
    "\n",
    "# 사용자의 재료 리스트를 TF-IDF 벡터로 변환\n",
    "user_vector = tfidf_vectorizer.transform([user_ingredients])\n",
    "\n",
    "# 코사인 유사도 계산\n",
    "cosine_similarities = cosine_similarity(user_vector, tfidf_matrix)\n",
    "\n",
    "# 상위 5개 유사 레시피 찾기\n",
    "similarities = list(enumerate(cosine_similarities[0]))\n",
    "top_similarities = sorted(similarities, key=lambda x: x[1], reverse=True)[:5]\n",
    "\n",
    "# 상위 5개 레시피 번호 및 유사도 출력\n",
    "top_recipe_numbers = [(recipe_df.iloc[i]['NUMBER'], sim) for i, sim in top_similarities]\n",
    "print(top_recipe_numbers)\n",
    "\n"
   ]
  },
  {
   "cell_type": "code",
   "execution_count": 2,
   "metadata": {},
   "outputs": [
    {
     "name": "stdout",
     "output_type": "stream",
     "text": [
      "Note: you may need to restart the kernel to use updated packages.\n"
     ]
    },
    {
     "name": "stderr",
     "output_type": "stream",
     "text": [
      "ERROR: Could not find a version that satisfies the requirement TfidfVectorizer (from versions: none)\n",
      "ERROR: No matching distribution found for TfidfVectorizer\n",
      "WARNING: There was an error checking the latest version of pip.\n"
     ]
    }
   ],
   "source": []
  }
 ],
 "metadata": {
  "kernelspec": {
   "display_name": "Python 3",
   "language": "python",
   "name": "python3"
  },
  "language_info": {
   "codemirror_mode": {
    "name": "ipython",
    "version": 3
   },
   "file_extension": ".py",
   "mimetype": "text/x-python",
   "name": "python",
   "nbconvert_exporter": "python",
   "pygments_lexer": "ipython3",
   "version": "3.10.7"
  }
 },
 "nbformat": 4,
 "nbformat_minor": 2
}
