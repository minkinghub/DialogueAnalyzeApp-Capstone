{
 "cells": [
  {
   "cell_type": "code",
   "execution_count": 2,
   "metadata": {},
   "outputs": [],
   "source": [
    "import pandas as pd\n",
    "\n",
    "# CSV 파일 읽기\n",
    "df = pd.read_csv('recipe_2.16_삭제본.csv')\n",
    "\n",
    "# 새로운 데이터프레임 생성\n",
    "new_df = pd.DataFrame(columns=df.columns)\n",
    "\n",
    "# 새로운 데이터프레임 생성\n",
    "new_df = pd.DataFrame(columns=df.columns)\n",
    "\n",
    "# \"RCP_PARTS_DTLS\" 열의 내용을 쪼개어 새로운 행을 추가\n",
    "for index, row in df.iterrows():\n",
    "    parts_details = row['RCP_PARTS_DTLS']\n",
    "    parts_details_list = parts_details.split(',')\n",
    "    \n",
    "    for item in parts_details_list:\n",
    "        new_row = row.copy()\n",
    "        new_row['RCP_PARTS_DTLS'] = item.strip()\n",
    "        new_df = pd.concat([new_df, pd.DataFrame([new_row])], ignore_index=True)\n",
    "\n",
    "# 새로운 데이터프레임을 새로운 CSV 파일로 저장\n",
    "new_df.to_csv('recipe_2.16_삭제본의수정본.csv', index=False)"
   ]
  },
  {
   "cell_type": "code",
   "execution_count": 9,
   "metadata": {},
   "outputs": [
    {
     "name": "stdout",
     "output_type": "stream",
     "text": [
      "File 'recipe_2.16_삭제본의수정본수정본.csv' has been saved.\n"
     ]
    }
   ],
   "source": [
    "df = pd.read_csv('recipe_2.16_삭제본의수정본.csv')\n",
    "\n",
    "# Using regular expression to split at the first occurrence of a space after a digit\n",
    "df[['ING_NAME', 'AMOUNT']] = df['RCP_PARTS_DTLS'].str.extract(r'(\\D+)(\\d.*)')\n",
    "\n",
    "# Drop the original 'RCP_PARTS_DTLS' column\n",
    "df.drop('RCP_PARTS_DTLS', axis=1, inplace=True)\n",
    "\n",
    "df['AMOUNT'] = df['AMOUNT'].str.replace('g', '')\n",
    "\n",
    "# Save the updated DataFrame to a new CSV file\n",
    "df.to_csv('recipe_2.16_삭제본의수정본수정본.csv', index=False)\n",
    "\n",
    "# Print a message indicating that the file has been saved\n",
    "print(\"File 'recipe_2.16_삭제본의수정본수정본.csv' has been saved.\")"
   ]
  },
  {
   "cell_type": "code",
   "execution_count": 18,
   "metadata": {},
   "outputs": [],
   "source": [
    "# Read the CSV file\n",
    "df = pd.read_csv('recipe_2.16_삭제본의수정본수정본.csv', encoding='utf-8')\n",
    "\n",
    "# Add a new column \"NUMBER\" and initialize it to 0\n",
    "df['NUMBER'] = 1\n",
    "\n",
    "# Increment \"NUMBER\" only when INFO_ENG changes\n",
    "current_number = 1\n",
    "for i in range(1, len(df)):\n",
    "    if df['INFO_ENG'][i] != df['INFO_ENG'][i - 1]:\n",
    "        current_number += 1\n",
    "    df.at[i, 'NUMBER'] = current_number\n",
    "\n",
    "# Save the modified DataFrame to a new CSV file\n",
    "df.to_csv('recipe_2.16_삭제본의수정본3.csv', index=False, encoding='utf-8')\n"
   ]
  },
  {
   "cell_type": "code",
   "execution_count": null,
   "metadata": {},
   "outputs": [],
   "source": []
  }
 ],
 "metadata": {
  "kernelspec": {
   "display_name": "Python 3",
   "language": "python",
   "name": "python3"
  },
  "language_info": {
   "codemirror_mode": {
    "name": "ipython",
    "version": 3
   },
   "file_extension": ".py",
   "mimetype": "text/x-python",
   "name": "python",
   "nbconvert_exporter": "python",
   "pygments_lexer": "ipython3",
   "version": "3.10.7"
  }
 },
 "nbformat": 4,
 "nbformat_minor": 2
}
