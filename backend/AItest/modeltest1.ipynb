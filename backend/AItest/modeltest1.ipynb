{
 "cells": [
  {
   "cell_type": "code",
   "execution_count": 36,
   "metadata": {},
   "outputs": [],
   "source": [
    "import pandas as pd\n",
    "import numpy as np\n",
    "from sklearn.model_selection import train_test_split\n",
    "from sklearn.preprocessing import StandardScaler\n",
    "from sklearn.metrics import mean_squared_error\n",
    "import tensorflow as tf\n",
    "from tensorflow import keras\n",
    "from tensorflow.keras import layers"
   ]
  },
  {
   "cell_type": "code",
   "execution_count": 53,
   "metadata": {},
   "outputs": [],
   "source": [
    "df = pd.read_csv('recipe_2.16_삭제본.csv')"
   ]
  },
  {
   "cell_type": "code",
   "execution_count": 74,
   "metadata": {},
   "outputs": [
    {
     "name": "stdout",
     "output_type": "stream",
     "text": [
      "0     연두부 75g, 칵테일새우 20g, 달걀 30g, 생크림 13g, 설탕 5g, 무염...\n",
      "1     조선부추 50g, 날콩가루 7g, 저염간장 3g, 다진 대파 5g, 다진 마늘 2g...\n",
      "2     방울토마토 150g, 양파 10g, 부추 10g, 고춧가루 4g, 멸치액젓 3g, ...\n",
      "3                    오이 70g, 다진 땅콩 10g, 순두부 40g, 사과 50g\n",
      "4     북어채 25g, 새우 10g, 사과 30g, 양파 40g, 표고버섯 20g, 물 300g\n",
      "5     황태 15g, 콩나물 30g, 무 30g, 저염된장 10g, 물 300g 청양고추 ...\n",
      "6     두부 20g, 애느타리버섯 20g, 감자 10g, 양파 10g, 대파 10g, 된장...\n",
      "7     국물용 멸치 5g, 다시마 5g 양파 10g, , 국간장 5g, 물 300g, 청경...\n",
      "8     치커리 30g, 적양배추 15g, 양파 10g, 당근 5g,\\r\\n 올리브유 10g...\n",
      "9     딸기 70g, 플레인요거트 85g, 양상추 70g, 메추리알 30g, 블루베리 15...\n",
      "10    감자 80g, 아몬드 2g, 설탕 2g, 크랜베리 3g, 치커리 5g,\\r\\n 시금...\n",
      "11    새송이버섯 70g, 올리브유 10g, 치커리 10g, 연두부 30g, 다진 양파 1...\n",
      "12    가지 20g, 호박 50g, 새송이버섯 15g, 양파 15g, 발사믹크레마 15g,...\n",
      "13    브로콜리 40g, 컬리플라워 40g, 적양파 10g, 강낭콩 5g, 건포도 5알 호...\n",
      "14                                    당근 100g, 오렌지 100g\n",
      "15    소면 160g, 저염 소금 4g, 식초 8g, 석류 200g, 잣 4g, 아몬드 4...\n",
      "16    실곤약 440g, 검은콩 70g, 흑임자 6g, 호두 6g, 오이 20g, 토마토 ...\n",
      "17    만두피 4g, 브로콜리 100g, 숙주 100g, 표고버섯 20g, 닭 가슴살 10...\n",
      "18    소면 50g,\\r\\n 함초 3g, 노루궁뎅이 버섯 25g, 다시마 17g, 파 14...\n",
      "19    두부 320g, 쌀뜨물 300g, 돼지고기 100g, 김치 140g, 된장 20g,...\n",
      "20    다시마 1g, 두부 10g, 떡국 떡 10g, 스팸 10g, 다진 마늘 5g, 무 ...\n",
      "21    감자 100g, 양배추 150g, 당근 15g, 두부 20g, 돼지고기 30g, 청...\n",
      "22    돌나물 90g, 미니새송이버섯 60g, 참기름 5g, 마요네즈 10g, 레몬즙 20...\n",
      "23    배추 70g, 석류즙 10g, 소금 5g,\\r\\n 무 10g, 미나리 10g, 쪽파...\n",
      "24    대구살 120g, 홍 파프리카 10g, 황 파프리카 10g,청 파프리카 10g, 황...\n",
      "25    자색 고구마 10g, 무 10g, 배 80g, 배추 200g, 부추 10g, 사과 ...\n",
      "26    애호박 70g, 양송이 버섯 60g, 가지 70g, 저염 살라미 25g, 사과 60...\n",
      "27    민들레 잎 40g, 비트 5g, 오렌지 40g,\\r\\n 간장 20g, 홍고추 10g...\n",
      "28    가지 100g, 토마토 200g, 문순 20g, 마늘 10g, 올리브 오일 30g,...\n",
      "29    돼지고기 50g, 배춧잎 부추 30g, 쌀 100g, 당근 20g,\\r\\n표고버섯 ...\n",
      "30    소고기 100g, 돼지고기 100g, 대추 양파 30g,\\r\\n마늘 20g, 배 1...\n",
      "31    닭고기 1000g, 가시오가피 10g, 대파 20g, 다시마 10g,\\r\\n건새우 ...\n",
      "32    호박잎 10g, 닭가슴살 120g, 찹쌀 100g, 대추 20g,\\r\\n미나리 20...\n",
      "33    황태채 100g, 곤약 100g, 건미역 20g, 들깨가루 20g,\\r\\n두부 50...\n",
      "34    훈제오리 가슴살 150g, 발사믹 소스 50g,\\r\\n양파 30g, 파슬리 5g, ...\n",
      "35    훈제 가슴살 150g, 로즈마리 2g, 오렌지 170g\\r\\n새송이버섯 50g, 파...\n",
      "36    전복 200g, 새우 75g, 시금치 30g, 해초 20g,\\r\\n저염 간장 20g...\n",
      "37    검은콩 200g, 메밀면 120g, 오이 30g, 방울토마토\\r\\n땅콩 20g, 잣...\n",
      "38    산마 100g, 참나물 20g, 돈나물 20g, 토마토 100g,\\r\\n레디쉬 50...\n",
      "39    닭가슴살 60g, 애호박 30g, 미나리 20g, 청양고추 3g, 두부 60g,\\r...\n",
      "40    콩나물 30g, 김치 50g,\\r\\n두부 40g, 홍고추 15g, 돼지고기 등심 6...\n",
      "41    풋고추 10g, 백김치 100g, 콩비지 100g,\\r\\n참기름 8g, 후춧가루 0...\n",
      "42    오징어 100g, 두부 50g, 팽이버섯 20g, 붉은 고추 4g,\\r\\n고구마 3...\n",
      "43    주꾸미 40g, 김치 40g, 무 10g, 마늘 3g, 대파 3g, 양파 10g, ...\n",
      "44    느타리버섯 10g, 두부 50g, 콩나물 10g,\\r\\n배추 40g, 미나리 20g...\n",
      "45    통조림 햄 30g, 우유 100g, 실곤약 50g, 양파 30g, 느타리버섯 25g...\n",
      "46    닭가슴살 100g, 당근 20g, 홍고추 6g,\\r\\n풋고추 6g, 대파 6g, 쑥...\n",
      "47    햄 30g, 애호박 20g, 두부 20g, 팽이버섯 20g, 청양고추 5g, 김치 ...\n",
      "48    굴 40g, 멸치 2g, 표고버섯 10g, 느타리버섯 40g, 무 20g,\\r\\n양...\n",
      "49    콩 30g, 느타리버섯 10g, 표고버섯 10g, 애호박 20g,\\r\\n양파 10g...\n",
      "Name: RCP_PARTS_DTLS, dtype: object\n"
     ]
    }
   ],
   "source": [
    "# 특징과 레이블 추출\n",
    "X = df['RCP_PARTS_DTLS']\n",
    "y = df[['INFO_ENG', 'INFO_CAR', 'INFO_PRO', 'INFO_FAT']]    "
   ]
  },
  {
   "cell_type": "code",
   "execution_count": 59,
   "metadata": {},
   "outputs": [
    {
     "name": "stdout",
     "output_type": "stream",
     "text": [
      "(50, 226)\n"
     ]
    }
   ],
   "source": [
    "# 각 행의 최대 열 수 확인\n",
    "max_cols = max(X.apply(len))\n",
    "\n",
    "# 빈 문자열 및 빈 리스트가 있는 행 제거\n",
    "X = X[(X.astype(str) != '') & (X.apply(len) > 0)]\n",
    "\n",
    "# 각 행의 열 수를 최대 열 수로 맞춤\n",
    "X = X.apply(lambda x: x + [0.0] * (max_cols - len(x)))\n",
    "\n",
    "# 재료를 부동 소수점으로 변환\n",
    "X = X.apply(lambda x: [float(i.split(' ')[-1][:-1]) if isinstance(i, str) and i.split(' ')[-1][:-1] else 0.0 for i in x])\n",
    "\n",
    "# 각 행의 길이를 동일하게 맞추기 위해 패딩된 배열을 사용\n",
    "X_padded = np.array(X.tolist())\n",
    "\n",
    "# 결과 확인\n",
    "print(X_padded.shape)"
   ]
  },
  {
   "cell_type": "code",
   "execution_count": 62,
   "metadata": {},
   "outputs": [],
   "source": [
    "y = np.random.rand(X_padded.shape[0], 4)\n",
    "\n",
    "X_train, X_test, y_train, y_test = train_test_split(X_padded, y, test_size=0.2, random_state=42)"
   ]
  },
  {
   "cell_type": "code",
   "execution_count": 63,
   "metadata": {},
   "outputs": [],
   "source": [
    "# 데이터 표준화 (Standardization)\n",
    "scaler = StandardScaler()\n",
    "X_train_scaled = scaler.fit_transform(X_train)\n",
    "X_test_scaled = scaler.transform(X_test)"
   ]
  },
  {
   "cell_type": "code",
   "execution_count": 65,
   "metadata": {},
   "outputs": [],
   "source": [
    "model = keras.Sequential([\n",
    "    layers.Dense(128, activation='relu', input_shape=(X_train_scaled.shape[1],)),\n",
    "    layers.Dense(64, activation='relu'),\n",
    "    layers.Dense(4)  # 출력 레이어: INFO_ENG, INFO_CAR, INFO_PRO, INFO_FAT에 해당하는 4개의 뉴런\n",
    "])"
   ]
  },
  {
   "cell_type": "code",
   "execution_count": 67,
   "metadata": {},
   "outputs": [],
   "source": [
    "model.compile(optimizer='adam', loss='mse')"
   ]
  },
  {
   "cell_type": "code",
   "execution_count": 69,
   "metadata": {},
   "outputs": [
    {
     "name": "stdout",
     "output_type": "stream",
     "text": [
      "Epoch 1/50\n",
      "1/1 [==============================] - 0s 63ms/step - loss: 0.3122 - val_loss: 0.2655\n",
      "Epoch 2/50\n",
      "1/1 [==============================] - 0s 23ms/step - loss: 0.3113 - val_loss: 0.2647\n",
      "Epoch 3/50\n",
      "1/1 [==============================] - 0s 23ms/step - loss: 0.3104 - val_loss: 0.2639\n",
      "Epoch 4/50\n",
      "1/1 [==============================] - 0s 24ms/step - loss: 0.3095 - val_loss: 0.2631\n",
      "Epoch 5/50\n",
      "1/1 [==============================] - 0s 23ms/step - loss: 0.3086 - val_loss: 0.2623\n",
      "Epoch 6/50\n",
      "1/1 [==============================] - 0s 25ms/step - loss: 0.3077 - val_loss: 0.2616\n",
      "Epoch 7/50\n",
      "1/1 [==============================] - 0s 24ms/step - loss: 0.3068 - val_loss: 0.2608\n",
      "Epoch 8/50\n",
      "1/1 [==============================] - 0s 24ms/step - loss: 0.3059 - val_loss: 0.2600\n",
      "Epoch 9/50\n",
      "1/1 [==============================] - 0s 23ms/step - loss: 0.3050 - val_loss: 0.2592\n",
      "Epoch 10/50\n",
      "1/1 [==============================] - 0s 24ms/step - loss: 0.3041 - val_loss: 0.2584\n",
      "Epoch 11/50\n",
      "1/1 [==============================] - 0s 23ms/step - loss: 0.3032 - val_loss: 0.2577\n",
      "Epoch 12/50\n",
      "1/1 [==============================] - 0s 24ms/step - loss: 0.3023 - val_loss: 0.2569\n",
      "Epoch 13/50\n",
      "1/1 [==============================] - 0s 24ms/step - loss: 0.3015 - val_loss: 0.2561\n",
      "Epoch 14/50\n",
      "1/1 [==============================] - 0s 25ms/step - loss: 0.3006 - val_loss: 0.2554\n",
      "Epoch 15/50\n",
      "1/1 [==============================] - 0s 24ms/step - loss: 0.2997 - val_loss: 0.2546\n",
      "Epoch 16/50\n",
      "1/1 [==============================] - 0s 25ms/step - loss: 0.2988 - val_loss: 0.2538\n",
      "Epoch 17/50\n",
      "1/1 [==============================] - 0s 28ms/step - loss: 0.2980 - val_loss: 0.2531\n",
      "Epoch 18/50\n",
      "1/1 [==============================] - 0s 29ms/step - loss: 0.2971 - val_loss: 0.2523\n",
      "Epoch 19/50\n",
      "1/1 [==============================] - 0s 31ms/step - loss: 0.2962 - val_loss: 0.2516\n",
      "Epoch 20/50\n",
      "1/1 [==============================] - 0s 32ms/step - loss: 0.2954 - val_loss: 0.2508\n",
      "Epoch 21/50\n",
      "1/1 [==============================] - 0s 30ms/step - loss: 0.2945 - val_loss: 0.2501\n",
      "Epoch 22/50\n",
      "1/1 [==============================] - 0s 28ms/step - loss: 0.2936 - val_loss: 0.2493\n",
      "Epoch 23/50\n",
      "1/1 [==============================] - 0s 30ms/step - loss: 0.2928 - val_loss: 0.2486\n",
      "Epoch 24/50\n",
      "1/1 [==============================] - 0s 29ms/step - loss: 0.2919 - val_loss: 0.2478\n",
      "Epoch 25/50\n",
      "1/1 [==============================] - 0s 31ms/step - loss: 0.2911 - val_loss: 0.2471\n",
      "Epoch 26/50\n",
      "1/1 [==============================] - 0s 34ms/step - loss: 0.2902 - val_loss: 0.2464\n",
      "Epoch 27/50\n",
      "1/1 [==============================] - 0s 46ms/step - loss: 0.2894 - val_loss: 0.2456\n",
      "Epoch 28/50\n",
      "1/1 [==============================] - 0s 38ms/step - loss: 0.2885 - val_loss: 0.2449\n",
      "Epoch 29/50\n",
      "1/1 [==============================] - 0s 31ms/step - loss: 0.2877 - val_loss: 0.2442\n",
      "Epoch 30/50\n",
      "1/1 [==============================] - 0s 30ms/step - loss: 0.2869 - val_loss: 0.2435\n",
      "Epoch 31/50\n",
      "1/1 [==============================] - 0s 29ms/step - loss: 0.2860 - val_loss: 0.2427\n",
      "Epoch 32/50\n",
      "1/1 [==============================] - 0s 29ms/step - loss: 0.2852 - val_loss: 0.2420\n",
      "Epoch 33/50\n",
      "1/1 [==============================] - 0s 33ms/step - loss: 0.2844 - val_loss: 0.2413\n",
      "Epoch 34/50\n",
      "1/1 [==============================] - 0s 31ms/step - loss: 0.2835 - val_loss: 0.2406\n",
      "Epoch 35/50\n",
      "1/1 [==============================] - 0s 28ms/step - loss: 0.2827 - val_loss: 0.2399\n",
      "Epoch 36/50\n",
      "1/1 [==============================] - 0s 30ms/step - loss: 0.2819 - val_loss: 0.2392\n",
      "Epoch 37/50\n",
      "1/1 [==============================] - 0s 29ms/step - loss: 0.2811 - val_loss: 0.2385\n",
      "Epoch 38/50\n",
      "1/1 [==============================] - 0s 29ms/step - loss: 0.2803 - val_loss: 0.2378\n",
      "Epoch 39/50\n",
      "1/1 [==============================] - 0s 31ms/step - loss: 0.2794 - val_loss: 0.2370\n",
      "Epoch 40/50\n",
      "1/1 [==============================] - 0s 31ms/step - loss: 0.2786 - val_loss: 0.2363\n",
      "Epoch 41/50\n",
      "1/1 [==============================] - 0s 31ms/step - loss: 0.2778 - val_loss: 0.2357\n",
      "Epoch 42/50\n",
      "1/1 [==============================] - 0s 23ms/step - loss: 0.2770 - val_loss: 0.2350\n",
      "Epoch 43/50\n",
      "1/1 [==============================] - 0s 23ms/step - loss: 0.2762 - val_loss: 0.2343\n",
      "Epoch 44/50\n",
      "1/1 [==============================] - 0s 24ms/step - loss: 0.2754 - val_loss: 0.2336\n",
      "Epoch 45/50\n",
      "1/1 [==============================] - 0s 24ms/step - loss: 0.2746 - val_loss: 0.2329\n",
      "Epoch 46/50\n",
      "1/1 [==============================] - 0s 23ms/step - loss: 0.2738 - val_loss: 0.2322\n",
      "Epoch 47/50\n",
      "1/1 [==============================] - 0s 23ms/step - loss: 0.2730 - val_loss: 0.2315\n",
      "Epoch 48/50\n",
      "1/1 [==============================] - 0s 25ms/step - loss: 0.2722 - val_loss: 0.2308\n",
      "Epoch 49/50\n",
      "1/1 [==============================] - 0s 25ms/step - loss: 0.2715 - val_loss: 0.2302\n",
      "Epoch 50/50\n",
      "1/1 [==============================] - 0s 24ms/step - loss: 0.2707 - val_loss: 0.2295\n"
     ]
    },
    {
     "data": {
      "text/plain": [
       "<keras.src.callbacks.History at 0x29057050220>"
      ]
     },
     "execution_count": 69,
     "metadata": {},
     "output_type": "execute_result"
    }
   ],
   "source": [
    "model.fit(X_train_scaled, y_train, epochs=50, batch_size=32, validation_split=0.2)"
   ]
  },
  {
   "cell_type": "code",
   "execution_count": 73,
   "metadata": {},
   "outputs": [
    {
     "name": "stdout",
     "output_type": "stream",
     "text": [
      "1/1 [==============================] - 0s 17ms/step\n",
      "Mean Squared Error on Test Set: 0.2555803725284067\n"
     ]
    }
   ],
   "source": [
    "y_pred = model.predict(X_test_scaled)\n",
    "\n",
    "mse = mean_squared_error(y_test, y_pred)\n",
    "print(f'Mean Squared Error on Test Set: {mse}')"
   ]
  },
  {
   "cell_type": "code",
   "execution_count": 72,
   "metadata": {},
   "outputs": [
    {
     "name": "stdout",
     "output_type": "stream",
     "text": [
      "Mean Squared Error on Test Set: 0.2555803725284067\n"
     ]
    }
   ],
   "source": [
    "# 새로운 테스트 케이스 예제\n",
    "new_test_case = np.array([[...]])  # 적절한 데이터로 채워넣어야 함\n",
    "\n",
    "# 예측\n",
    "predictions = model.predict(new_test_case)\n",
    "\n",
    "# 결과 확인\n",
    "print(\"Predictions:\", predictions)\n"
   ]
  }
 ],
 "metadata": {
  "kernelspec": {
   "display_name": "Python 3",
   "language": "python",
   "name": "python3"
  },
  "language_info": {
   "codemirror_mode": {
    "name": "ipython",
    "version": 3
   },
   "file_extension": ".py",
   "mimetype": "text/x-python",
   "name": "python",
   "nbconvert_exporter": "python",
   "pygments_lexer": "ipython3",
   "version": "3.10.7"
  }
 },
 "nbformat": 4,
 "nbformat_minor": 2
}
