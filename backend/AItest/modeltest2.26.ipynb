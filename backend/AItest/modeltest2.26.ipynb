{
 "cells": [
  {
   "cell_type": "code",
   "execution_count": 1,
   "metadata": {},
   "outputs": [],
   "source": [
    "import pandas as pd"
   ]
  },
  {
   "cell_type": "code",
   "execution_count": 3,
   "metadata": {},
   "outputs": [],
   "source": [
    "data = pd.read_csv('recipe_2.16_삭제본.csv')"
   ]
  },
  {
   "cell_type": "code",
   "execution_count": 7,
   "metadata": {},
   "outputs": [
    {
     "ename": "ValueError",
     "evalue": "not enough values to unpack (expected 2, got 1)",
     "output_type": "error",
     "traceback": [
      "\u001b[1;31m---------------------------------------------------------------------------\u001b[0m",
      "\u001b[1;31mValueError\u001b[0m                                Traceback (most recent call last)",
      "Cell \u001b[1;32mIn[7], line 7\u001b[0m\n\u001b[0;32m      5\u001b[0m     ingredients_and_amounts \u001b[38;5;241m=\u001b[39m row[\u001b[38;5;124m'\u001b[39m\u001b[38;5;124mRCP_PARTS_DTLS\u001b[39m\u001b[38;5;124m'\u001b[39m]\u001b[38;5;241m.\u001b[39msplit(\u001b[38;5;124m'\u001b[39m\u001b[38;5;124m, \u001b[39m\u001b[38;5;124m'\u001b[39m)\n\u001b[0;32m      6\u001b[0m     \u001b[38;5;28;01mfor\u001b[39;00m ingredient_and_amount \u001b[38;5;129;01min\u001b[39;00m ingredients_and_amounts:\n\u001b[1;32m----> 7\u001b[0m         ingredient, amount \u001b[38;5;241m=\u001b[39m ingredient_and_amount\u001b[38;5;241m.\u001b[39mrsplit(\u001b[38;5;124m'\u001b[39m\u001b[38;5;124m \u001b[39m\u001b[38;5;124m'\u001b[39m, \u001b[38;5;241m1\u001b[39m)\n\u001b[0;32m      8\u001b[0m         new_data \u001b[38;5;241m=\u001b[39m pd\u001b[38;5;241m.\u001b[39mconcat([new_data, pd\u001b[38;5;241m.\u001b[39mDataFrame({\u001b[38;5;124m'\u001b[39m\u001b[38;5;124mINGREDIENT\u001b[39m\u001b[38;5;124m'\u001b[39m: [ingredient], \u001b[38;5;124m'\u001b[39m\u001b[38;5;124mAMOUNT\u001b[39m\u001b[38;5;124m'\u001b[39m: [amount]})], ignore_index\u001b[38;5;241m=\u001b[39m\u001b[38;5;28;01mTrue\u001b[39;00m)\n\u001b[0;32m     11\u001b[0m new_data\u001b[38;5;241m.\u001b[39mto_csv(\u001b[38;5;124m'\u001b[39m\u001b[38;5;124mrecipe_2.16_삭제본의 수정본.csv\u001b[39m\u001b[38;5;124m'\u001b[39m, index\u001b[38;5;241m=\u001b[39m\u001b[38;5;28;01mFalse\u001b[39;00m)\n",
      "\u001b[1;31mValueError\u001b[0m: not enough values to unpack (expected 2, got 1)"
     ]
    }
   ],
   "source": [
    "new_data = pd.DataFrame(columns=['INGREDIENT', 'AMOUNT'])\n",
    "\n",
    "# 데이터 변환\n",
    "for index, row in data.iterrows():\n",
    "    ingredients_and_amounts = row['RCP_PARTS_DTLS'].split(', ')\n",
    "    for ingredient_and_amount in ingredients_and_amounts:\n",
    "        # 한 번 더 ',' (쉼표)로 나누어서 재료와 양을 분리\n",
    "        ingredient, amount = ingredient_and_amount.rsplit(' ', 1) if ' ' in ingredient_and_amount else (ingredient_and_amount, '')\n",
    "        new_data = pd.concat([new_data, pd.DataFrame({'INGREDIENT': [ingredient], 'AMOUNT': [amount]})], ignore_index=True)\n",
    "\n",
    "\n",
    "new_data.to_csv('recipe_2.16_삭제본의 수정본.csv', index=False)\n"
   ]
  }
 ],
 "metadata": {
  "kernelspec": {
   "display_name": "Python 3",
   "language": "python",
   "name": "python3"
  },
  "language_info": {
   "codemirror_mode": {
    "name": "ipython",
    "version": 3
   },
   "file_extension": ".py",
   "mimetype": "text/x-python",
   "name": "python",
   "nbconvert_exporter": "python",
   "pygments_lexer": "ipython3",
   "version": "3.10.7"
  }
 },
 "nbformat": 4,
 "nbformat_minor": 2
}
