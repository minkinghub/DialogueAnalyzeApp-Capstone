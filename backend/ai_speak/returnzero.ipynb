{
 "cells": [
  {
   "cell_type": "code",
   "execution_count": 1,
   "metadata": {},
   "outputs": [
    {
     "name": "stdout",
     "output_type": "stream",
     "text": [
      "작업 ID: F5JvlvvKShKQIDX3pm_qOg\n",
      "작업 ID: mXcwxYmXQKyisUzx4EJm7g\n"
     ]
    },
    {
     "ename": "TypeError",
     "evalue": "save_transcription_results() takes 1 positional argument but 2 were given",
     "output_type": "error",
     "traceback": [
      "\u001b[1;31m---------------------------------------------------------------------------\u001b[0m",
      "\u001b[1;31mTypeError\u001b[0m                                 Traceback (most recent call last)",
      "Cell \u001b[1;32mIn[1], line 81\u001b[0m\n\u001b[0;32m     78\u001b[0m results_with_filter \u001b[38;5;241m=\u001b[39m transcribe_audio(auth_token, \u001b[38;5;124m'\u001b[39m\u001b[38;5;124mB.m4a\u001b[39m\u001b[38;5;124m'\u001b[39m, use_disfluency_filter\u001b[38;5;241m=\u001b[39m\u001b[38;5;28;01mTrue\u001b[39;00m)\n\u001b[0;32m     80\u001b[0m \u001b[38;5;66;03m# 트랜스크립션 결과 저장\u001b[39;00m\n\u001b[1;32m---> 81\u001b[0m \u001b[43msave_transcription_results\u001b[49m\u001b[43m(\u001b[49m\u001b[43mresults_without_filter\u001b[49m\u001b[43m,\u001b[49m\u001b[43m \u001b[49m\u001b[43mresults_with_filter\u001b[49m\u001b[43m)\u001b[49m\n",
      "\u001b[1;31mTypeError\u001b[0m: save_transcription_results() takes 1 positional argument but 2 were given"
     ]
    }
   ],
   "source": [
    "import json\n",
    "import requests\n",
    "import time\n",
    "\n",
    "def transcribe_audio(auth_token, audio_file, use_disfluency_filter=False):\n",
    "    config = {\n",
    "        \"use_multi_channel\": False,\n",
    "        \"use_itn\": False,\n",
    "        \"use_disfluency_filter\": use_disfluency_filter,\n",
    "        \"use_profanity_filter\": False,\n",
    "        \"use_paragraph_splitter\": True,\n",
    "        \"paragraph_splitter\": {\n",
    "            \"max\": 50\n",
    "        }\n",
    "    }\n",
    "\n",
    "    resp = requests.post(\n",
    "        'https://openapi.vito.ai/v1/transcribe',\n",
    "        headers={'Authorization': f'bearer {auth_token}'},\n",
    "        data={'config': json.dumps(config)},\n",
    "        files={'file': open(audio_file, 'rb')}\n",
    "    )\n",
    "    resp.raise_for_status()\n",
    "    task_id = resp.json()['id']\n",
    "    print(f\"작업 ID: {task_id}\")\n",
    "\n",
    "    start_time = time.time()\n",
    "    timeout = 120  # 2분 제한\n",
    "    while True:\n",
    "        resp = requests.get(\n",
    "            f'https://openapi.vito.ai/v1/transcribe/{task_id}',\n",
    "            headers={'Authorization': f'bearer {auth_token}'}\n",
    "        )\n",
    "        resp.raise_for_status()\n",
    "        status = resp.json()['status']\n",
    "        if status == 'completed':\n",
    "            return resp.json()['results']\n",
    "        elif status == 'failed':\n",
    "            raise Exception(f\"Transcription failed: {resp.json()['error']}\")\n",
    "        elif time.time() - start_time > timeout:\n",
    "            raise Exception(\"Transcription timed out\")\n",
    "        time.sleep(5)\n",
    "\n",
    "def save_transcription_results(results_without_filter, results_with_filter):\n",
    "    combined_results = {\n",
    "        \"results_without_filter\": results_without_filter,\n",
    "        \"results_with_filter\": results_with_filter\n",
    "    }\n",
    "    with open(\"transcription_results.json\", \"w\") as f:\n",
    "        json.dump(combined_results, f, indent=4, ensure_ascii=False)\n",
    "\n",
    "\n",
    "# 인증 토큰 받기\n",
    "resp = requests.post(\n",
    "    'https://openapi.vito.ai/v1/authenticate',\n",
    "    data={'client_id': 'pY5fW2sMvQ9qwj5jCHSK',\n",
    "          'client_secret': '0N05lmQf_kA9oSteVr4X8G6qcv3QaNju7V8x6-zk'}\n",
    ")\n",
    "resp.raise_for_status()\n",
    "auth_token = resp.json()['access_token']\n",
    "\n",
    "# 음성 파일 전송 및 트랜스크립션 결과 받기\n",
    "results_without_filter = transcribe_audio(auth_token, 'b.wav', use_disfluency_filter=False)\n",
    "results_with_filter = transcribe_audio(auth_token, 'B.m4a', use_disfluency_filter=True)\n",
    "\n",
    "# 트랜스크립션 결과 저장\n",
    "save_transcription_results(results_without_filter, results_with_filter)\n"
   ]
  },
  {
   "cell_type": "code",
   "execution_count": null,
   "metadata": {},
   "outputs": [
    {
     "ename": "",
     "evalue": "",
     "output_type": "error",
     "traceback": [
      "\u001b[1;31m커널을 시작하지 못했습니다. \n",
      "\u001b[1;31mAttributeError: partially initialized module 're' has no attribute 'compile' (most likely due to a circular import). \n",
      "\u001b[1;31m자세한 내용은 Jupyter <a href='command:jupyter.viewOutput'>로그</a>를 참조하세요."
     ]
    }
   ],
   "source": [
    "import json\n",
    "import requests\n",
    "import time\n",
    "\n",
    "def transcribe_audio(auth_token, audio_file, use_disfluency_filter=False):\n",
    "    config = {\n",
    "        \"use_multi_channel\": False,\n",
    "        \"use_itn\": False,\n",
    "        \"use_disfluency_filter\": use_disfluency_filter,\n",
    "        \"use_profanity_filter\": False,\n",
    "        \"use_paragraph_splitter\": True,\n",
    "        \"paragraph_splitter\": {\n",
    "            \"max\": 50\n",
    "        }\n",
    "    }\n",
    "\n",
    "    resp = requests.post(\n",
    "        'https://openapi.vito.ai/v1/transcribe',\n",
    "        headers={'Authorization': f'bearer {auth_token}'},\n",
    "        data={'config': json.dumps(config)},\n",
    "        files={'file': open(audio_file, 'rb')}\n",
    "    )\n",
    "    resp.raise_for_status()\n",
    "    task_id = resp.json()['id']\n",
    "    print(f\"작업 ID: {task_id}\")\n",
    "\n",
    "    while True:\n",
    "        resp = requests.get(\n",
    "            f'https://openapi.vito.ai/v1/transcribe/{task_id}',\n",
    "            headers={'Authorization': f'bearer {auth_token}'}\n",
    "        )\n",
    "        resp.raise_for_status()\n",
    "        status = resp.json()['status']\n",
    "        if status == 'completed':\n",
    "            return resp.json()['results']\n",
    "        time.sleep(5)\n",
    "\n",
    "def get_transcription_results(audio_file):\n",
    "    # 인증 토큰 받기\n",
    "    resp = requests.post(\n",
    "        'https://openapi.vito.ai/v1/authenticate',\n",
    "        data={'client_id': 'pY5fW2sMvQ9qwj5jCHSK',\n",
    "              'client_secret': '0N05lmQf_kA9oSteVr4X8G6qcv3QaNju7V8x6-zk'}\n",
    "    )\n",
    "    resp.raise_for_status()\n",
    "    auth_token = resp.json()['access_token']\n",
    "\n",
    "    # 음성 파일 전송 및 트랜스크립션 결과 받기\n",
    "    results_without_filter = transcribe_audio(auth_token, audio_file, use_disfluency_filter=False)\n",
    "    results_with_filter = transcribe_audio(auth_token, audio_file, use_disfluency_filter=True)\n",
    "\n",
    "    return {\n",
    "        \"results_without_filter\": results_without_filter,\n",
    "        \"results_with_filter\": results_with_filter\n",
    "    }\n"
   ]
  },
  {
   "cell_type": "code",
   "execution_count": 5,
   "metadata": {},
   "outputs": [
    {
     "name": "stdout",
     "output_type": "stream",
     "text": [
      "작업 ID: _K6xWCsLQHqa_0b9aX7TsA\n",
      "작업 ID: BR0DiKHBT4SRLcul0gNVFw\n",
      "{'results_without_filter': {'utterances': [{'start_at': 1038, 'duration': 9615, 'spk': 0, 'spk_type': 'NORMAL', 'msg': '아 음, 제가 음 집에 가려고 어 하는데 음 말이죠 음.'}, {'start_at': 13058, 'duration': 7720, 'spk': 0, 'spk_type': 'NORMAL', 'msg': '그 뭐냐, 부채가 제 눈앞에 떨어져서 음 에서 아팠어요.'}], 'verified': False}, 'results_with_filter': {'utterances': [{'start_at': 1038, 'duration': 8245, 'spk': 0, 'spk_type': 'NORMAL', 'msg': '제가 집에 가려고 하는데 말이죠.'}, {'start_at': 13058, 'duration': 7720, 'spk': 0, 'spk_type': 'NORMAL', 'msg': '뭐냐, 부채가 제 눈앞에 떨어져서 에서 아팠어요.'}], 'verified': False}}\n"
     ]
    }
   ],
   "source": [
    "# 사용자가 선택한 음성 파일 경로\n",
    "audio_file = 'b.wav'\n",
    "\n",
    "# 트랜스크립션 결과 받기\n",
    "transcription_results = get_transcription_results(audio_file)\n",
    "\n",
    "print(transcription_results)\n",
    "def save_transcription_results(transcription_results):\n",
    "    with open(\"transcription_results.json\", \"w\") as f:\n",
    "        json.dump(transcription_results, f, indent=4, ensure_ascii=False)\n"
   ]
  }
 ],
 "metadata": {
  "kernelspec": {
   "display_name": "tensor",
   "language": "python",
   "name": "python3"
  },
  "language_info": {
   "codemirror_mode": {
    "name": "ipython",
    "version": 3
   },
   "file_extension": ".py",
   "mimetype": "text/x-python",
   "name": "python",
   "nbconvert_exporter": "python",
   "pygments_lexer": "ipython3",
   "version": "3.10.14"
  }
 },
 "nbformat": 4,
 "nbformat_minor": 2
}
