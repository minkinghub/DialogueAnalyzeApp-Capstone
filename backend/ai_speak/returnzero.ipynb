{
 "cells": [
  {
   "cell_type": "code",
   "execution_count": 5,
   "metadata": {},
   "outputs": [
    {
     "name": "stdout",
     "output_type": "stream",
     "text": [
      "Collecting requests\n",
      "  Obtaining dependency information for requests from https://files.pythonhosted.org/packages/f9/9b/335f9764261e915ed497fcdeb11df5dfd6f7bf257d4a6a2a686d80da4d54/requests-2.32.3-py3-none-any.whl.metadata\n",
      "  Downloading requests-2.32.3-py3-none-any.whl.metadata (4.6 kB)\n",
      "Collecting charset-normalizer<4,>=2 (from requests)\n",
      "  Obtaining dependency information for charset-normalizer<4,>=2 from https://files.pythonhosted.org/packages/b6/7c/8debebb4f90174074b827c63242c23851bdf00a532489fba57fef3416e40/charset_normalizer-3.3.2-cp312-cp312-win_amd64.whl.metadata\n",
      "  Downloading charset_normalizer-3.3.2-cp312-cp312-win_amd64.whl.metadata (34 kB)\n",
      "Collecting idna<4,>=2.5 (from requests)\n",
      "  Obtaining dependency information for idna<4,>=2.5 from https://files.pythonhosted.org/packages/e5/3e/741d8c82801c347547f8a2a06aa57dbb1992be9e948df2ea0eda2c8b79e8/idna-3.7-py3-none-any.whl.metadata\n",
      "  Downloading idna-3.7-py3-none-any.whl.metadata (9.9 kB)\n",
      "Collecting urllib3<3,>=1.21.1 (from requests)\n",
      "  Obtaining dependency information for urllib3<3,>=1.21.1 from https://files.pythonhosted.org/packages/a2/73/a68704750a7679d0b6d3ad7aa8d4da8e14e151ae82e6fee774e6e0d05ec8/urllib3-2.2.1-py3-none-any.whl.metadata\n",
      "  Downloading urllib3-2.2.1-py3-none-any.whl.metadata (6.4 kB)\n",
      "Collecting certifi>=2017.4.17 (from requests)\n",
      "  Obtaining dependency information for certifi>=2017.4.17 from https://files.pythonhosted.org/packages/ba/06/a07f096c664aeb9f01624f858c3add0a4e913d6c96257acb4fce61e7de14/certifi-2024.2.2-py3-none-any.whl.metadata\n",
      "  Downloading certifi-2024.2.2-py3-none-any.whl.metadata (2.2 kB)\n",
      "Downloading requests-2.32.3-py3-none-any.whl (64 kB)\n",
      "   ---------------------------------------- 0.0/64.9 kB ? eta -:--:--\n",
      "   ---------------------------------------- 64.9/64.9 kB 1.7 MB/s eta 0:00:00\n",
      "Downloading certifi-2024.2.2-py3-none-any.whl (163 kB)\n",
      "   ---------------------------------------- 0.0/163.8 kB ? eta -:--:--\n",
      "   ------------------------------------- -- 153.6/163.8 kB 3.1 MB/s eta 0:00:01\n",
      "   ---------------------------------------- 163.8/163.8 kB 2.4 MB/s eta 0:00:00\n",
      "Downloading charset_normalizer-3.3.2-cp312-cp312-win_amd64.whl (100 kB)\n",
      "   ---------------------------------------- 0.0/100.4 kB ? eta -:--:--\n",
      "   ---------------------------------------- 100.4/100.4 kB ? eta 0:00:00\n",
      "Downloading idna-3.7-py3-none-any.whl (66 kB)\n",
      "   ---------------------------------------- 0.0/66.8 kB ? eta -:--:--\n",
      "   ---------------------------------------- 66.8/66.8 kB 3.5 MB/s eta 0:00:00\n",
      "Downloading urllib3-2.2.1-py3-none-any.whl (121 kB)\n",
      "   ---------------------------------------- 0.0/121.1 kB ? eta -:--:--\n",
      "   ---------------------------------------- 121.1/121.1 kB 7.4 MB/s eta 0:00:00\n",
      "Installing collected packages: urllib3, idna, charset-normalizer, certifi, requests\n",
      "Successfully installed certifi-2024.2.2 charset-normalizer-3.3.2 idna-3.7 requests-2.32.3 urllib3-2.2.1\n",
      "Note: you may need to restart the kernel to use updated packages.\n"
     ]
    },
    {
     "name": "stderr",
     "output_type": "stream",
     "text": [
      "  WARNING: The script normalizer.exe is installed in 'c:\\Users\\doror\\AppData\\Local\\Programs\\Python\\Python312\\Scripts' which is not on PATH.\n",
      "  Consider adding this directory to PATH or, if you prefer to suppress this warning, use --no-warn-script-location.\n",
      "\n",
      "[notice] A new release of pip is available: 23.2.1 -> 24.0\n",
      "[notice] To update, run: python.exe -m pip install --upgrade pip\n"
     ]
    }
   ],
   "source": [
    "pip install requests"
   ]
  },
  {
   "cell_type": "code",
   "execution_count": 6,
   "metadata": {},
   "outputs": [
    {
     "name": "stdout",
     "output_type": "stream",
     "text": [
      "작업 ID: 81Jd41y8QeWTwSv2k1WE4g\n",
      "작업 ID: qRg4_7RyT42bx4H1J1PUZQ\n"
     ]
    }
   ],
   "source": [
    "import json\n",
    "import requests\n",
    "import time\n",
    "\n",
    "def transcribe_audio(auth_token, audio_file, use_disfluency_filter=False):\n",
    "    config = {\n",
    "        \"use_multi_channel\": False,\n",
    "        \"use_itn\": False,\n",
    "        \"use_disfluency_filter\": use_disfluency_filter,\n",
    "        \"use_profanity_filter\": False,\n",
    "        \"use_paragraph_splitter\": True,\n",
    "        \"paragraph_splitter\": {\n",
    "            \"max\": 50\n",
    "        }\n",
    "    }\n",
    "\n",
    "    resp = requests.post(\n",
    "        'https://openapi.vito.ai/v1/transcribe',\n",
    "        headers={'Authorization': f'bearer {auth_token}'},\n",
    "        data={'config': json.dumps(config)},\n",
    "        files={'file': open(audio_file, 'rb')}\n",
    "    )\n",
    "    resp.raise_for_status()\n",
    "    task_id = resp.json()['id']\n",
    "    print(f\"작업 ID: {task_id}\")\n",
    "\n",
    "    start_time = time.time()\n",
    "    timeout = 120  # 2분 제한\n",
    "    while True:\n",
    "        resp = requests.get(\n",
    "            f'https://openapi.vito.ai/v1/transcribe/{task_id}',\n",
    "            headers={'Authorization': f'bearer {auth_token}'}\n",
    "        )\n",
    "        resp.raise_for_status()\n",
    "        status = resp.json()['status']\n",
    "        if status == 'completed':\n",
    "            return resp.json()['results']\n",
    "        elif status == 'failed':\n",
    "            raise Exception(f\"Transcription failed: {resp.json()['error']}\")\n",
    "        elif time.time() - start_time > timeout:\n",
    "            raise Exception(\"Transcription timed out\")\n",
    "        time.sleep(5)\n",
    "\n",
    "def save_transcription_results(results_without_filter, results_with_filter):\n",
    "    combined_results = {\n",
    "        \"results_without_filter\": results_without_filter,\n",
    "        \"results_with_filter\": results_with_filter\n",
    "    }\n",
    "    with open(\"transcription_results.json\", \"w\") as f:\n",
    "        json.dump(combined_results, f, indent=4, ensure_ascii=False)\n",
    "\n",
    "# 인증 토큰 받기\n",
    "resp = requests.post(\n",
    "    'https://openapi.vito.ai/v1/authenticate',\n",
    "    data={'client_id': 'pY5fW2sMvQ9qwj5jCHSK',\n",
    "          'client_secret': '0N05lmQf_kA9oSteVr4X8G6qcv3QaNju7V8x6-zk'}\n",
    ")\n",
    "resp.raise_for_status()\n",
    "auth_token = resp.json()['access_token']\n",
    "\n",
    "# 음성 파일 전송 및 트랜스크립션 결과 받기\n",
    "results_without_filter = transcribe_audio(auth_token, 'b.wav', use_disfluency_filter=False)\n",
    "results_with_filter = transcribe_audio(auth_token, 'B.m4a', use_disfluency_filter=True)\n",
    "\n",
    "# 트랜스크립션 결과 저장\n",
    "save_transcription_results(results_without_filter, results_with_filter)\n"
   ]
  },
  {
   "cell_type": "code",
   "execution_count": 3,
   "metadata": {},
   "outputs": [],
   "source": [
    "import json\n",
    "import requests\n",
    "import time\n",
    "\n",
    "def transcribe_audio(auth_token, audio_file, use_disfluency_filter=False):\n",
    "    config = {\n",
    "        \"use_multi_channel\": False,\n",
    "        \"use_itn\": False,\n",
    "        \"use_disfluency_filter\": use_disfluency_filter,\n",
    "        \"use_profanity_filter\": False,\n",
    "        \"use_paragraph_splitter\": True,\n",
    "        \"paragraph_splitter\": {\n",
    "            \"max\": 50\n",
    "        }\n",
    "    }\n",
    "\n",
    "    resp = requests.post(\n",
    "        'https://openapi.vito.ai/v1/transcribe',\n",
    "        headers={'Authorization': f'bearer {auth_token}'},\n",
    "        data={'config': json.dumps(config)},\n",
    "        files={'file': open(audio_file, 'rb')}\n",
    "    )\n",
    "    resp.raise_for_status()\n",
    "    task_id = resp.json()['id']\n",
    "    print(f\"작업 ID: {task_id}\")\n",
    "\n",
    "    while True:\n",
    "        resp = requests.get(\n",
    "            f'https://openapi.vito.ai/v1/transcribe/{task_id}',\n",
    "            headers={'Authorization': f'bearer {auth_token}'}\n",
    "        )\n",
    "        resp.raise_for_status()\n",
    "        status = resp.json()['status']\n",
    "        if status == 'completed':\n",
    "            return resp.json()['results']\n",
    "        time.sleep(5)\n",
    "\n",
    "def get_transcription_results(audio_file):\n",
    "    # 인증 토큰 받기\n",
    "    resp = requests.post(\n",
    "        'https://openapi.vito.ai/v1/authenticate',\n",
    "        data={'client_id': 'pY5fW2sMvQ9qwj5jCHSK',\n",
    "              'client_secret': '0N05lmQf_kA9oSteVr4X8G6qcv3QaNju7V8x6-zk'}\n",
    "    )\n",
    "    resp.raise_for_status()\n",
    "    auth_token = resp.json()['access_token']\n",
    "\n",
    "    # 음성 파일 전송 및 트랜스크립션 결과 받기\n",
    "    results_without_filter = transcribe_audio(auth_token, audio_file, use_disfluency_filter=False)\n",
    "    results_with_filter = transcribe_audio(auth_token, audio_file, use_disfluency_filter=True)\n",
    "\n",
    "    return {\n",
    "        \"results_without_filter\": results_without_filter,\n",
    "        \"results_with_filter\": results_with_filter\n",
    "    }\n"
   ]
  },
  {
   "cell_type": "code",
   "execution_count": 5,
   "metadata": {},
   "outputs": [
    {
     "name": "stdout",
     "output_type": "stream",
     "text": [
      "작업 ID: T5Yoh0rCRjmh1epa1kvURA\n",
      "작업 ID: TBOC4VpISJOKhDHwUz3pdw\n"
     ]
    }
   ],
   "source": [
    "# 사용자가 선택한 음성 파일 경로\n",
    "audio_file = 'b.wav'\n",
    "\n",
    "# 트랜스크립션 결과 받기\n",
    "transcription_results = get_transcription_results(audio_file)\n",
    "\n",
    "def save_transcription_results(transcription_results):\n",
    "    with open(\"transcription_results.json\", \"w\") as f:\n",
    "        json.dump(transcription_results, f, indent=4, ensure_ascii=False)\n"
   ]
  }
 ],
 "metadata": {
  "kernelspec": {
   "display_name": "tensor",
   "language": "python",
   "name": "python3"
  },
  "language_info": {
   "codemirror_mode": {
    "name": "ipython",
    "version": 3
   },
   "file_extension": ".py",
   "mimetype": "text/x-python",
   "name": "python",
   "nbconvert_exporter": "python",
   "pygments_lexer": "ipython3",
   "version": "3.12.0"
  }
 },
 "nbformat": 4,
 "nbformat_minor": 2
}
