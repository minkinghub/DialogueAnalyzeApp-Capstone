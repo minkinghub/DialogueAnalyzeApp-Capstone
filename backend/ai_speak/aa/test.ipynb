{
 "cells": [
  {
   "cell_type": "code",
   "execution_count": 4,
   "metadata": {},
   "outputs": [
    {
     "name": "stdout",
     "output_type": "stream",
     "text": [
      "[('어', 'Eomi'), ('저기', 'Noun'), ('그러니까', 'Adverb'), ('제', 'Noun'), ('가', 'Josa'), ('집', 'Noun'), ('에', 'Josa'), ('가다가', 'Noun'), ('어', 'Eomi'), ('어수선한', 'Adjective'), ('그림자', 'Noun'), ('를', 'Josa'), ('발견', 'Noun'), ('해서요', 'Verb'), ('음', 'Noun'), ('신고', 'Noun'), ('하려고', 'Verb'), ('해', 'Noun'), ('요', 'Josa')]\n"
     ]
    }
   ],
   "source": [
    "import konlpy\n",
    "import re\n",
    "from konlpy.tag import Kkma, Komoran, Hannanum, Okt\n",
    "\n",
    "\n",
    "okt = Okt()\n",
    "text = '어 저기 그러니까 제가 집에 가다가 어 어수선한 그림자를 발견해서요 음 신고하려고 해요'\n",
    "\n",
    "print(okt.pos(text))"
   ]
  },
  {
   "cell_type": "code",
   "execution_count": 9,
   "metadata": {},
   "outputs": [
    {
     "name": "stdout",
     "output_type": "stream",
     "text": [
      "저기 제 가 집 에 가다가 어수선한 그림자 를 발견 해서요 음 신고 하려고 해 요\n"
     ]
    }
   ],
   "source": [
    "import konlpy\n",
    "from konlpy.tag import Okt\n",
    "\n",
    "okt = Okt()\n",
    "text = '어 저기 그러니까 제가 집에 가다가 어 어수선한 그림자를 발견해서요 음 신고하려고 해요'\n",
    "\n",
    "# 간투사 제거\n",
    "filtered_text = ' '.join([word for word, tag in okt.pos(text) if tag not in ['Eomi', 'Adverb']])\n",
    "\n",
    "print(filtered_text)\n",
    "# 출력: '저기 제 가 집 에 가다가 어수선한 그림자 를 발견 해서요 음 신고 하려고 해 요'\n"
   ]
  },
  {
   "cell_type": "code",
   "execution_count": 5,
   "metadata": {},
   "outputs": [
    {
     "name": "stdout",
     "output_type": "stream",
     "text": [
      "pos 품사 추출 : [('중간고사', 'Noun'), ('점수', 'Noun'), ('내', 'Noun'), ('가', 'Josa'), ('반', 'Noun'), ('에서', 'Josa'), ('제일', 'Noun'), ('잘', 'Verb'), ('받음', 'Verb')]\n",
      "morphs 형태소 추출 : ['중간고사', '점수', '내', '가', '반', '에서', '제일', '잘', '받음']\n",
      "nouns 명사 추출 : ['중간고사', '점수', '내', '반', '제일']\n",
      "phrases 구 추출 : ['중간고사', '중간고사 점수', '중간고사 점수 내', '제일', '점수']\n"
     ]
    }
   ],
   "source": [
    "from konlpy.tag import Okt\n",
    "\n",
    "okt = Okt()\n",
    "\n",
    "print(f\"pos 품사 추출 : {okt.pos('중간고사 점수 내가 반에서 제일 잘 받음')}\")\n",
    "print(f\"morphs 형태소 추출 : {okt.morphs('중간고사 점수 내가 반에서 제일 잘 받음')}\")\n",
    "print(f\"nouns 명사 추출 : {okt.nouns('중간고사 점수 내가 반에서 제일 잘 받음')}\")\n",
    "print(f\"phrases 구 추출 : {okt.phrases('중간고사 점수 내가 반에서 제일 잘 받음')}\")"
   ]
  },
  {
   "cell_type": "code",
   "execution_count": 6,
   "metadata": {},
   "outputs": [
    {
     "name": "stdout",
     "output_type": "stream",
     "text": [
      "[('순', 'Modifier'), ('대국', 'Noun'), ('먹고', 'Verb'), ('싶다', 'Verb'), ('.', 'Punctuation')]\n",
      "[('순', 'Modifier'), ('댓', 'Modifier'), ('국', 'Noun'), ('먹고', 'Verb'), ('싶다', 'Verb'), ('.', 'Punctuation')]\n",
      "[('패스트', 'Noun'), ('파이브', 'Noun'), ('에서', 'Josa'), ('일', 'Noun'), ('을', 'Josa'), ('합니다', 'Verb'), ('.', 'Punctuation')]\n",
      "[('아이오', 'Noun'), ('아이', 'Noun'), ('는', 'Josa'), ('정말', 'Noun'), ('이뻐요', 'Adjective'), ('.', 'Punctuation')]\n"
     ]
    }
   ],
   "source": [
    "from konlpy.tag import Okt\n",
    "\n",
    "okt = Okt()\n",
    "\n",
    "print(okt.pos(\"순대국 먹고 싶다.\"))\n",
    "print(okt.pos(\"순댓국 먹고 싶다.\"))\n",
    "print(okt.pos(\"패스트파이브에서 일을 합니다.\"))\n",
    "print(okt.pos(\"아이오아이는 정말 이뻐요.\"))"
   ]
  }
 ],
 "metadata": {
  "kernelspec": {
   "display_name": "tensor",
   "language": "python",
   "name": "python3"
  },
  "language_info": {
   "codemirror_mode": {
    "name": "ipython",
    "version": 3
   },
   "file_extension": ".py",
   "mimetype": "text/x-python",
   "name": "python",
   "nbconvert_exporter": "python",
   "pygments_lexer": "ipython3",
   "version": "3.10.13"
  }
 },
 "nbformat": 4,
 "nbformat_minor": 2
}
