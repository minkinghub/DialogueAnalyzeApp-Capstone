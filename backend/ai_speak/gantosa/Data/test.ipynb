{
 "cells": [
  {
   "cell_type": "code",
   "execution_count": 25,
   "metadata": {},
   "outputs": [],
   "source": [
    "# from google.cloud import storage\n",
    "# import os\n",
    "\n",
    "# os.environ[\"GOOGLE_APPLICATION_CREDENTIALS\"] = \"C:/final_project/CalendarRecipe-Capstone/backend/ai_speak/gantosa/Data/sst.json\"\n",
    "# storage_client = storage.Client()\n",
    "# buckets = list(storage_client.list_buckets())\n",
    "\n",
    "# print(buckets)"
   ]
  },
  {
   "cell_type": "code",
   "execution_count": 26,
   "metadata": {},
   "outputs": [],
   "source": [
    "import os\n",
    "\n",
    "os.environ[\"GOOGLE_APPLICATION_CREDENTIALS\"] = \"C:/final_project/CalendarRecipe-Capstone/backend/ai_speak/gantosa/Data/sst.json\""
   ]
  },
  {
   "cell_type": "code",
   "execution_count": 27,
   "metadata": {},
   "outputs": [],
   "source": [
    "# from google.cloud import storage\n",
    "\n",
    "# bucket_name = 'speech_to_text_save'    # 서비스 계정 생성한 bucket 이름 입력\n",
    "# source_file_name = 'C:/final_project/CalendarRecipe-Capstone/backend/ai_speak/gantosa/Data/c.m4a'    # GCP에 업로드할 파일 절대경로\n",
    "# destination_blob_name = 'test.m4a'    # 업로드할 파일을 GCP에 저장할 때의 이름\n",
    "\n",
    "\n",
    "# storage_client = storage.Client()\n",
    "# bucket = storage_client.bucket(bucket_name)\n",
    "# blob = bucket.blob(destination_blob_name)\n",
    "\n",
    "# blob.upload_from_filename(source_file_name)"
   ]
  },
  {
   "cell_type": "code",
   "execution_count": 28,
   "metadata": {},
   "outputs": [],
   "source": [
    "from google.cloud import speech_v1p1beta1 as speech\n",
    "\n",
    "client = speech.SpeechClient()\n",
    "\n",
    "audio = speech.RecognitionAudio(uri=f'gs://speech_to_text_save/test.m4a')\n",
    "config = speech.RecognitionConfig(\n",
    "    encoding=speech.RecognitionConfig.AudioEncoding.FLAC,\n",
    "    sample_rate_hertz=16000,\n",
    "    language_code='en-US',\n",
    "    enable_speaker_diarization=True,\n",
    "    diarization_speaker_count=3,\n",
    ")\n",
    "\n",
    "operation = client.long_running_recognize(config=config, audio=audio)\n",
    "response = operation.result(timeout=7200)\n",
    "\n",
    "for result in response.results:\n",
    "    alternative = result.alternatives[0]\n",
    "    print(f'Transcript: {alternative.transcript}')\n",
    "    print(f'Confidence: {alternative.confidence}')\n",
    "    for word in alternative.words:\n",
    "        print(f'Word: {word.word}')\n",
    "        print(f'Speaker tag: {word.speaker_tag}')\n",
    "        print(f'Start time: {word.start_time}')\n",
    "        print(f'End time: {word.end_time}')\n"
   ]
  },
  {
   "cell_type": "code",
   "execution_count": 29,
   "metadata": {},
   "outputs": [
    {
     "ename": "KeyboardInterrupt",
     "evalue": "",
     "output_type": "error",
     "traceback": [
      "\u001b[1;31m---------------------------------------------------------------------------\u001b[0m",
      "\u001b[1;31m_OperationNotComplete\u001b[0m                     Traceback (most recent call last)",
      "File \u001b[1;32mc:\\Users\\jhy97\\anaconda3\\envs\\tensor\\lib\\site-packages\\google\\api_core\\retry\\retry_unary.py:144\u001b[0m, in \u001b[0;36mretry_target\u001b[1;34m(target, predicate, sleep_generator, timeout, on_error, exception_factory, **kwargs)\u001b[0m\n\u001b[0;32m    143\u001b[0m \u001b[38;5;28;01mtry\u001b[39;00m:\n\u001b[1;32m--> 144\u001b[0m     result \u001b[38;5;241m=\u001b[39m \u001b[43mtarget\u001b[49m\u001b[43m(\u001b[49m\u001b[43m)\u001b[49m\n\u001b[0;32m    145\u001b[0m     \u001b[38;5;28;01mif\u001b[39;00m inspect\u001b[38;5;241m.\u001b[39misawaitable(result):\n",
      "File \u001b[1;32mc:\\Users\\jhy97\\anaconda3\\envs\\tensor\\lib\\site-packages\\google\\api_core\\future\\polling.py:120\u001b[0m, in \u001b[0;36mPollingFuture._done_or_raise\u001b[1;34m(self, retry)\u001b[0m\n\u001b[0;32m    119\u001b[0m \u001b[38;5;28;01mif\u001b[39;00m \u001b[38;5;129;01mnot\u001b[39;00m \u001b[38;5;28mself\u001b[39m\u001b[38;5;241m.\u001b[39mdone(retry\u001b[38;5;241m=\u001b[39mretry):\n\u001b[1;32m--> 120\u001b[0m     \u001b[38;5;28;01mraise\u001b[39;00m _OperationNotComplete()\n",
      "\u001b[1;31m_OperationNotComplete\u001b[0m: ",
      "\nDuring handling of the above exception, another exception occurred:\n",
      "\u001b[1;31mKeyboardInterrupt\u001b[0m                         Traceback (most recent call last)",
      "Cell \u001b[1;32mIn[29], line 1\u001b[0m\n\u001b[1;32m----> 1\u001b[0m response \u001b[38;5;241m=\u001b[39m \u001b[43moperation\u001b[49m\u001b[38;5;241;43m.\u001b[39;49m\u001b[43mresult\u001b[49m\u001b[43m(\u001b[49m\u001b[43mtimeout\u001b[49m\u001b[38;5;241;43m=\u001b[39;49m\u001b[38;5;241;43m3600\u001b[39;49m\u001b[43m)\u001b[49m\n\u001b[0;32m      3\u001b[0m \u001b[38;5;28;01mfor\u001b[39;00m result \u001b[38;5;129;01min\u001b[39;00m response\u001b[38;5;241m.\u001b[39mresults:\n\u001b[0;32m      4\u001b[0m     alternative \u001b[38;5;241m=\u001b[39m result\u001b[38;5;241m.\u001b[39malternatives[\u001b[38;5;241m0\u001b[39m]\n",
      "File \u001b[1;32mc:\\Users\\jhy97\\anaconda3\\envs\\tensor\\lib\\site-packages\\google\\api_core\\future\\polling.py:256\u001b[0m, in \u001b[0;36mPollingFuture.result\u001b[1;34m(self, timeout, retry, polling)\u001b[0m\n\u001b[0;32m    144\u001b[0m \u001b[38;5;28;01mdef\u001b[39;00m \u001b[38;5;21mresult\u001b[39m(\u001b[38;5;28mself\u001b[39m, timeout\u001b[38;5;241m=\u001b[39m_DEFAULT_VALUE, retry\u001b[38;5;241m=\u001b[39m\u001b[38;5;28;01mNone\u001b[39;00m, polling\u001b[38;5;241m=\u001b[39m\u001b[38;5;28;01mNone\u001b[39;00m):\n\u001b[0;32m    145\u001b[0m \u001b[38;5;250m    \u001b[39m\u001b[38;5;124;03m\"\"\"Get the result of the operation.\u001b[39;00m\n\u001b[0;32m    146\u001b[0m \n\u001b[0;32m    147\u001b[0m \u001b[38;5;124;03m    This method will poll for operation status periodically, blocking if\u001b[39;00m\n\u001b[1;32m   (...)\u001b[0m\n\u001b[0;32m    253\u001b[0m \u001b[38;5;124;03m            the timeout is reached before the operation completes.\u001b[39;00m\n\u001b[0;32m    254\u001b[0m \u001b[38;5;124;03m    \"\"\"\u001b[39;00m\n\u001b[1;32m--> 256\u001b[0m     \u001b[38;5;28;43mself\u001b[39;49m\u001b[38;5;241;43m.\u001b[39;49m\u001b[43m_blocking_poll\u001b[49m\u001b[43m(\u001b[49m\u001b[43mtimeout\u001b[49m\u001b[38;5;241;43m=\u001b[39;49m\u001b[43mtimeout\u001b[49m\u001b[43m,\u001b[49m\u001b[43m \u001b[49m\u001b[43mretry\u001b[49m\u001b[38;5;241;43m=\u001b[39;49m\u001b[43mretry\u001b[49m\u001b[43m,\u001b[49m\u001b[43m \u001b[49m\u001b[43mpolling\u001b[49m\u001b[38;5;241;43m=\u001b[39;49m\u001b[43mpolling\u001b[49m\u001b[43m)\u001b[49m\n\u001b[0;32m    258\u001b[0m     \u001b[38;5;28;01mif\u001b[39;00m \u001b[38;5;28mself\u001b[39m\u001b[38;5;241m.\u001b[39m_exception \u001b[38;5;129;01mis\u001b[39;00m \u001b[38;5;129;01mnot\u001b[39;00m \u001b[38;5;28;01mNone\u001b[39;00m:\n\u001b[0;32m    259\u001b[0m         \u001b[38;5;66;03m# pylint: disable=raising-bad-type\u001b[39;00m\n\u001b[0;32m    260\u001b[0m         \u001b[38;5;66;03m# Pylint doesn't recognize that this is valid in this case.\u001b[39;00m\n\u001b[0;32m    261\u001b[0m         \u001b[38;5;28;01mraise\u001b[39;00m \u001b[38;5;28mself\u001b[39m\u001b[38;5;241m.\u001b[39m_exception\n",
      "File \u001b[1;32mc:\\Users\\jhy97\\anaconda3\\envs\\tensor\\lib\\site-packages\\google\\api_core\\future\\polling.py:137\u001b[0m, in \u001b[0;36mPollingFuture._blocking_poll\u001b[1;34m(self, timeout, retry, polling)\u001b[0m\n\u001b[0;32m    134\u001b[0m     polling \u001b[38;5;241m=\u001b[39m polling\u001b[38;5;241m.\u001b[39mwith_timeout(timeout)\n\u001b[0;32m    136\u001b[0m \u001b[38;5;28;01mtry\u001b[39;00m:\n\u001b[1;32m--> 137\u001b[0m     \u001b[43mpolling\u001b[49m\u001b[43m(\u001b[49m\u001b[38;5;28;43mself\u001b[39;49m\u001b[38;5;241;43m.\u001b[39;49m\u001b[43m_done_or_raise\u001b[49m\u001b[43m)\u001b[49m\u001b[43m(\u001b[49m\u001b[43mretry\u001b[49m\u001b[38;5;241;43m=\u001b[39;49m\u001b[43mretry\u001b[49m\u001b[43m)\u001b[49m\n\u001b[0;32m    138\u001b[0m \u001b[38;5;28;01mexcept\u001b[39;00m exceptions\u001b[38;5;241m.\u001b[39mRetryError:\n\u001b[0;32m    139\u001b[0m     \u001b[38;5;28;01mraise\u001b[39;00m concurrent\u001b[38;5;241m.\u001b[39mfutures\u001b[38;5;241m.\u001b[39mTimeoutError(\n\u001b[0;32m    140\u001b[0m         \u001b[38;5;124mf\u001b[39m\u001b[38;5;124m\"\u001b[39m\u001b[38;5;124mOperation did not complete within the designated timeout of \u001b[39m\u001b[38;5;124m\"\u001b[39m\n\u001b[0;32m    141\u001b[0m         \u001b[38;5;124mf\u001b[39m\u001b[38;5;124m\"\u001b[39m\u001b[38;5;132;01m{\u001b[39;00mpolling\u001b[38;5;241m.\u001b[39mtimeout\u001b[38;5;132;01m}\u001b[39;00m\u001b[38;5;124m seconds.\u001b[39m\u001b[38;5;124m\"\u001b[39m\n\u001b[0;32m    142\u001b[0m     )\n",
      "File \u001b[1;32mc:\\Users\\jhy97\\anaconda3\\envs\\tensor\\lib\\site-packages\\google\\api_core\\retry\\retry_unary.py:293\u001b[0m, in \u001b[0;36mRetry.__call__.<locals>.retry_wrapped_func\u001b[1;34m(*args, **kwargs)\u001b[0m\n\u001b[0;32m    289\u001b[0m target \u001b[38;5;241m=\u001b[39m functools\u001b[38;5;241m.\u001b[39mpartial(func, \u001b[38;5;241m*\u001b[39margs, \u001b[38;5;241m*\u001b[39m\u001b[38;5;241m*\u001b[39mkwargs)\n\u001b[0;32m    290\u001b[0m sleep_generator \u001b[38;5;241m=\u001b[39m exponential_sleep_generator(\n\u001b[0;32m    291\u001b[0m     \u001b[38;5;28mself\u001b[39m\u001b[38;5;241m.\u001b[39m_initial, \u001b[38;5;28mself\u001b[39m\u001b[38;5;241m.\u001b[39m_maximum, multiplier\u001b[38;5;241m=\u001b[39m\u001b[38;5;28mself\u001b[39m\u001b[38;5;241m.\u001b[39m_multiplier\n\u001b[0;32m    292\u001b[0m )\n\u001b[1;32m--> 293\u001b[0m \u001b[38;5;28;01mreturn\u001b[39;00m \u001b[43mretry_target\u001b[49m\u001b[43m(\u001b[49m\n\u001b[0;32m    294\u001b[0m \u001b[43m    \u001b[49m\u001b[43mtarget\u001b[49m\u001b[43m,\u001b[49m\n\u001b[0;32m    295\u001b[0m \u001b[43m    \u001b[49m\u001b[38;5;28;43mself\u001b[39;49m\u001b[38;5;241;43m.\u001b[39;49m\u001b[43m_predicate\u001b[49m\u001b[43m,\u001b[49m\n\u001b[0;32m    296\u001b[0m \u001b[43m    \u001b[49m\u001b[43msleep_generator\u001b[49m\u001b[43m,\u001b[49m\n\u001b[0;32m    297\u001b[0m \u001b[43m    \u001b[49m\u001b[43mtimeout\u001b[49m\u001b[38;5;241;43m=\u001b[39;49m\u001b[38;5;28;43mself\u001b[39;49m\u001b[38;5;241;43m.\u001b[39;49m\u001b[43m_timeout\u001b[49m\u001b[43m,\u001b[49m\n\u001b[0;32m    298\u001b[0m \u001b[43m    \u001b[49m\u001b[43mon_error\u001b[49m\u001b[38;5;241;43m=\u001b[39;49m\u001b[43mon_error\u001b[49m\u001b[43m,\u001b[49m\n\u001b[0;32m    299\u001b[0m \u001b[43m\u001b[49m\u001b[43m)\u001b[49m\n",
      "File \u001b[1;32mc:\\Users\\jhy97\\anaconda3\\envs\\tensor\\lib\\site-packages\\google\\api_core\\retry\\retry_unary.py:164\u001b[0m, in \u001b[0;36mretry_target\u001b[1;34m(target, predicate, sleep_generator, timeout, on_error, exception_factory, **kwargs)\u001b[0m\n\u001b[0;32m    153\u001b[0m         _retry_error_helper(\n\u001b[0;32m    154\u001b[0m             exc,\n\u001b[0;32m    155\u001b[0m             deadline,\n\u001b[1;32m   (...)\u001b[0m\n\u001b[0;32m    161\u001b[0m             timeout,\n\u001b[0;32m    162\u001b[0m         )\n\u001b[0;32m    163\u001b[0m         \u001b[38;5;66;03m# if exception not raised, sleep before next attempt\u001b[39;00m\n\u001b[1;32m--> 164\u001b[0m         \u001b[43mtime\u001b[49m\u001b[38;5;241;43m.\u001b[39;49m\u001b[43msleep\u001b[49m\u001b[43m(\u001b[49m\u001b[43msleep\u001b[49m\u001b[43m)\u001b[49m\n\u001b[0;32m    166\u001b[0m \u001b[38;5;28;01mraise\u001b[39;00m \u001b[38;5;167;01mValueError\u001b[39;00m(\u001b[38;5;124m\"\u001b[39m\u001b[38;5;124mSleep generator stopped yielding sleep values.\u001b[39m\u001b[38;5;124m\"\u001b[39m)\n",
      "\u001b[1;31mKeyboardInterrupt\u001b[0m: "
     ]
    }
   ],
   "source": [
    "with open('transcription_with_speakers.txt', 'w', encoding='utf-8') as f:\n",
    "    for result in response.results:\n",
    "        alternative = result.alternatives[0]\n",
    "        for word in alternative.words:\n",
    "            f.write(f'{word.word} ({word.speaker_tag}) ')\n",
    "        f.write('\\n')\n"
   ]
  },
  {
   "cell_type": "code",
   "execution_count": null,
   "metadata": {},
   "outputs": [
    {
     "name": "stdout",
     "output_type": "stream",
     "text": [
      "변환된 텍스트: 아음 제가 집에 가려고 하는데 말이죠 그 뭐냐 부채가 제 눈앞에 떨어져서 아팠어요\n"
     ]
    }
   ],
   "source": [
    "# import speech_recognition as sr\n",
    "# from pydub import AudioSegment\n",
    "\n",
    "# def convert_audio_to_text(audio_file):\n",
    "#     # 오디오 파일 로드\n",
    "#     audio = AudioSegment.from_file(audio_file, format=\"m4a\")\n",
    "    \n",
    "#     # 오디오를 WAV 형식으로 변환\n",
    "#     audio.export(\"temp.wav\", format=\"wav\")\n",
    "    \n",
    "#     # 음성 인식기 생성\n",
    "#     recognizer = sr.Recognizer()\n",
    "    \n",
    "#     # WAV 파일 열기\n",
    "#     with sr.AudioFile(\"temp.wav\") as source:\n",
    "#         audio_data = recognizer.record(source)\n",
    "    \n",
    "#     try:\n",
    "#         # Google Speech Recognition을 사용하여 텍스트로 변환\n",
    "#         text = recognizer.recognize_google(audio_data, language=\"ko-KR\")\n",
    "#         print(\"변환된 텍스트:\", text)\n",
    "#     except sr.UnknownValueError:\n",
    "#         print(\"음성을 인식할 수 없습니다.\")\n",
    "#     except sr.RequestError:\n",
    "#         print(\"Google Speech Recognition 서비스에 접근할 수 없습니다.\")\n",
    "\n",
    "# # 음성 파일을 텍스트로 변환하는 함수 호출\n",
    "# convert_audio_to_text(\"b.m4a\")\n"
   ]
  },
  {
   "cell_type": "code",
   "execution_count": null,
   "metadata": {},
   "outputs": [
    {
     "name": "stdout",
     "output_type": "stream",
     "text": [
      "변환된 텍스트:\n",
      "아 제가 집에 가려고 하는데 말이죠 대본 야 부채가 내 눈 앞에 떨어져서 아팠어요 \n",
      "\n",
      "원문 그대로의 텍스트: 아음 제가 집에 가려고 하는데 말이죠 그 뭐냐 부채가 제 눈앞에 떨어져서 아팠어요\n"
     ]
    }
   ],
   "source": [
    "# import speech_recognition as sr\n",
    "# from pydub import AudioSegment\n",
    "# import os\n",
    "\n",
    "# # Google Cloud Speech-to-Text API 키 설정\n",
    "# os.environ[\"GOOGLE_APPLICATION_CREDENTIALS\"] = \"C:/final_project/CalendarRecipe-Capstone/backend/ai_speak/gantosa/Data/sst.json\"\n",
    "\n",
    "# def convert_audio_to_text(audio_file):\n",
    "#     # 오디오 파일 로드\n",
    "#     audio = AudioSegment.from_file(audio_file, format=\"m4a\")\n",
    "    \n",
    "#     # 오디오를 WAV 형식으로 변환\n",
    "#     audio.export(\"temp.wav\", format=\"wav\")\n",
    "    \n",
    "#     # 음성 인식기 생성\n",
    "#     recognizer = sr.Recognizer()\n",
    "    \n",
    "#     # WAV 파일 열기\n",
    "#     with sr.AudioFile(\"temp.wav\") as source:\n",
    "#         audio_data = recognizer.record(source)\n",
    "    \n",
    "#     try:\n",
    "#         # Google Cloud Speech-to-Text API를 사용하여 텍스트로 변환 (문장 단위)\n",
    "#         text = recognizer.recognize_google_cloud(audio_data, language=\"ko-KR\")\n",
    "#         print(\"변환된 텍스트:\")\n",
    "#         for sentence in text.split(\"\\n\"):\n",
    "#             print(sentence)\n",
    "        \n",
    "#         # Google Speech Recognition을 사용하여 텍스트로 변환 (원문 그대로)\n",
    "#         raw_text = recognizer.recognize_google(audio_data, language=\"ko-KR\")\n",
    "#         print(\"\\n원문 그대로의 텍스트:\", raw_text)\n",
    "#     except sr.UnknownValueError:\n",
    "#         print(\"음성을 인식할 수 없습니다.\")\n",
    "#     except sr.RequestError as e:\n",
    "#         print(\"Google Cloud Speech-to-Text API 서비스에 접근할 수 없습니다. 오류:\", e)\n",
    "\n",
    "# # 음성 파일을 텍스트로 변환하는 함수 호출\n",
    "# convert_audio_to_text(\"c.m4a\")\n"
   ]
  }
 ],
 "metadata": {
  "kernelspec": {
   "display_name": "tensor",
   "language": "python",
   "name": "python3"
  },
  "language_info": {
   "codemirror_mode": {
    "name": "ipython",
    "version": 3
   },
   "file_extension": ".py",
   "mimetype": "text/x-python",
   "name": "python",
   "nbconvert_exporter": "python",
   "pygments_lexer": "ipython3",
   "version": "3.10.13"
  }
 },
 "nbformat": 4,
 "nbformat_minor": 2
}
